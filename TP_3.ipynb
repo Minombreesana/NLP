{
 "cells": [
  {
   "cell_type": "markdown",
   "metadata": {
    "id": "sZd5yLnnHOK0"
   },
   "source": [
    "<img src=\"https://github.com/hernancontigiani/ceia_memorias_especializacion/raw/master/Figures/logoFIUBA.jpg\" width=\"500\" align=\"center\">\n",
    "\n",
    "\n",
    "# Procesamiento de lenguaje natural\n",
    "## Custom embedddings con Gensim\n",
    "\n"
   ]
  },
  {
   "cell_type": "markdown",
   "metadata": {
    "id": "vA7nqkumo9z9"
   },
   "source": [
    "### Objetivo\n",
    "El objetivo es utilizar documentos / corpus para crear embeddings de palabras basado en ese contexto. Se utiliziarán los siguientes poemas de Ursula K. Le Guin como corpus:\n",
    "\n",
    "-Leaves\n",
    "-Six Quatrains\n",
    "-To the train\n",
    "-Bats\n",
    "-Looking Back\n",
    "-How It Seems To Me\n",
    "-McCoy Creek: Cattle\n",
    "-Kinship\n",
    "-Theory of anging\n",
    "-The way\n",
    "-Hymn to time\n",
    "-The maenads\n",
    "-Read at the award dinner\n",
    "-Anonyma\n",
    "-Up in a cottonwood\n",
    "-On the second hill\n",
    "-Desire and fear\n",
    "-Coast range highway, November\n",
    "-The salt\n",
    "-Intimation\n",
    "-Every land\n",
    "-A Cannon beach crow album\n",
    "-Learning the name\n",
    "-Crows"
   ]
  },
  {
   "cell_type": "code",
   "execution_count": 2,
   "metadata": {
    "id": "lFToQs5FK5uZ"
   },
   "outputs": [],
   "source": [
    "import pandas as pd\n",
    "import matplotlib.pyplot as plt\n",
    "import seaborn as sns\n",
    "\n",
    "import multiprocessing\n",
    "from gensim.models import Word2Vec"
   ]
  },
  {
   "cell_type": "markdown",
   "metadata": {
    "id": "g07zJxG7H9vG"
   },
   "source": [
    "### Datos\n",
    "Utilizaremos como dataset poemas de Ursula K. Le Guin."
   ]
  },
  {
   "cell_type": "code",
   "execution_count": 3,
   "metadata": {
    "id": "mysGrIw9ljC2"
   },
   "outputs": [
    {
     "data": {
      "text/plain": [
       "['clothing_ecommerce_reviews.csv', 'nooscope.txt', 'ursulakleguin.txt']"
      ]
     },
     "execution_count": 3,
     "metadata": {},
     "output_type": "execute_result"
    }
   ],
   "source": [
    "import os\n",
    "import platform\n",
    "os.listdir(\"./Data/\")"
   ]
  },
  {
   "cell_type": "code",
   "execution_count": 4,
   "metadata": {
    "id": "ticoqYD1Z3I7"
   },
   "outputs": [
    {
     "data": {
      "text/html": [
       "<div>\n",
       "<style scoped>\n",
       "    .dataframe tbody tr th:only-of-type {\n",
       "        vertical-align: middle;\n",
       "    }\n",
       "\n",
       "    .dataframe tbody tr th {\n",
       "        vertical-align: top;\n",
       "    }\n",
       "\n",
       "    .dataframe thead th {\n",
       "        text-align: right;\n",
       "    }\n",
       "</style>\n",
       "<table border=\"1\" class=\"dataframe\">\n",
       "  <thead>\n",
       "    <tr style=\"text-align: right;\">\n",
       "      <th></th>\n",
       "      <th>0</th>\n",
       "    </tr>\n",
       "  </thead>\n",
       "  <tbody>\n",
       "    <tr>\n",
       "      <th>0</th>\n",
       "      <td>Years do odd things to identity.</td>\n",
       "    </tr>\n",
       "    <tr>\n",
       "      <th>1</th>\n",
       "      <td>What does it mean to say</td>\n",
       "    </tr>\n",
       "    <tr>\n",
       "      <th>2</th>\n",
       "      <td>I am that child in the photograph</td>\n",
       "    </tr>\n",
       "    <tr>\n",
       "      <th>3</th>\n",
       "      <td>at Kishamish in 1935?</td>\n",
       "    </tr>\n",
       "    <tr>\n",
       "      <th>4</th>\n",
       "      <td>Might as well say I am the shadow</td>\n",
       "    </tr>\n",
       "  </tbody>\n",
       "</table>\n",
       "</div>"
      ],
      "text/plain": [
       "                                   0\n",
       "0   Years do odd things to identity.\n",
       "1           What does it mean to say\n",
       "2  I am that child in the photograph\n",
       "3              at Kishamish in 1935?\n",
       "4  Might as well say I am the shadow"
      ]
     },
     "execution_count": 4,
     "metadata": {},
     "output_type": "execute_result"
    }
   ],
   "source": [
    "# Armar el dataset utilizando salto de línea para separar los versos\n",
    "df = pd.read_csv('Data/ursulakleguin.txt', sep='/n', header=None, engine='python')\n",
    "df.head()"
   ]
  },
  {
   "cell_type": "code",
   "execution_count": 5,
   "metadata": {
    "id": "LEpKubK9XzXN"
   },
   "outputs": [
    {
     "name": "stdout",
     "output_type": "stream",
     "text": [
      "Cantidad de documentos: 368\n"
     ]
    }
   ],
   "source": [
    "print(\"Cantidad de documentos:\", df.shape[0])"
   ]
  },
  {
   "cell_type": "markdown",
   "metadata": {
    "id": "ab94qaFlrA1G"
   },
   "source": [
    "### 1 - Preprocesamiento"
   ]
  },
  {
   "cell_type": "code",
   "execution_count": 6,
   "metadata": {
    "id": "rIsmMWmjrDHd"
   },
   "outputs": [],
   "source": [
    "from keras.preprocessing.text import text_to_word_sequence\n",
    "\n",
    "sentence_tokens = []\n",
    "# Recorrer todas las filas y transformar las oraciones\n",
    "# en una secuencia de palabras (esto podría realizarse con NLTK o spaCy también)\n",
    "for _, row in df[:None].iterrows():\n",
    "    sentence_tokens.append(text_to_word_sequence(row[0]))"
   ]
  },
  {
   "cell_type": "code",
   "execution_count": 7,
   "metadata": {
    "id": "CHepi_DGrbhq"
   },
   "outputs": [
    {
     "data": {
      "text/plain": [
       "[['years', 'do', 'odd', 'things', 'to', 'identity'],\n",
       " ['what', 'does', 'it', 'mean', 'to', 'say']]"
      ]
     },
     "execution_count": 7,
     "metadata": {},
     "output_type": "execute_result"
    }
   ],
   "source": [
    "# Demos un vistazo\n",
    "sentence_tokens[:2]"
   ]
  },
  {
   "cell_type": "markdown",
   "metadata": {
    "id": "BaXV6nlHr5Aa"
   },
   "source": [
    "### 2 - Crear los vectores (word2vec)"
   ]
  },
  {
   "cell_type": "code",
   "execution_count": 8,
   "metadata": {
    "id": "OSb0v7h8r7hK"
   },
   "outputs": [],
   "source": [
    "from gensim.models.callbacks import CallbackAny2Vec\n",
    "# Durante el entrenamiento gensim por defecto no informa el \"loss\" en cada época\n",
    "# Sobracargamos el callback para poder tener esta información\n",
    "class callback(CallbackAny2Vec):\n",
    "    \"\"\"\n",
    "    Callback to print loss after each epoch\n",
    "    \"\"\"\n",
    "    def __init__(self):\n",
    "        self.epoch = 0\n",
    "\n",
    "    def on_epoch_end(self, model):\n",
    "        loss = model.get_latest_training_loss()\n",
    "        if self.epoch == 0:\n",
    "            print('Loss after epoch {}: {}'.format(self.epoch, loss))\n",
    "        else:\n",
    "            print('Loss after epoch {}: {}'.format(self.epoch, loss- self.loss_previous_step))\n",
    "        self.epoch += 1\n",
    "        self.loss_previous_step = loss"
   ]
  },
  {
   "cell_type": "code",
   "execution_count": 9,
   "metadata": {
    "id": "i0wnDdv9sJ47"
   },
   "outputs": [],
   "source": [
    "# Crearmos el modelo generador de vectoeres\n",
    "# En este caso utilizaremos la estructura modelo Skipgram\n",
    "w2v_model = Word2Vec(min_count=2,    # frecuencia mínima de palabra para incluirla en el vocabulario\n",
    "                     window=2,       # cant de palabras antes y desp de la predicha\n",
    "                     vector_size=40,       # dimensionalidad de los vectores \n",
    "                     negative=20,    # cantidad de negative samples... 0 es no se usa\n",
    "                     workers=1,      # si tienen más cores pueden cambiar este valor\n",
    "                     sg=1)           # modelo 0:CBOW  1:skipgram"
   ]
  },
  {
   "cell_type": "code",
   "execution_count": 10,
   "metadata": {
    "id": "5lTt8wErsf17"
   },
   "outputs": [],
   "source": [
    "# Buildear el vocabularui con los tokens\n",
    "w2v_model.build_vocab(sentence_tokens)"
   ]
  },
  {
   "cell_type": "code",
   "execution_count": 11,
   "metadata": {
    "id": "TNc9qt4os5AT"
   },
   "outputs": [
    {
     "name": "stdout",
     "output_type": "stream",
     "text": [
      "Cantidad de docs en el corpus: 368\n"
     ]
    }
   ],
   "source": [
    "# Cantidad de filas/docs encontradas en el corpus\n",
    "print(\"Cantidad de docs en el corpus:\", w2v_model.corpus_count)"
   ]
  },
  {
   "cell_type": "code",
   "execution_count": 12,
   "metadata": {
    "id": "idw9cHF3tSMl"
   },
   "outputs": [
    {
     "name": "stdout",
     "output_type": "stream",
     "text": [
      "Cantidad de words distintas en el corpus: 274\n"
     ]
    }
   ],
   "source": [
    "# Cantidad de words encontradas en el corpus\n",
    "print(\"Cantidad de words distintas en el corpus:\", len(w2v_model.wv))"
   ]
  },
  {
   "cell_type": "markdown",
   "metadata": {
    "id": "fC9mZ8DPk-UC"
   },
   "source": [
    "### 3 - Entrenar el modelo generador"
   ]
  },
  {
   "cell_type": "code",
   "execution_count": 13,
   "metadata": {
    "id": "QSp-x0PAsq56"
   },
   "outputs": [
    {
     "name": "stdout",
     "output_type": "stream",
     "text": [
      "Loss after epoch 0: 20300.837890625\n",
      "Loss after epoch 1: 19977.306640625\n",
      "Loss after epoch 2: 16282.60546875\n",
      "Loss after epoch 3: 10511.96875\n",
      "Loss after epoch 4: 7019.390625\n",
      "Loss after epoch 5: 6354.4921875\n",
      "Loss after epoch 6: 5938.5546875\n",
      "Loss after epoch 7: 5971.5703125\n",
      "Loss after epoch 8: 5711.125\n",
      "Loss after epoch 9: 5494.7421875\n",
      "Loss after epoch 10: 5524.1953125\n",
      "Loss after epoch 11: 5504.203125\n",
      "Loss after epoch 12: 5616.1484375\n",
      "Loss after epoch 13: 5500.6328125\n",
      "Loss after epoch 14: 5751.1171875\n",
      "Loss after epoch 15: 5512.640625\n",
      "Loss after epoch 16: 5766.3125\n",
      "Loss after epoch 17: 5634.875\n",
      "Loss after epoch 18: 5824.078125\n",
      "Loss after epoch 19: 5478.78125\n",
      "Loss after epoch 20: 5581.734375\n",
      "Loss after epoch 21: 5479.8125\n",
      "Loss after epoch 22: 5616.265625\n",
      "Loss after epoch 23: 5839.59375\n",
      "Loss after epoch 24: 5801.296875\n",
      "Loss after epoch 25: 5562.359375\n",
      "Loss after epoch 26: 5570.4375\n",
      "Loss after epoch 27: 5689.359375\n",
      "Loss after epoch 28: 5706.703125\n",
      "Loss after epoch 29: 5452.1875\n",
      "Loss after epoch 30: 5432.0\n",
      "Loss after epoch 31: 5563.953125\n",
      "Loss after epoch 32: 5381.375\n",
      "Loss after epoch 33: 5555.34375\n",
      "Loss after epoch 34: 5583.953125\n",
      "Loss after epoch 35: 5596.140625\n",
      "Loss after epoch 36: 5609.265625\n",
      "Loss after epoch 37: 5550.5\n",
      "Loss after epoch 38: 5466.828125\n",
      "Loss after epoch 39: 5503.3125\n",
      "Loss after epoch 40: 5402.5625\n",
      "Loss after epoch 41: 4959.5\n",
      "Loss after epoch 42: 5537.75\n",
      "Loss after epoch 43: 5563.3125\n",
      "Loss after epoch 44: 5225.125\n",
      "Loss after epoch 45: 4974.71875\n",
      "Loss after epoch 46: 5326.1875\n",
      "Loss after epoch 47: 5061.125\n",
      "Loss after epoch 48: 5052.59375\n",
      "Loss after epoch 49: 5031.40625\n",
      "Loss after epoch 50: 5010.25\n",
      "Loss after epoch 51: 5047.375\n",
      "Loss after epoch 52: 4869.3125\n",
      "Loss after epoch 53: 5080.75\n",
      "Loss after epoch 54: 4949.40625\n",
      "Loss after epoch 55: 4723.84375\n",
      "Loss after epoch 56: 4833.0\n",
      "Loss after epoch 57: 4730.34375\n",
      "Loss after epoch 58: 4765.875\n",
      "Loss after epoch 59: 4933.4375\n",
      "Loss after epoch 60: 4602.4375\n",
      "Loss after epoch 61: 4649.09375\n",
      "Loss after epoch 62: 4358.59375\n",
      "Loss after epoch 63: 4661.90625\n",
      "Loss after epoch 64: 4495.40625\n",
      "Loss after epoch 65: 4258.84375\n",
      "Loss after epoch 66: 4257.6875\n",
      "Loss after epoch 67: 4325.3125\n",
      "Loss after epoch 68: 4429.96875\n",
      "Loss after epoch 69: 4068.03125\n",
      "Loss after epoch 70: 4302.0625\n",
      "Loss after epoch 71: 3961.5625\n",
      "Loss after epoch 72: 3918.34375\n",
      "Loss after epoch 73: 3736.84375\n",
      "Loss after epoch 74: 3890.5\n",
      "Loss after epoch 75: 4117.6875\n",
      "Loss after epoch 76: 3670.65625\n",
      "Loss after epoch 77: 3782.65625\n",
      "Loss after epoch 78: 3704.1875\n",
      "Loss after epoch 79: 3656.21875\n",
      "Loss after epoch 80: 3613.75\n",
      "Loss after epoch 81: 3984.125\n",
      "Loss after epoch 82: 3638.96875\n",
      "Loss after epoch 83: 3563.59375\n",
      "Loss after epoch 84: 3702.28125\n",
      "Loss after epoch 85: 3399.40625\n",
      "Loss after epoch 86: 3676.0625\n",
      "Loss after epoch 87: 3299.90625\n",
      "Loss after epoch 88: 3175.8125\n",
      "Loss after epoch 89: 3353.03125\n",
      "Loss after epoch 90: 3271.21875\n",
      "Loss after epoch 91: 3355.8125\n",
      "Loss after epoch 92: 3341.0\n",
      "Loss after epoch 93: 3502.34375\n",
      "Loss after epoch 94: 3219.4375\n",
      "Loss after epoch 95: 3194.59375\n",
      "Loss after epoch 96: 3177.8125\n",
      "Loss after epoch 97: 3129.3125\n",
      "Loss after epoch 98: 3343.3125\n",
      "Loss after epoch 99: 3446.40625\n",
      "Loss after epoch 100: 3206.25\n",
      "Loss after epoch 101: 2912.75\n",
      "Loss after epoch 102: 3028.4375\n",
      "Loss after epoch 103: 2853.8125\n",
      "Loss after epoch 104: 3098.8125\n",
      "Loss after epoch 105: 3200.875\n",
      "Loss after epoch 106: 2689.9375\n",
      "Loss after epoch 107: 2687.9375\n",
      "Loss after epoch 108: 2927.375\n",
      "Loss after epoch 109: 2988.3125\n",
      "Loss after epoch 110: 2847.75\n",
      "Loss after epoch 111: 2729.6875\n",
      "Loss after epoch 112: 2783.375\n",
      "Loss after epoch 113: 2793.75\n",
      "Loss after epoch 114: 2692.625\n",
      "Loss after epoch 115: 2538.3125\n",
      "Loss after epoch 116: 2758.25\n",
      "Loss after epoch 117: 2587.25\n",
      "Loss after epoch 118: 2657.375\n",
      "Loss after epoch 119: 2742.5625\n",
      "Loss after epoch 120: 2541.625\n",
      "Loss after epoch 121: 2758.5\n",
      "Loss after epoch 122: 2713.1875\n",
      "Loss after epoch 123: 2389.125\n",
      "Loss after epoch 124: 2679.25\n",
      "Loss after epoch 125: 2658.4375\n",
      "Loss after epoch 126: 2715.625\n",
      "Loss after epoch 127: 2653.75\n",
      "Loss after epoch 128: 2873.3125\n",
      "Loss after epoch 129: 2651.0625\n",
      "Loss after epoch 130: 2698.4375\n",
      "Loss after epoch 131: 2639.1875\n",
      "Loss after epoch 132: 2636.8125\n",
      "Loss after epoch 133: 2483.125\n",
      "Loss after epoch 134: 2491.3125\n",
      "Loss after epoch 135: 2681.0625\n",
      "Loss after epoch 136: 2652.3125\n",
      "Loss after epoch 137: 2656.625\n",
      "Loss after epoch 138: 2697.9375\n",
      "Loss after epoch 139: 2559.3125\n",
      "Loss after epoch 140: 2366.375\n",
      "Loss after epoch 141: 2680.3125\n",
      "Loss after epoch 142: 2354.125\n",
      "Loss after epoch 143: 2661.3125\n",
      "Loss after epoch 144: 2534.1875\n",
      "Loss after epoch 145: 2583.6875\n",
      "Loss after epoch 146: 2445.375\n",
      "Loss after epoch 147: 2699.875\n",
      "Loss after epoch 148: 2329.8125\n",
      "Loss after epoch 149: 2441.625\n",
      "Loss after epoch 150: 2543.5\n",
      "Loss after epoch 151: 2489.0\n",
      "Loss after epoch 152: 2516.0625\n",
      "Loss after epoch 153: 2465.6875\n",
      "Loss after epoch 154: 2360.3125\n",
      "Loss after epoch 155: 2443.375\n",
      "Loss after epoch 156: 2503.6875\n",
      "Loss after epoch 157: 2638.625\n",
      "Loss after epoch 158: 2437.3125\n",
      "Loss after epoch 159: 2589.75\n",
      "Loss after epoch 160: 2709.5\n",
      "Loss after epoch 161: 2471.9375\n",
      "Loss after epoch 162: 2347.375\n",
      "Loss after epoch 163: 2420.3125\n",
      "Loss after epoch 164: 2133.4375\n",
      "Loss after epoch 165: 2245.4375\n",
      "Loss after epoch 166: 2445.5625\n",
      "Loss after epoch 167: 2458.0\n",
      "Loss after epoch 168: 2335.5\n",
      "Loss after epoch 169: 2467.0\n",
      "Loss after epoch 170: 2341.875\n",
      "Loss after epoch 171: 2517.25\n",
      "Loss after epoch 172: 2413.4375\n",
      "Loss after epoch 173: 2535.25\n",
      "Loss after epoch 174: 2479.0625\n",
      "Loss after epoch 175: 2396.875\n",
      "Loss after epoch 176: 2391.3125\n",
      "Loss after epoch 177: 2327.6875\n",
      "Loss after epoch 178: 2561.5\n",
      "Loss after epoch 179: 2621.875\n",
      "Loss after epoch 180: 2354.0\n",
      "Loss after epoch 181: 2544.0625\n",
      "Loss after epoch 182: 2406.75\n",
      "Loss after epoch 183: 2406.1875\n",
      "Loss after epoch 184: 2295.375\n",
      "Loss after epoch 185: 2411.5625\n",
      "Loss after epoch 186: 2428.0\n",
      "Loss after epoch 187: 2669.75\n",
      "Loss after epoch 188: 2349.9375\n",
      "Loss after epoch 189: 2309.875\n",
      "Loss after epoch 190: 2600.375\n",
      "Loss after epoch 191: 2412.625\n",
      "Loss after epoch 192: 2533.1875\n",
      "Loss after epoch 193: 2457.625\n",
      "Loss after epoch 194: 2459.25\n",
      "Loss after epoch 195: 2293.75\n",
      "Loss after epoch 196: 2379.75\n",
      "Loss after epoch 197: 2359.375\n",
      "Loss after epoch 198: 2546.3125\n",
      "Loss after epoch 199: 2395.0\n"
     ]
    },
    {
     "data": {
      "text/plain": [
       "(173648, 406200)"
      ]
     },
     "execution_count": 13,
     "metadata": {},
     "output_type": "execute_result"
    }
   ],
   "source": [
    "# Entrenamos el modelo generador de vectores\n",
    "# Utilizamos nuestro callback\n",
    "w2v_model.train(sentence_tokens,\n",
    "                 total_examples=w2v_model.corpus_count,\n",
    "                 epochs=200,\n",
    "                 compute_loss = True,\n",
    "                 callbacks=[callback()]\n",
    "                 )"
   ]
  },
  {
   "cell_type": "markdown",
   "metadata": {
    "id": "ddT9NVuNlCAe"
   },
   "source": [
    "### 4 - Ensayar"
   ]
  },
  {
   "cell_type": "markdown",
   "metadata": {},
   "source": [
    "Podemos buscar la cercanía de ciertas palabras relacionadas con la naturaleza, ya que Le Guin da gran importancia al conocimiento de la misma y como dicho conocimiento abre paso a diferentes culturas (para mantener viva la discusión sobre naturaleza vs cultura tan vigente en la Antropología clásica)."
   ]
  },
  {
   "cell_type": "code",
   "execution_count": 18,
   "metadata": {
    "id": "6cHN9xGLuPEm"
   },
   "outputs": [
    {
     "data": {
      "text/plain": [
       "[('through', 0.8789553642272949),\n",
       " ('slowly', 0.7342729568481445),\n",
       " ('old', 0.71395343542099),\n",
       " ('woman', 0.7060281038284302),\n",
       " ('forest', 0.6790982484817505),\n",
       " ('twilight', 0.676645815372467),\n",
       " ('wings', 0.6630838513374329),\n",
       " ('age', 0.6564452052116394),\n",
       " ('autumn', 0.6529855728149414),\n",
       " ('falling', 0.6472907662391663)]"
      ]
     },
     "execution_count": 18,
     "metadata": {},
     "output_type": "execute_result"
    }
   ],
   "source": [
    "# Palabras que MÁS se relacionan con...:\n",
    "w2v_model.wv.most_similar(positive=[\"trees\"], topn=10)"
   ]
  },
  {
   "cell_type": "code",
   "execution_count": 27,
   "metadata": {
    "id": "47HiU5gdkdMq"
   },
   "outputs": [
    {
     "data": {
      "text/plain": [
       "[('moment', 0.9716211557388306),\n",
       " ('holy', 0.9330572485923767),\n",
       " ('every', 0.912818968296051),\n",
       " ('radiance', 0.7349435091018677),\n",
       " ('is', 0.7310202717781067),\n",
       " ('dead', 0.7121484279632568),\n",
       " ('there', 0.6870577335357666),\n",
       " ('shining', 0.6785123348236084),\n",
       " ('dust', 0.6569544076919556),\n",
       " ('bear', 0.65621417760849)]"
      ]
     },
     "execution_count": 27,
     "metadata": {},
     "output_type": "execute_result"
    }
   ],
   "source": [
    "# Palabras que MENOS se relacionan con...:\n",
    "w2v_model.wv.most_similar(positive=[\"land\"], topn=10)"
   ]
  },
  {
   "cell_type": "code",
   "execution_count": 78,
   "metadata": {
    "id": "DT4Rvno2mD65"
   },
   "outputs": [
    {
     "data": {
      "text/plain": [
       "[('bird', 0.8252364993095398),\n",
       " ('going', 0.6510608196258545),\n",
       " ('light', 0.6440236568450928),\n",
       " ('sit', 0.6319989562034607),\n",
       " ('home', 0.6093012094497681),\n",
       " ('autumn', 0.5976971983909607),\n",
       " ('wind', 0.5916298627853394),\n",
       " ('rimrock', 0.5910196900367737),\n",
       " ('sand', 0.5899736285209656),\n",
       " ('grey', 0.5895016193389893)]"
      ]
     },
     "execution_count": 78,
     "metadata": {},
     "output_type": "execute_result"
    }
   ],
   "source": [
    "# Palabras que MÁS se relacionan con...:\n",
    "w2v_model.wv.most_similar(positive=[\"dark\"], topn=10)"
   ]
  },
  {
   "cell_type": "code",
   "execution_count": 79,
   "metadata": {
    "id": "XPLDPgzBmQXt"
   },
   "outputs": [
    {
     "data": {
      "text/plain": [
       "[('home', 0.8101037740707397),\n",
       " ('happy', 0.8064088821411133),\n",
       " ('go', 0.7251759767532349),\n",
       " ('down', 0.6939199566841125),\n",
       " ('woman', 0.6580080986022949)]"
      ]
     },
     "execution_count": 79,
     "metadata": {},
     "output_type": "execute_result"
    }
   ],
   "source": [
    "# Palabras que MÁS se relacionan con...:\n",
    "w2v_model.wv.most_similar(positive=[\"still\"], topn=5)"
   ]
  },
  {
   "cell_type": "code",
   "execution_count": 80,
   "metadata": {
    "id": "L_UvHPMMklOr"
   },
   "outputs": [
    {
     "data": {
      "text/plain": [
       "[('in', 0.08286332339048386),\n",
       " ('that', 0.00042860390385612845),\n",
       " ('at', -0.022469859570264816),\n",
       " ('shadows', -0.06383362412452698),\n",
       " ('leaves', -0.06749285012483597),\n",
       " ('to', -0.0987805724143982),\n",
       " ('wings', -0.10029339045286179),\n",
       " ('salt', -0.12174148857593536),\n",
       " ('flying', -0.12252240628004074),\n",
       " ('flickering', -0.12752129137516022)]"
      ]
     },
     "execution_count": 80,
     "metadata": {},
     "output_type": "execute_result"
    }
   ],
   "source": [
    "# Ensayar con una palabra que no está en el corpus (en vocab):\n",
    "w2v_model.wv.most_similar(negative=[\"night\"])"
   ]
  },
  {
   "cell_type": "markdown",
   "metadata": {},
   "source": [
    "- Es interesante como aparecen palabras como \"old\", \"woman\" o \"dream\" cercanas a \"tree\" dado que en muchos de estos poemas Le Guin habla de si misma en una relación muy estrecha con la naturaleza, como podemos ver en el poema \"leaves\": \n",
    "\n",
    "\"Might as well say I am the shadow, of a leaf of the acacia tree\" \n",
    "\n",
    "- También podemos observar que en ocaciones parece contradictorio cuando vemos las palabras cercanas a \"dark\" y las más lejanas a \"night\" que en teoría podrían ser dos palabras cercanas entre ellas, sin embargo vemos como \"wings\" es lejana para \"night\" pero \"bird\" es cercana a \"dark\". Esto podría darse debido al uso de figuras literarias como la metáfora o el símil que alteran la relación semántica entre palabras. Por ejemplo \"Day and night are much the same\", o \"first wave of the dark tide coming in\".\n",
    "\n",
    "\n",
    "- Hay algo muy conmovedor cuando se analizan las apalbras \"land\" y \"still\", porque en toda la literatura de Ursula, la tierra y la permanencia en el hogar son lugares muy importantes en la creación de sus mundos de ciencia ficción, eso podemos verlo también en sus poemas. Ver las palabras cercanas como \"dead\", \"home\", \"happy\" o \"shining\" realmente dan cuenta de la importancia del hogar en su literatura. \n",
    "\n",
    "\"Remember me before I was a heap of salt, the laughing child who seldom did as she was told or came when she was called, the merry girl who became Lot’s bride, the happy woman who loved her wicked city. Do not remember me with pity.\""
   ]
  },
  {
   "cell_type": "markdown",
   "metadata": {
    "id": "_g8UVWe6lFmh"
   },
   "source": [
    "### 5 - Visualizar agrupación de vectores"
   ]
  },
  {
   "cell_type": "code",
   "execution_count": 22,
   "metadata": {
    "id": "pDxEVXAivjr9"
   },
   "outputs": [],
   "source": [
    "from sklearn.decomposition import IncrementalPCA    \n",
    "from sklearn.manifold import TSNE                   \n",
    "import numpy as np                                  \n",
    "\n",
    "def reduce_dimensions(model):\n",
    "    num_dimensions = 2  \n",
    "\n",
    "    vectors = np.asarray(model.wv.vectors)\n",
    "    labels = np.asarray(model.wv.index_to_key)  \n",
    "\n",
    "    tsne = TSNE(n_components=num_dimensions, random_state=0)\n",
    "    vectors = tsne.fit_transform(vectors)\n",
    "\n",
    "    x_vals = [v[0] for v in vectors]\n",
    "    y_vals = [v[1] for v in vectors]\n",
    "    return x_vals, y_vals, labels"
   ]
  },
  {
   "cell_type": "code",
   "execution_count": 28,
   "metadata": {
    "id": "NCCXtDpcugmd"
   },
   "outputs": [
    {
     "name": "stderr",
     "output_type": "stream",
     "text": [
      "D:\\FACULTAD\\ESPECIALIZACIÓN\\4. CUARTO BIMESTRE\\NLP\\env\\lib\\site-packages\\sklearn\\manifold\\_t_sne.py:800: FutureWarning:\n",
      "\n",
      "The default initialization in TSNE will change from 'random' to 'pca' in 1.2.\n",
      "\n",
      "D:\\FACULTAD\\ESPECIALIZACIÓN\\4. CUARTO BIMESTRE\\NLP\\env\\lib\\site-packages\\sklearn\\manifold\\_t_sne.py:810: FutureWarning:\n",
      "\n",
      "The default learning rate in TSNE will change from 200.0 to 'auto' in 1.2.\n",
      "\n"
     ]
    },
    {
     "data": {
      "application/vnd.plotly.v1+json": {
       "config": {
        "plotlyServerURL": "https://plot.ly"
       },
       "data": [
        {
         "hovertemplate": "x=%{x}<br>y=%{y}<br>text=%{text}<extra></extra>",
         "legendgroup": "",
         "marker": {
          "color": "#636efa",
          "symbol": "circle"
         },
         "mode": "markers+text",
         "name": "",
         "orientation": "v",
         "showlegend": false,
         "text": [
          "the",
          "and",
          "of",
          "in",
          "to",
          "a",
          "i",
          "that",
          "is",
          "on",
          "as",
          "with",
          "it",
          "all",
          "but",
          "crow",
          "long",
          "way",
          "are",
          "they",
          "my",
          "not",
          "be",
          "their",
          "time",
          "crows",
          "me",
          "when",
          "wind",
          "light",
          "up",
          "like",
          "or",
          "was",
          "into",
          "no",
          "still",
          "one",
          "them",
          "leaves",
          "tree",
          "you",
          "at",
          "silent",
          "little",
          "will",
          "who",
          "than",
          "black",
          "every",
          "dark",
          "an",
          "land",
          "night",
          "by",
          "heavy",
          "its",
          "come",
          "from",
          "if",
          "see",
          "now",
          "over",
          "am",
          "would",
          "years",
          "were",
          "having",
          "gold",
          "bright",
          "willow",
          "coming",
          "rock",
          "soul",
          "self",
          "back",
          "dead",
          "earth",
          "evening",
          "before",
          "this",
          "rain",
          "old",
          "where",
          "being",
          "out",
          "your",
          "through",
          "flying",
          "child",
          "do",
          "broken",
          "there",
          "for",
          "mind",
          "going",
          "year",
          "hill",
          "word",
          "death",
          "blood",
          "holy",
          "sand",
          "her",
          "call",
          "always",
          "they’re",
          "itself",
          "willows",
          "sky",
          "forest",
          "say",
          "great",
          "local",
          "dream",
          "what",
          "us",
          "sea",
          "twilight",
          "california",
          "after",
          "soft",
          "leaf",
          "so",
          "words",
          "other",
          "we",
          "shadow",
          "ago",
          "she",
          "snow",
          "know",
          "stand",
          "branch",
          "road",
          "anyone",
          "cannot",
          "it’s",
          "talk",
          "grass",
          "flit",
          "falling",
          "read",
          "doing",
          "softer",
          "house",
          "waters",
          "scary",
          "wrote",
          "return",
          "fragments",
          "eye",
          "cast",
          "feel",
          "root",
          "sink",
          "body",
          "close",
          "under",
          "trees",
          "owl",
          "hissing",
          "crashing",
          "water",
          "heard",
          "nobody",
          "well",
          "poem",
          "autumn",
          "might",
          "voltaire",
          "string",
          "never",
          "anything",
          "why",
          "color",
          "anarchy",
          "caw",
          "clear",
          "flicker",
          "restless",
          "tell",
          "cry",
          "moment",
          "hail",
          "cark",
          "pet",
          "answers",
          "thrush",
          "went",
          "cows",
          "life",
          "fire",
          "bird",
          "die",
          "bear",
          "around",
          "shadows",
          "slowly",
          "short"
         ],
         "type": "scatter",
         "x": [
          -1.9344043,
          -0.5121778,
          -2.0675807,
          1.051668,
          -9.605607,
          -15.280584,
          4.4224076,
          -0.2730317,
          4.9834747,
          -11.805942,
          15.984062,
          -3.1943362,
          2.5369914,
          11.816443,
          -3.3184383,
          9.4985895,
          9.9567995,
          -5.2080584,
          -10.304497,
          8.949454,
          -1.6554437,
          10.166338,
          -11.72894,
          5.849379,
          -4.0698943,
          -12.747074,
          0.34298667,
          1.3290774,
          4.807221,
          4.1080422,
          -17.108627,
          -15.864547,
          -2.8248847,
          1.7411935,
          12.069348,
          1.8866491,
          6.683282,
          -9.705051,
          -4.973491,
          0.5658572,
          -7.804835,
          0.2206332,
          -2.443886,
          -3.3356106,
          -15.787935,
          -0.42572075,
          10.136552,
          6.4855337,
          13.797207,
          7.0419984,
          3.6822925,
          16.644108,
          6.750021,
          0.6627214,
          7.1381555,
          15.980607,
          -1.3911921,
          -12.013852,
          -5.9157314,
          -0.7844055,
          -2.7613482,
          3.008327,
          -6.1322517,
          5.0930915,
          -10.349299,
          9.309866,
          -7.015951,
          -13.542642,
          -5.3707514,
          17.008797,
          7.3416,
          -10.36828,
          3.411515,
          -0.528756,
          -4.893775,
          12.033568,
          6.2439017,
          5.3847003,
          7.1081185,
          -5.321602,
          -5.333669,
          6.0981755,
          -8.342414,
          -3.786316,
          -2.612599,
          -8.140409,
          1.3720982,
          -7.2894225,
          -6.9266276,
          -6.3352113,
          9.833813,
          2.784596,
          -0.6906682,
          -8.96561,
          -2.1510003,
          -10.339165,
          2.0023546,
          -4.2199073,
          -14.417862,
          3.8475447,
          2.0759363,
          7.197661,
          3.296717,
          -5.5196724,
          12.8890295,
          -7.6554275,
          -17.141338,
          2.6993237,
          1.2052282,
          3.1182184,
          -5.3499107,
          5.505639,
          -4.5873194,
          4.8938813,
          -8.561285,
          2.6307344,
          -6.9379983,
          7.2906756,
          -8.391605,
          -8.584367,
          11.161081,
          -14.941699,
          -10.946524,
          11.620382,
          4.6159334,
          13.080338,
          -14.644047,
          5.553987,
          6.8660526,
          3.3111002,
          5.1717963,
          -0.7712838,
          -1.2062179,
          -10.225667,
          6.77245,
          -4.703959,
          3.1341403,
          1.768941,
          14.483652,
          -0.53092784,
          14.927029,
          -4.702169,
          4.0037007,
          -5.6003513,
          6.4892526,
          -0.40303433,
          -3.6502426,
          -16.541756,
          5.9892993,
          -1.9333142,
          15.582678,
          16.577093,
          15.212986,
          -10.011176,
          -10.223285,
          8.512394,
          -8.56005,
          -16.686766,
          2.5798945,
          -7.161554,
          4.6742754,
          -5.878358,
          -5.633234,
          6.5742373,
          -4.5441747,
          -14.8895035,
          6.109055,
          5.5938325,
          -0.8610018,
          6.106585,
          -13.795649,
          -13.647607,
          -15.011843,
          16.586193,
          -9.209409,
          -11.383613,
          -11.533952,
          13.540603,
          -13.586718,
          -4.696251,
          -14.501332,
          7.810659,
          3.2129517,
          6.162597,
          2.7952256,
          13.669891,
          -12.184772,
          -15.100527,
          3.1551015,
          -5.9759645,
          0.5196736,
          2.977959,
          2.700607,
          3.9214408,
          -0.4761262,
          -7.216429,
          9.284942,
          1.4541816,
          1.2455558,
          -0.5030129
         ],
         "xaxis": "x",
         "y": [
          0.3403869,
          -1.5335156,
          2.4908373,
          1.0010425,
          12.360069,
          -1.0519677,
          8.268989,
          1.8760388,
          4.0707254,
          5.529318,
          -0.39068672,
          -1.2589543,
          7.332714,
          1.300637,
          0.97868943,
          -2.3434064,
          1.0927496,
          -1.6858047,
          -11.475137,
          11.412787,
          5.1081643,
          3.8051746,
          10.447386,
          -10.5344,
          -14.076788,
          -11.194999,
          -4.2527213,
          11.489505,
          -1.3128421,
          -0.075483896,
          -4.0710893,
          6.7223725,
          11.362438,
          14.053761,
          -0.45761377,
          4.038506,
          -8.043305,
          -2.748769,
          3.9927452,
          3.1896386,
          2.4328992,
          7.927004,
          -3.7355514,
          -0.6994554,
          -3.3605037,
          -6.961193,
          -10.175042,
          -12.933662,
          4.9327607,
          2.7835355,
          -1.1651752,
          -3.2045062,
          3.0952358,
          -1.2877103,
          -0.108708076,
          5.5613327,
          -11.523918,
          -3.0192811,
          13.117938,
          13.156859,
          13.590155,
          5.147867,
          14.025817,
          11.137848,
          9.130161,
          7.6004815,
          -0.31049627,
          7.8555546,
          11.126818,
          -1.8347245,
          -1.7284267,
          -8.328198,
          -7.865026,
          -12.910546,
          -11.70593,
          -2.3770332,
          5.7382293,
          0.8616704,
          -14.050025,
          -4.510416,
          8.887404,
          -4.874837,
          8.541741,
          5.882262,
          -10.648718,
          -11.51717,
          -7.285439,
          7.0393224,
          4.668005,
          15.943257,
          5.5405045,
          -9.731491,
          -9.52255,
          -6.03704,
          4.020578,
          -7.8351245,
          -2.3555462,
          7.339072,
          1.5852572,
          -8.61711,
          -8.441966,
          2.8829896,
          -8.3843355,
          -7.727483,
          8.789976,
          -2.5953138,
          -2.754254,
          -3.1004887,
          -5.4174747,
          1.3807064,
          6.311446,
          9.669179,
          10.072377,
          14.973803,
          5.3537188,
          8.642053,
          -14.62511,
          6.9525228,
          5.636307,
          5.0391555,
          0.25766984,
          -6.0002165,
          2.0372827,
          -7.4874716,
          12.406653,
          9.970734,
          -6.9686174,
          7.0099397,
          13.043458,
          13.175086,
          -4.3068457,
          14.963247,
          -4.860918,
          2.2491977,
          -5.401819,
          -3.6868498,
          9.078871,
          -11.418312,
          7.7495203,
          10.774013,
          8.383603,
          2.2281451,
          12.474387,
          -1.0975055,
          -13.382322,
          -6.024749,
          5.4452496,
          -3.056506,
          13.224843,
          -14.334365,
          6.080589,
          -1.6789525,
          6.3520656,
          -0.101167105,
          1.5528833,
          7.075372,
          -1.5166125,
          -3.2270613,
          -7.8799806,
          7.0847754,
          -14.260816,
          0.36455482,
          -0.13252105,
          -1.0156784,
          -3.527833,
          1.245731,
          10.026455,
          14.154234,
          -0.06715549,
          9.960432,
          7.35897,
          7.3847156,
          1.4267144,
          -1.5511587,
          9.313218,
          -11.180819,
          -11.162088,
          8.992213,
          -5.806028,
          4.0509157,
          -6.633815,
          -2.3181663,
          7.9183855,
          2.98878,
          1.094292,
          9.008053,
          8.69387,
          2.0055451,
          5.8737025,
          3.7410676,
          -0.50380987,
          -6.39324,
          -6.0242567,
          -0.70929575,
          1.271122,
          -15.576281,
          5.395259,
          2.9244041,
          4.4465895,
          10.761764
         ],
         "yaxis": "y"
        }
       ],
       "layout": {
        "legend": {
         "tracegroupgap": 0
        },
        "margin": {
         "t": 60
        },
        "template": {
         "data": {
          "bar": [
           {
            "error_x": {
             "color": "#2a3f5f"
            },
            "error_y": {
             "color": "#2a3f5f"
            },
            "marker": {
             "line": {
              "color": "#E5ECF6",
              "width": 0.5
             },
             "pattern": {
              "fillmode": "overlay",
              "size": 10,
              "solidity": 0.2
             }
            },
            "type": "bar"
           }
          ],
          "barpolar": [
           {
            "marker": {
             "line": {
              "color": "#E5ECF6",
              "width": 0.5
             },
             "pattern": {
              "fillmode": "overlay",
              "size": 10,
              "solidity": 0.2
             }
            },
            "type": "barpolar"
           }
          ],
          "carpet": [
           {
            "aaxis": {
             "endlinecolor": "#2a3f5f",
             "gridcolor": "white",
             "linecolor": "white",
             "minorgridcolor": "white",
             "startlinecolor": "#2a3f5f"
            },
            "baxis": {
             "endlinecolor": "#2a3f5f",
             "gridcolor": "white",
             "linecolor": "white",
             "minorgridcolor": "white",
             "startlinecolor": "#2a3f5f"
            },
            "type": "carpet"
           }
          ],
          "choropleth": [
           {
            "colorbar": {
             "outlinewidth": 0,
             "ticks": ""
            },
            "type": "choropleth"
           }
          ],
          "contour": [
           {
            "colorbar": {
             "outlinewidth": 0,
             "ticks": ""
            },
            "colorscale": [
             [
              0,
              "#0d0887"
             ],
             [
              0.1111111111111111,
              "#46039f"
             ],
             [
              0.2222222222222222,
              "#7201a8"
             ],
             [
              0.3333333333333333,
              "#9c179e"
             ],
             [
              0.4444444444444444,
              "#bd3786"
             ],
             [
              0.5555555555555556,
              "#d8576b"
             ],
             [
              0.6666666666666666,
              "#ed7953"
             ],
             [
              0.7777777777777778,
              "#fb9f3a"
             ],
             [
              0.8888888888888888,
              "#fdca26"
             ],
             [
              1,
              "#f0f921"
             ]
            ],
            "type": "contour"
           }
          ],
          "contourcarpet": [
           {
            "colorbar": {
             "outlinewidth": 0,
             "ticks": ""
            },
            "type": "contourcarpet"
           }
          ],
          "heatmap": [
           {
            "colorbar": {
             "outlinewidth": 0,
             "ticks": ""
            },
            "colorscale": [
             [
              0,
              "#0d0887"
             ],
             [
              0.1111111111111111,
              "#46039f"
             ],
             [
              0.2222222222222222,
              "#7201a8"
             ],
             [
              0.3333333333333333,
              "#9c179e"
             ],
             [
              0.4444444444444444,
              "#bd3786"
             ],
             [
              0.5555555555555556,
              "#d8576b"
             ],
             [
              0.6666666666666666,
              "#ed7953"
             ],
             [
              0.7777777777777778,
              "#fb9f3a"
             ],
             [
              0.8888888888888888,
              "#fdca26"
             ],
             [
              1,
              "#f0f921"
             ]
            ],
            "type": "heatmap"
           }
          ],
          "heatmapgl": [
           {
            "colorbar": {
             "outlinewidth": 0,
             "ticks": ""
            },
            "colorscale": [
             [
              0,
              "#0d0887"
             ],
             [
              0.1111111111111111,
              "#46039f"
             ],
             [
              0.2222222222222222,
              "#7201a8"
             ],
             [
              0.3333333333333333,
              "#9c179e"
             ],
             [
              0.4444444444444444,
              "#bd3786"
             ],
             [
              0.5555555555555556,
              "#d8576b"
             ],
             [
              0.6666666666666666,
              "#ed7953"
             ],
             [
              0.7777777777777778,
              "#fb9f3a"
             ],
             [
              0.8888888888888888,
              "#fdca26"
             ],
             [
              1,
              "#f0f921"
             ]
            ],
            "type": "heatmapgl"
           }
          ],
          "histogram": [
           {
            "marker": {
             "pattern": {
              "fillmode": "overlay",
              "size": 10,
              "solidity": 0.2
             }
            },
            "type": "histogram"
           }
          ],
          "histogram2d": [
           {
            "colorbar": {
             "outlinewidth": 0,
             "ticks": ""
            },
            "colorscale": [
             [
              0,
              "#0d0887"
             ],
             [
              0.1111111111111111,
              "#46039f"
             ],
             [
              0.2222222222222222,
              "#7201a8"
             ],
             [
              0.3333333333333333,
              "#9c179e"
             ],
             [
              0.4444444444444444,
              "#bd3786"
             ],
             [
              0.5555555555555556,
              "#d8576b"
             ],
             [
              0.6666666666666666,
              "#ed7953"
             ],
             [
              0.7777777777777778,
              "#fb9f3a"
             ],
             [
              0.8888888888888888,
              "#fdca26"
             ],
             [
              1,
              "#f0f921"
             ]
            ],
            "type": "histogram2d"
           }
          ],
          "histogram2dcontour": [
           {
            "colorbar": {
             "outlinewidth": 0,
             "ticks": ""
            },
            "colorscale": [
             [
              0,
              "#0d0887"
             ],
             [
              0.1111111111111111,
              "#46039f"
             ],
             [
              0.2222222222222222,
              "#7201a8"
             ],
             [
              0.3333333333333333,
              "#9c179e"
             ],
             [
              0.4444444444444444,
              "#bd3786"
             ],
             [
              0.5555555555555556,
              "#d8576b"
             ],
             [
              0.6666666666666666,
              "#ed7953"
             ],
             [
              0.7777777777777778,
              "#fb9f3a"
             ],
             [
              0.8888888888888888,
              "#fdca26"
             ],
             [
              1,
              "#f0f921"
             ]
            ],
            "type": "histogram2dcontour"
           }
          ],
          "mesh3d": [
           {
            "colorbar": {
             "outlinewidth": 0,
             "ticks": ""
            },
            "type": "mesh3d"
           }
          ],
          "parcoords": [
           {
            "line": {
             "colorbar": {
              "outlinewidth": 0,
              "ticks": ""
             }
            },
            "type": "parcoords"
           }
          ],
          "pie": [
           {
            "automargin": true,
            "type": "pie"
           }
          ],
          "scatter": [
           {
            "fillpattern": {
             "fillmode": "overlay",
             "size": 10,
             "solidity": 0.2
            },
            "type": "scatter"
           }
          ],
          "scatter3d": [
           {
            "line": {
             "colorbar": {
              "outlinewidth": 0,
              "ticks": ""
             }
            },
            "marker": {
             "colorbar": {
              "outlinewidth": 0,
              "ticks": ""
             }
            },
            "type": "scatter3d"
           }
          ],
          "scattercarpet": [
           {
            "marker": {
             "colorbar": {
              "outlinewidth": 0,
              "ticks": ""
             }
            },
            "type": "scattercarpet"
           }
          ],
          "scattergeo": [
           {
            "marker": {
             "colorbar": {
              "outlinewidth": 0,
              "ticks": ""
             }
            },
            "type": "scattergeo"
           }
          ],
          "scattergl": [
           {
            "marker": {
             "colorbar": {
              "outlinewidth": 0,
              "ticks": ""
             }
            },
            "type": "scattergl"
           }
          ],
          "scattermapbox": [
           {
            "marker": {
             "colorbar": {
              "outlinewidth": 0,
              "ticks": ""
             }
            },
            "type": "scattermapbox"
           }
          ],
          "scatterpolar": [
           {
            "marker": {
             "colorbar": {
              "outlinewidth": 0,
              "ticks": ""
             }
            },
            "type": "scatterpolar"
           }
          ],
          "scatterpolargl": [
           {
            "marker": {
             "colorbar": {
              "outlinewidth": 0,
              "ticks": ""
             }
            },
            "type": "scatterpolargl"
           }
          ],
          "scatterternary": [
           {
            "marker": {
             "colorbar": {
              "outlinewidth": 0,
              "ticks": ""
             }
            },
            "type": "scatterternary"
           }
          ],
          "surface": [
           {
            "colorbar": {
             "outlinewidth": 0,
             "ticks": ""
            },
            "colorscale": [
             [
              0,
              "#0d0887"
             ],
             [
              0.1111111111111111,
              "#46039f"
             ],
             [
              0.2222222222222222,
              "#7201a8"
             ],
             [
              0.3333333333333333,
              "#9c179e"
             ],
             [
              0.4444444444444444,
              "#bd3786"
             ],
             [
              0.5555555555555556,
              "#d8576b"
             ],
             [
              0.6666666666666666,
              "#ed7953"
             ],
             [
              0.7777777777777778,
              "#fb9f3a"
             ],
             [
              0.8888888888888888,
              "#fdca26"
             ],
             [
              1,
              "#f0f921"
             ]
            ],
            "type": "surface"
           }
          ],
          "table": [
           {
            "cells": {
             "fill": {
              "color": "#EBF0F8"
             },
             "line": {
              "color": "white"
             }
            },
            "header": {
             "fill": {
              "color": "#C8D4E3"
             },
             "line": {
              "color": "white"
             }
            },
            "type": "table"
           }
          ]
         },
         "layout": {
          "annotationdefaults": {
           "arrowcolor": "#2a3f5f",
           "arrowhead": 0,
           "arrowwidth": 1
          },
          "autotypenumbers": "strict",
          "coloraxis": {
           "colorbar": {
            "outlinewidth": 0,
            "ticks": ""
           }
          },
          "colorscale": {
           "diverging": [
            [
             0,
             "#8e0152"
            ],
            [
             0.1,
             "#c51b7d"
            ],
            [
             0.2,
             "#de77ae"
            ],
            [
             0.3,
             "#f1b6da"
            ],
            [
             0.4,
             "#fde0ef"
            ],
            [
             0.5,
             "#f7f7f7"
            ],
            [
             0.6,
             "#e6f5d0"
            ],
            [
             0.7,
             "#b8e186"
            ],
            [
             0.8,
             "#7fbc41"
            ],
            [
             0.9,
             "#4d9221"
            ],
            [
             1,
             "#276419"
            ]
           ],
           "sequential": [
            [
             0,
             "#0d0887"
            ],
            [
             0.1111111111111111,
             "#46039f"
            ],
            [
             0.2222222222222222,
             "#7201a8"
            ],
            [
             0.3333333333333333,
             "#9c179e"
            ],
            [
             0.4444444444444444,
             "#bd3786"
            ],
            [
             0.5555555555555556,
             "#d8576b"
            ],
            [
             0.6666666666666666,
             "#ed7953"
            ],
            [
             0.7777777777777778,
             "#fb9f3a"
            ],
            [
             0.8888888888888888,
             "#fdca26"
            ],
            [
             1,
             "#f0f921"
            ]
           ],
           "sequentialminus": [
            [
             0,
             "#0d0887"
            ],
            [
             0.1111111111111111,
             "#46039f"
            ],
            [
             0.2222222222222222,
             "#7201a8"
            ],
            [
             0.3333333333333333,
             "#9c179e"
            ],
            [
             0.4444444444444444,
             "#bd3786"
            ],
            [
             0.5555555555555556,
             "#d8576b"
            ],
            [
             0.6666666666666666,
             "#ed7953"
            ],
            [
             0.7777777777777778,
             "#fb9f3a"
            ],
            [
             0.8888888888888888,
             "#fdca26"
            ],
            [
             1,
             "#f0f921"
            ]
           ]
          },
          "colorway": [
           "#636efa",
           "#EF553B",
           "#00cc96",
           "#ab63fa",
           "#FFA15A",
           "#19d3f3",
           "#FF6692",
           "#B6E880",
           "#FF97FF",
           "#FECB52"
          ],
          "font": {
           "color": "#2a3f5f"
          },
          "geo": {
           "bgcolor": "white",
           "lakecolor": "white",
           "landcolor": "#E5ECF6",
           "showlakes": true,
           "showland": true,
           "subunitcolor": "white"
          },
          "hoverlabel": {
           "align": "left"
          },
          "hovermode": "closest",
          "mapbox": {
           "style": "light"
          },
          "paper_bgcolor": "white",
          "plot_bgcolor": "#E5ECF6",
          "polar": {
           "angularaxis": {
            "gridcolor": "white",
            "linecolor": "white",
            "ticks": ""
           },
           "bgcolor": "#E5ECF6",
           "radialaxis": {
            "gridcolor": "white",
            "linecolor": "white",
            "ticks": ""
           }
          },
          "scene": {
           "xaxis": {
            "backgroundcolor": "#E5ECF6",
            "gridcolor": "white",
            "gridwidth": 2,
            "linecolor": "white",
            "showbackground": true,
            "ticks": "",
            "zerolinecolor": "white"
           },
           "yaxis": {
            "backgroundcolor": "#E5ECF6",
            "gridcolor": "white",
            "gridwidth": 2,
            "linecolor": "white",
            "showbackground": true,
            "ticks": "",
            "zerolinecolor": "white"
           },
           "zaxis": {
            "backgroundcolor": "#E5ECF6",
            "gridcolor": "white",
            "gridwidth": 2,
            "linecolor": "white",
            "showbackground": true,
            "ticks": "",
            "zerolinecolor": "white"
           }
          },
          "shapedefaults": {
           "line": {
            "color": "#2a3f5f"
           }
          },
          "ternary": {
           "aaxis": {
            "gridcolor": "white",
            "linecolor": "white",
            "ticks": ""
           },
           "baxis": {
            "gridcolor": "white",
            "linecolor": "white",
            "ticks": ""
           },
           "bgcolor": "#E5ECF6",
           "caxis": {
            "gridcolor": "white",
            "linecolor": "white",
            "ticks": ""
           }
          },
          "title": {
           "x": 0.05
          },
          "xaxis": {
           "automargin": true,
           "gridcolor": "white",
           "linecolor": "white",
           "ticks": "",
           "title": {
            "standoff": 15
           },
           "zerolinecolor": "white",
           "zerolinewidth": 2
          },
          "yaxis": {
           "automargin": true,
           "gridcolor": "white",
           "linecolor": "white",
           "ticks": "",
           "title": {
            "standoff": 15
           },
           "zerolinecolor": "white",
           "zerolinewidth": 2
          }
         }
        },
        "xaxis": {
         "anchor": "y",
         "domain": [
          0,
          1
         ],
         "title": {
          "text": "x"
         }
        },
        "yaxis": {
         "anchor": "x",
         "domain": [
          0,
          1
         ],
         "title": {
          "text": "y"
         }
        }
       }
      },
      "text/html": [
       "<div>                            <div id=\"61c4b4bf-44a6-4787-9c53-ee6ce20ed68e\" class=\"plotly-graph-div\" style=\"height:525px; width:100%;\"></div>            <script type=\"text/javascript\">                require([\"plotly\"], function(Plotly) {                    window.PLOTLYENV=window.PLOTLYENV || {};                                    if (document.getElementById(\"61c4b4bf-44a6-4787-9c53-ee6ce20ed68e\")) {                    Plotly.newPlot(                        \"61c4b4bf-44a6-4787-9c53-ee6ce20ed68e\",                        [{\"hovertemplate\":\"x=%{x}<br>y=%{y}<br>text=%{text}<extra></extra>\",\"legendgroup\":\"\",\"marker\":{\"color\":\"#636efa\",\"symbol\":\"circle\"},\"mode\":\"markers+text\",\"name\":\"\",\"orientation\":\"v\",\"showlegend\":false,\"text\":[\"the\",\"and\",\"of\",\"in\",\"to\",\"a\",\"i\",\"that\",\"is\",\"on\",\"as\",\"with\",\"it\",\"all\",\"but\",\"crow\",\"long\",\"way\",\"are\",\"they\",\"my\",\"not\",\"be\",\"their\",\"time\",\"crows\",\"me\",\"when\",\"wind\",\"light\",\"up\",\"like\",\"or\",\"was\",\"into\",\"no\",\"still\",\"one\",\"them\",\"leaves\",\"tree\",\"you\",\"at\",\"silent\",\"little\",\"will\",\"who\",\"than\",\"black\",\"every\",\"dark\",\"an\",\"land\",\"night\",\"by\",\"heavy\",\"its\",\"come\",\"from\",\"if\",\"see\",\"now\",\"over\",\"am\",\"would\",\"years\",\"were\",\"having\",\"gold\",\"bright\",\"willow\",\"coming\",\"rock\",\"soul\",\"self\",\"back\",\"dead\",\"earth\",\"evening\",\"before\",\"this\",\"rain\",\"old\",\"where\",\"being\",\"out\",\"your\",\"through\",\"flying\",\"child\",\"do\",\"broken\",\"there\",\"for\",\"mind\",\"going\",\"year\",\"hill\",\"word\",\"death\",\"blood\",\"holy\",\"sand\",\"her\",\"call\",\"always\",\"they’re\",\"itself\",\"willows\",\"sky\",\"forest\",\"say\",\"great\",\"local\",\"dream\",\"what\",\"us\",\"sea\",\"twilight\",\"california\",\"after\",\"soft\",\"leaf\",\"so\",\"words\",\"other\",\"we\",\"shadow\",\"ago\",\"she\",\"snow\",\"know\",\"stand\",\"branch\",\"road\",\"anyone\",\"cannot\",\"it’s\",\"talk\",\"grass\",\"flit\",\"falling\",\"read\",\"doing\",\"softer\",\"house\",\"waters\",\"scary\",\"wrote\",\"return\",\"fragments\",\"eye\",\"cast\",\"feel\",\"root\",\"sink\",\"body\",\"close\",\"under\",\"trees\",\"owl\",\"hissing\",\"crashing\",\"water\",\"heard\",\"nobody\",\"well\",\"poem\",\"autumn\",\"might\",\"voltaire\",\"string\",\"never\",\"anything\",\"why\",\"color\",\"anarchy\",\"caw\",\"clear\",\"flicker\",\"restless\",\"tell\",\"cry\",\"moment\",\"hail\",\"cark\",\"pet\",\"answers\",\"thrush\",\"went\",\"cows\",\"life\",\"fire\",\"bird\",\"die\",\"bear\",\"around\",\"shadows\",\"slowly\",\"short\"],\"x\":[-1.9344043,-0.5121778,-2.0675807,1.051668,-9.605607,-15.280584,4.4224076,-0.2730317,4.9834747,-11.805942,15.984062,-3.1943362,2.5369914,11.816443,-3.3184383,9.4985895,9.9567995,-5.2080584,-10.304497,8.949454,-1.6554437,10.166338,-11.72894,5.849379,-4.0698943,-12.747074,0.34298667,1.3290774,4.807221,4.1080422,-17.108627,-15.864547,-2.8248847,1.7411935,12.069348,1.8866491,6.683282,-9.705051,-4.973491,0.5658572,-7.804835,0.2206332,-2.443886,-3.3356106,-15.787935,-0.42572075,10.136552,6.4855337,13.797207,7.0419984,3.6822925,16.644108,6.750021,0.6627214,7.1381555,15.980607,-1.3911921,-12.013852,-5.9157314,-0.7844055,-2.7613482,3.008327,-6.1322517,5.0930915,-10.349299,9.309866,-7.015951,-13.542642,-5.3707514,17.008797,7.3416,-10.36828,3.411515,-0.528756,-4.893775,12.033568,6.2439017,5.3847003,7.1081185,-5.321602,-5.333669,6.0981755,-8.342414,-3.786316,-2.612599,-8.140409,1.3720982,-7.2894225,-6.9266276,-6.3352113,9.833813,2.784596,-0.6906682,-8.96561,-2.1510003,-10.339165,2.0023546,-4.2199073,-14.417862,3.8475447,2.0759363,7.197661,3.296717,-5.5196724,12.8890295,-7.6554275,-17.141338,2.6993237,1.2052282,3.1182184,-5.3499107,5.505639,-4.5873194,4.8938813,-8.561285,2.6307344,-6.9379983,7.2906756,-8.391605,-8.584367,11.161081,-14.941699,-10.946524,11.620382,4.6159334,13.080338,-14.644047,5.553987,6.8660526,3.3111002,5.1717963,-0.7712838,-1.2062179,-10.225667,6.77245,-4.703959,3.1341403,1.768941,14.483652,-0.53092784,14.927029,-4.702169,4.0037007,-5.6003513,6.4892526,-0.40303433,-3.6502426,-16.541756,5.9892993,-1.9333142,15.582678,16.577093,15.212986,-10.011176,-10.223285,8.512394,-8.56005,-16.686766,2.5798945,-7.161554,4.6742754,-5.878358,-5.633234,6.5742373,-4.5441747,-14.8895035,6.109055,5.5938325,-0.8610018,6.106585,-13.795649,-13.647607,-15.011843,16.586193,-9.209409,-11.383613,-11.533952,13.540603,-13.586718,-4.696251,-14.501332,7.810659,3.2129517,6.162597,2.7952256,13.669891,-12.184772,-15.100527,3.1551015,-5.9759645,0.5196736,2.977959,2.700607,3.9214408,-0.4761262,-7.216429,9.284942,1.4541816,1.2455558,-0.5030129],\"xaxis\":\"x\",\"y\":[0.3403869,-1.5335156,2.4908373,1.0010425,12.360069,-1.0519677,8.268989,1.8760388,4.0707254,5.529318,-0.39068672,-1.2589543,7.332714,1.300637,0.97868943,-2.3434064,1.0927496,-1.6858047,-11.475137,11.412787,5.1081643,3.8051746,10.447386,-10.5344,-14.076788,-11.194999,-4.2527213,11.489505,-1.3128421,-0.075483896,-4.0710893,6.7223725,11.362438,14.053761,-0.45761377,4.038506,-8.043305,-2.748769,3.9927452,3.1896386,2.4328992,7.927004,-3.7355514,-0.6994554,-3.3605037,-6.961193,-10.175042,-12.933662,4.9327607,2.7835355,-1.1651752,-3.2045062,3.0952358,-1.2877103,-0.108708076,5.5613327,-11.523918,-3.0192811,13.117938,13.156859,13.590155,5.147867,14.025817,11.137848,9.130161,7.6004815,-0.31049627,7.8555546,11.126818,-1.8347245,-1.7284267,-8.328198,-7.865026,-12.910546,-11.70593,-2.3770332,5.7382293,0.8616704,-14.050025,-4.510416,8.887404,-4.874837,8.541741,5.882262,-10.648718,-11.51717,-7.285439,7.0393224,4.668005,15.943257,5.5405045,-9.731491,-9.52255,-6.03704,4.020578,-7.8351245,-2.3555462,7.339072,1.5852572,-8.61711,-8.441966,2.8829896,-8.3843355,-7.727483,8.789976,-2.5953138,-2.754254,-3.1004887,-5.4174747,1.3807064,6.311446,9.669179,10.072377,14.973803,5.3537188,8.642053,-14.62511,6.9525228,5.636307,5.0391555,0.25766984,-6.0002165,2.0372827,-7.4874716,12.406653,9.970734,-6.9686174,7.0099397,13.043458,13.175086,-4.3068457,14.963247,-4.860918,2.2491977,-5.401819,-3.6868498,9.078871,-11.418312,7.7495203,10.774013,8.383603,2.2281451,12.474387,-1.0975055,-13.382322,-6.024749,5.4452496,-3.056506,13.224843,-14.334365,6.080589,-1.6789525,6.3520656,-0.101167105,1.5528833,7.075372,-1.5166125,-3.2270613,-7.8799806,7.0847754,-14.260816,0.36455482,-0.13252105,-1.0156784,-3.527833,1.245731,10.026455,14.154234,-0.06715549,9.960432,7.35897,7.3847156,1.4267144,-1.5511587,9.313218,-11.180819,-11.162088,8.992213,-5.806028,4.0509157,-6.633815,-2.3181663,7.9183855,2.98878,1.094292,9.008053,8.69387,2.0055451,5.8737025,3.7410676,-0.50380987,-6.39324,-6.0242567,-0.70929575,1.271122,-15.576281,5.395259,2.9244041,4.4465895,10.761764],\"yaxis\":\"y\",\"type\":\"scatter\"}],                        {\"template\":{\"data\":{\"histogram2dcontour\":[{\"type\":\"histogram2dcontour\",\"colorbar\":{\"outlinewidth\":0,\"ticks\":\"\"},\"colorscale\":[[0.0,\"#0d0887\"],[0.1111111111111111,\"#46039f\"],[0.2222222222222222,\"#7201a8\"],[0.3333333333333333,\"#9c179e\"],[0.4444444444444444,\"#bd3786\"],[0.5555555555555556,\"#d8576b\"],[0.6666666666666666,\"#ed7953\"],[0.7777777777777778,\"#fb9f3a\"],[0.8888888888888888,\"#fdca26\"],[1.0,\"#f0f921\"]]}],\"choropleth\":[{\"type\":\"choropleth\",\"colorbar\":{\"outlinewidth\":0,\"ticks\":\"\"}}],\"histogram2d\":[{\"type\":\"histogram2d\",\"colorbar\":{\"outlinewidth\":0,\"ticks\":\"\"},\"colorscale\":[[0.0,\"#0d0887\"],[0.1111111111111111,\"#46039f\"],[0.2222222222222222,\"#7201a8\"],[0.3333333333333333,\"#9c179e\"],[0.4444444444444444,\"#bd3786\"],[0.5555555555555556,\"#d8576b\"],[0.6666666666666666,\"#ed7953\"],[0.7777777777777778,\"#fb9f3a\"],[0.8888888888888888,\"#fdca26\"],[1.0,\"#f0f921\"]]}],\"heatmap\":[{\"type\":\"heatmap\",\"colorbar\":{\"outlinewidth\":0,\"ticks\":\"\"},\"colorscale\":[[0.0,\"#0d0887\"],[0.1111111111111111,\"#46039f\"],[0.2222222222222222,\"#7201a8\"],[0.3333333333333333,\"#9c179e\"],[0.4444444444444444,\"#bd3786\"],[0.5555555555555556,\"#d8576b\"],[0.6666666666666666,\"#ed7953\"],[0.7777777777777778,\"#fb9f3a\"],[0.8888888888888888,\"#fdca26\"],[1.0,\"#f0f921\"]]}],\"heatmapgl\":[{\"type\":\"heatmapgl\",\"colorbar\":{\"outlinewidth\":0,\"ticks\":\"\"},\"colorscale\":[[0.0,\"#0d0887\"],[0.1111111111111111,\"#46039f\"],[0.2222222222222222,\"#7201a8\"],[0.3333333333333333,\"#9c179e\"],[0.4444444444444444,\"#bd3786\"],[0.5555555555555556,\"#d8576b\"],[0.6666666666666666,\"#ed7953\"],[0.7777777777777778,\"#fb9f3a\"],[0.8888888888888888,\"#fdca26\"],[1.0,\"#f0f921\"]]}],\"contourcarpet\":[{\"type\":\"contourcarpet\",\"colorbar\":{\"outlinewidth\":0,\"ticks\":\"\"}}],\"contour\":[{\"type\":\"contour\",\"colorbar\":{\"outlinewidth\":0,\"ticks\":\"\"},\"colorscale\":[[0.0,\"#0d0887\"],[0.1111111111111111,\"#46039f\"],[0.2222222222222222,\"#7201a8\"],[0.3333333333333333,\"#9c179e\"],[0.4444444444444444,\"#bd3786\"],[0.5555555555555556,\"#d8576b\"],[0.6666666666666666,\"#ed7953\"],[0.7777777777777778,\"#fb9f3a\"],[0.8888888888888888,\"#fdca26\"],[1.0,\"#f0f921\"]]}],\"surface\":[{\"type\":\"surface\",\"colorbar\":{\"outlinewidth\":0,\"ticks\":\"\"},\"colorscale\":[[0.0,\"#0d0887\"],[0.1111111111111111,\"#46039f\"],[0.2222222222222222,\"#7201a8\"],[0.3333333333333333,\"#9c179e\"],[0.4444444444444444,\"#bd3786\"],[0.5555555555555556,\"#d8576b\"],[0.6666666666666666,\"#ed7953\"],[0.7777777777777778,\"#fb9f3a\"],[0.8888888888888888,\"#fdca26\"],[1.0,\"#f0f921\"]]}],\"mesh3d\":[{\"type\":\"mesh3d\",\"colorbar\":{\"outlinewidth\":0,\"ticks\":\"\"}}],\"scatter\":[{\"fillpattern\":{\"fillmode\":\"overlay\",\"size\":10,\"solidity\":0.2},\"type\":\"scatter\"}],\"parcoords\":[{\"type\":\"parcoords\",\"line\":{\"colorbar\":{\"outlinewidth\":0,\"ticks\":\"\"}}}],\"scatterpolargl\":[{\"type\":\"scatterpolargl\",\"marker\":{\"colorbar\":{\"outlinewidth\":0,\"ticks\":\"\"}}}],\"bar\":[{\"error_x\":{\"color\":\"#2a3f5f\"},\"error_y\":{\"color\":\"#2a3f5f\"},\"marker\":{\"line\":{\"color\":\"#E5ECF6\",\"width\":0.5},\"pattern\":{\"fillmode\":\"overlay\",\"size\":10,\"solidity\":0.2}},\"type\":\"bar\"}],\"scattergeo\":[{\"type\":\"scattergeo\",\"marker\":{\"colorbar\":{\"outlinewidth\":0,\"ticks\":\"\"}}}],\"scatterpolar\":[{\"type\":\"scatterpolar\",\"marker\":{\"colorbar\":{\"outlinewidth\":0,\"ticks\":\"\"}}}],\"histogram\":[{\"marker\":{\"pattern\":{\"fillmode\":\"overlay\",\"size\":10,\"solidity\":0.2}},\"type\":\"histogram\"}],\"scattergl\":[{\"type\":\"scattergl\",\"marker\":{\"colorbar\":{\"outlinewidth\":0,\"ticks\":\"\"}}}],\"scatter3d\":[{\"type\":\"scatter3d\",\"line\":{\"colorbar\":{\"outlinewidth\":0,\"ticks\":\"\"}},\"marker\":{\"colorbar\":{\"outlinewidth\":0,\"ticks\":\"\"}}}],\"scattermapbox\":[{\"type\":\"scattermapbox\",\"marker\":{\"colorbar\":{\"outlinewidth\":0,\"ticks\":\"\"}}}],\"scatterternary\":[{\"type\":\"scatterternary\",\"marker\":{\"colorbar\":{\"outlinewidth\":0,\"ticks\":\"\"}}}],\"scattercarpet\":[{\"type\":\"scattercarpet\",\"marker\":{\"colorbar\":{\"outlinewidth\":0,\"ticks\":\"\"}}}],\"carpet\":[{\"aaxis\":{\"endlinecolor\":\"#2a3f5f\",\"gridcolor\":\"white\",\"linecolor\":\"white\",\"minorgridcolor\":\"white\",\"startlinecolor\":\"#2a3f5f\"},\"baxis\":{\"endlinecolor\":\"#2a3f5f\",\"gridcolor\":\"white\",\"linecolor\":\"white\",\"minorgridcolor\":\"white\",\"startlinecolor\":\"#2a3f5f\"},\"type\":\"carpet\"}],\"table\":[{\"cells\":{\"fill\":{\"color\":\"#EBF0F8\"},\"line\":{\"color\":\"white\"}},\"header\":{\"fill\":{\"color\":\"#C8D4E3\"},\"line\":{\"color\":\"white\"}},\"type\":\"table\"}],\"barpolar\":[{\"marker\":{\"line\":{\"color\":\"#E5ECF6\",\"width\":0.5},\"pattern\":{\"fillmode\":\"overlay\",\"size\":10,\"solidity\":0.2}},\"type\":\"barpolar\"}],\"pie\":[{\"automargin\":true,\"type\":\"pie\"}]},\"layout\":{\"autotypenumbers\":\"strict\",\"colorway\":[\"#636efa\",\"#EF553B\",\"#00cc96\",\"#ab63fa\",\"#FFA15A\",\"#19d3f3\",\"#FF6692\",\"#B6E880\",\"#FF97FF\",\"#FECB52\"],\"font\":{\"color\":\"#2a3f5f\"},\"hovermode\":\"closest\",\"hoverlabel\":{\"align\":\"left\"},\"paper_bgcolor\":\"white\",\"plot_bgcolor\":\"#E5ECF6\",\"polar\":{\"bgcolor\":\"#E5ECF6\",\"angularaxis\":{\"gridcolor\":\"white\",\"linecolor\":\"white\",\"ticks\":\"\"},\"radialaxis\":{\"gridcolor\":\"white\",\"linecolor\":\"white\",\"ticks\":\"\"}},\"ternary\":{\"bgcolor\":\"#E5ECF6\",\"aaxis\":{\"gridcolor\":\"white\",\"linecolor\":\"white\",\"ticks\":\"\"},\"baxis\":{\"gridcolor\":\"white\",\"linecolor\":\"white\",\"ticks\":\"\"},\"caxis\":{\"gridcolor\":\"white\",\"linecolor\":\"white\",\"ticks\":\"\"}},\"coloraxis\":{\"colorbar\":{\"outlinewidth\":0,\"ticks\":\"\"}},\"colorscale\":{\"sequential\":[[0.0,\"#0d0887\"],[0.1111111111111111,\"#46039f\"],[0.2222222222222222,\"#7201a8\"],[0.3333333333333333,\"#9c179e\"],[0.4444444444444444,\"#bd3786\"],[0.5555555555555556,\"#d8576b\"],[0.6666666666666666,\"#ed7953\"],[0.7777777777777778,\"#fb9f3a\"],[0.8888888888888888,\"#fdca26\"],[1.0,\"#f0f921\"]],\"sequentialminus\":[[0.0,\"#0d0887\"],[0.1111111111111111,\"#46039f\"],[0.2222222222222222,\"#7201a8\"],[0.3333333333333333,\"#9c179e\"],[0.4444444444444444,\"#bd3786\"],[0.5555555555555556,\"#d8576b\"],[0.6666666666666666,\"#ed7953\"],[0.7777777777777778,\"#fb9f3a\"],[0.8888888888888888,\"#fdca26\"],[1.0,\"#f0f921\"]],\"diverging\":[[0,\"#8e0152\"],[0.1,\"#c51b7d\"],[0.2,\"#de77ae\"],[0.3,\"#f1b6da\"],[0.4,\"#fde0ef\"],[0.5,\"#f7f7f7\"],[0.6,\"#e6f5d0\"],[0.7,\"#b8e186\"],[0.8,\"#7fbc41\"],[0.9,\"#4d9221\"],[1,\"#276419\"]]},\"xaxis\":{\"gridcolor\":\"white\",\"linecolor\":\"white\",\"ticks\":\"\",\"title\":{\"standoff\":15},\"zerolinecolor\":\"white\",\"automargin\":true,\"zerolinewidth\":2},\"yaxis\":{\"gridcolor\":\"white\",\"linecolor\":\"white\",\"ticks\":\"\",\"title\":{\"standoff\":15},\"zerolinecolor\":\"white\",\"automargin\":true,\"zerolinewidth\":2},\"scene\":{\"xaxis\":{\"backgroundcolor\":\"#E5ECF6\",\"gridcolor\":\"white\",\"linecolor\":\"white\",\"showbackground\":true,\"ticks\":\"\",\"zerolinecolor\":\"white\",\"gridwidth\":2},\"yaxis\":{\"backgroundcolor\":\"#E5ECF6\",\"gridcolor\":\"white\",\"linecolor\":\"white\",\"showbackground\":true,\"ticks\":\"\",\"zerolinecolor\":\"white\",\"gridwidth\":2},\"zaxis\":{\"backgroundcolor\":\"#E5ECF6\",\"gridcolor\":\"white\",\"linecolor\":\"white\",\"showbackground\":true,\"ticks\":\"\",\"zerolinecolor\":\"white\",\"gridwidth\":2}},\"shapedefaults\":{\"line\":{\"color\":\"#2a3f5f\"}},\"annotationdefaults\":{\"arrowcolor\":\"#2a3f5f\",\"arrowhead\":0,\"arrowwidth\":1},\"geo\":{\"bgcolor\":\"white\",\"landcolor\":\"#E5ECF6\",\"subunitcolor\":\"white\",\"showland\":true,\"showlakes\":true,\"lakecolor\":\"white\"},\"title\":{\"x\":0.05},\"mapbox\":{\"style\":\"light\"}}},\"xaxis\":{\"anchor\":\"y\",\"domain\":[0.0,1.0],\"title\":{\"text\":\"x\"}},\"yaxis\":{\"anchor\":\"x\",\"domain\":[0.0,1.0],\"title\":{\"text\":\"y\"}},\"legend\":{\"tracegroupgap\":0},\"margin\":{\"t\":60}},                        {\"responsive\": true}                    ).then(function(){\n",
       "                            \n",
       "var gd = document.getElementById('61c4b4bf-44a6-4787-9c53-ee6ce20ed68e');\n",
       "var x = new MutationObserver(function (mutations, observer) {{\n",
       "        var display = window.getComputedStyle(gd).display;\n",
       "        if (!display || display === 'none') {{\n",
       "            console.log([gd, 'removed!']);\n",
       "            Plotly.purge(gd);\n",
       "            observer.disconnect();\n",
       "        }}\n",
       "}});\n",
       "\n",
       "// Listen for the removal of the full notebook cells\n",
       "var notebookContainer = gd.closest('#notebook-container');\n",
       "if (notebookContainer) {{\n",
       "    x.observe(notebookContainer, {childList: true});\n",
       "}}\n",
       "\n",
       "// Listen for the clearing of the current output cell\n",
       "var outputEl = gd.closest('.output');\n",
       "if (outputEl) {{\n",
       "    x.observe(outputEl, {childList: true});\n",
       "}}\n",
       "\n",
       "                        })                };                });            </script>        </div>"
      ]
     },
     "metadata": {},
     "output_type": "display_data"
    }
   ],
   "source": [
    "# Graficar los embedddings en 2D\n",
    "import plotly.graph_objects as go\n",
    "import plotly.express as px\n",
    "\n",
    "x_vals, y_vals, labels = reduce_dimensions(w2v_model)\n",
    "\n",
    "MAX_WORDS=200\n",
    "fig = px.scatter(x=x_vals[:MAX_WORDS], y=y_vals[:MAX_WORDS], text=labels[:MAX_WORDS])\n",
    "fig.show() # esto para plotly en colab"
   ]
  },
  {
   "cell_type": "markdown",
   "metadata": {},
   "source": [
    "<img src=\"./Resultados tp_3/1.png\">\n",
    "<img src=\"./Resultados tp_3/2.png\">\n",
    "<img src=\"./Resultados tp_3/3.png\">\n",
    "<img src=\"./Resultados tp_3/4.png\">\n",
    "<img src=\"./Resultados tp_3/5.png\">\n",
    "<img src=\"./Resultados tp_3/.png\">\n",
    "<img src=\"./Resultados tp_3/1.png\">"
   ]
  },
  {
   "cell_type": "code",
   "execution_count": null,
   "metadata": {},
   "outputs": [],
   "source": []
  }
 ],
 "metadata": {
  "colab": {
   "collapsed_sections": [],
   "name": "3b - Custom embedding con Gensim",
   "provenance": []
  },
  "kernelspec": {
   "display_name": "nlp",
   "language": "python",
   "name": "nlp"
  },
  "language_info": {
   "codemirror_mode": {
    "name": "ipython",
    "version": 3
   },
   "file_extension": ".py",
   "mimetype": "text/x-python",
   "name": "python",
   "nbconvert_exporter": "python",
   "pygments_lexer": "ipython3",
   "version": "3.9.1"
  }
 },
 "nbformat": 4,
 "nbformat_minor": 1
}
