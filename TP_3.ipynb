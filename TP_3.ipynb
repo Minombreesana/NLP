{
 "cells": [
  {
   "cell_type": "markdown",
   "metadata": {
    "id": "sZd5yLnnHOK0"
   },
   "source": [
    "<img src=\"https://github.com/hernancontigiani/ceia_memorias_especializacion/raw/master/Figures/logoFIUBA.jpg\" width=\"500\" align=\"center\">\n",
    "\n",
    "\n",
    "# Procesamiento de lenguaje natural\n",
    "## Custom embedddings con Gensim\n",
    "\n"
   ]
  },
  {
   "cell_type": "markdown",
   "metadata": {
    "id": "vA7nqkumo9z9"
   },
   "source": [
    "### Objetivo\n",
    "El objetivo es utilizar documentos / corpus para crear embeddings de palabras basado en ese contexto. Se utiliziarán los siguientes poemas de Ursula K. Le Guin como corpus:\n",
    "\n",
    "-Leaves\n",
    "-Six Quatrains\n",
    "-To the train\n",
    "-Bats\n",
    "-Looking Back\n",
    "-How It Seems To Me\n",
    "-McCoy Creek: Cattle\n",
    "-Kinship\n",
    "-Theory of anging\n",
    "-The way\n",
    "-Hymn to time\n",
    "-The maenads\n",
    "-Read at the award dinner\n",
    "-Anonyma\n",
    "-Up in a cottonwood\n",
    "-On the second hill\n",
    "-Desire and fear\n",
    "-Coast range highway, November\n",
    "-The salt\n",
    "-Intimation\n",
    "-Every land\n",
    "-A Cannon beach crow album\n",
    "-Learning the name\n",
    "-Crows"
   ]
  },
  {
   "cell_type": "code",
   "execution_count": 3,
   "metadata": {
    "id": "lFToQs5FK5uZ"
   },
   "outputs": [],
   "source": [
    "import pandas as pd\n",
    "import matplotlib.pyplot as plt\n",
    "import seaborn as sns\n",
    "\n",
    "import multiprocessing\n",
    "from gensim.models import Word2Vec"
   ]
  },
  {
   "cell_type": "markdown",
   "metadata": {
    "id": "g07zJxG7H9vG"
   },
   "source": [
    "### Datos\n",
    "Utilizaremos como dataset canciones de bandas de habla inglés."
   ]
  },
  {
   "cell_type": "code",
   "execution_count": 5,
   "metadata": {
    "id": "mysGrIw9ljC2"
   },
   "outputs": [
    {
     "data": {
      "text/plain": [
       "['ursulakleguin.txt']"
      ]
     },
     "execution_count": 5,
     "metadata": {},
     "output_type": "execute_result"
    }
   ],
   "source": [
    "import os\n",
    "import platform\n",
    "os.listdir(\"./Data/\")"
   ]
  },
  {
   "cell_type": "code",
   "execution_count": 8,
   "metadata": {
    "id": "ticoqYD1Z3I7"
   },
   "outputs": [
    {
     "data": {
      "text/html": [
       "<div>\n",
       "<style scoped>\n",
       "    .dataframe tbody tr th:only-of-type {\n",
       "        vertical-align: middle;\n",
       "    }\n",
       "\n",
       "    .dataframe tbody tr th {\n",
       "        vertical-align: top;\n",
       "    }\n",
       "\n",
       "    .dataframe thead th {\n",
       "        text-align: right;\n",
       "    }\n",
       "</style>\n",
       "<table border=\"1\" class=\"dataframe\">\n",
       "  <thead>\n",
       "    <tr style=\"text-align: right;\">\n",
       "      <th></th>\n",
       "      <th>0</th>\n",
       "    </tr>\n",
       "  </thead>\n",
       "  <tbody>\n",
       "    <tr>\n",
       "      <th>0</th>\n",
       "      <td>Years do odd things to identity.</td>\n",
       "    </tr>\n",
       "    <tr>\n",
       "      <th>1</th>\n",
       "      <td>What does it mean to say</td>\n",
       "    </tr>\n",
       "    <tr>\n",
       "      <th>2</th>\n",
       "      <td>I am that child in the photograph</td>\n",
       "    </tr>\n",
       "    <tr>\n",
       "      <th>3</th>\n",
       "      <td>at Kishamish in 1935?</td>\n",
       "    </tr>\n",
       "    <tr>\n",
       "      <th>4</th>\n",
       "      <td>Might as well say I am the shadow</td>\n",
       "    </tr>\n",
       "  </tbody>\n",
       "</table>\n",
       "</div>"
      ],
      "text/plain": [
       "                                   0\n",
       "0   Years do odd things to identity.\n",
       "1           What does it mean to say\n",
       "2  I am that child in the photograph\n",
       "3              at Kishamish in 1935?\n",
       "4  Might as well say I am the shadow"
      ]
     },
     "execution_count": 8,
     "metadata": {},
     "output_type": "execute_result"
    }
   ],
   "source": [
    "# Armar el dataset utilizando salto de línea para separar los versos\n",
    "df = pd.read_csv('Data/ursulakleguin.txt', sep='/n', header=None, engine='python')\n",
    "df.head()"
   ]
  },
  {
   "cell_type": "code",
   "execution_count": 9,
   "metadata": {
    "id": "LEpKubK9XzXN"
   },
   "outputs": [
    {
     "name": "stdout",
     "output_type": "stream",
     "text": [
      "Cantidad de documentos: 368\n"
     ]
    }
   ],
   "source": [
    "print(\"Cantidad de documentos:\", df.shape[0])"
   ]
  },
  {
   "cell_type": "markdown",
   "metadata": {
    "id": "ab94qaFlrA1G"
   },
   "source": [
    "### 1 - Preprocesamiento"
   ]
  },
  {
   "cell_type": "code",
   "execution_count": 12,
   "metadata": {
    "id": "rIsmMWmjrDHd"
   },
   "outputs": [],
   "source": [
    "from keras.preprocessing.text import text_to_word_sequence\n",
    "\n",
    "sentence_tokens = []\n",
    "# Recorrer todas las filas y transformar las oraciones\n",
    "# en una secuencia de palabras (esto podría realizarse con NLTK o spaCy también)\n",
    "for _, row in df[:None].iterrows():\n",
    "    sentence_tokens.append(text_to_word_sequence(row[0]))"
   ]
  },
  {
   "cell_type": "code",
   "execution_count": 13,
   "metadata": {
    "id": "CHepi_DGrbhq"
   },
   "outputs": [
    {
     "data": {
      "text/plain": [
       "[['years', 'do', 'odd', 'things', 'to', 'identity'],\n",
       " ['what', 'does', 'it', 'mean', 'to', 'say']]"
      ]
     },
     "execution_count": 13,
     "metadata": {},
     "output_type": "execute_result"
    }
   ],
   "source": [
    "# Demos un vistazo\n",
    "sentence_tokens[:2]"
   ]
  },
  {
   "cell_type": "markdown",
   "metadata": {
    "id": "BaXV6nlHr5Aa"
   },
   "source": [
    "### 2 - Crear los vectores (word2vec)"
   ]
  },
  {
   "cell_type": "code",
   "execution_count": 14,
   "metadata": {
    "id": "OSb0v7h8r7hK"
   },
   "outputs": [],
   "source": [
    "from gensim.models.callbacks import CallbackAny2Vec\n",
    "# Durante el entrenamiento gensim por defecto no informa el \"loss\" en cada época\n",
    "# Sobracargamos el callback para poder tener esta información\n",
    "class callback(CallbackAny2Vec):\n",
    "    \"\"\"\n",
    "    Callback to print loss after each epoch\n",
    "    \"\"\"\n",
    "    def __init__(self):\n",
    "        self.epoch = 0\n",
    "\n",
    "    def on_epoch_end(self, model):\n",
    "        loss = model.get_latest_training_loss()\n",
    "        if self.epoch == 0:\n",
    "            print('Loss after epoch {}: {}'.format(self.epoch, loss))\n",
    "        else:\n",
    "            print('Loss after epoch {}: {}'.format(self.epoch, loss- self.loss_previous_step))\n",
    "        self.epoch += 1\n",
    "        self.loss_previous_step = loss"
   ]
  },
  {
   "cell_type": "code",
   "execution_count": 70,
   "metadata": {
    "id": "i0wnDdv9sJ47"
   },
   "outputs": [],
   "source": [
    "# Crearmos el modelo generador de vectoeres\n",
    "# En este caso utilizaremos la estructura modelo Skipgram\n",
    "w2v_model = Word2Vec(min_count=2,    # frecuencia mínima de palabra para incluirla en el vocabulario\n",
    "                     window=2,       # cant de palabras antes y desp de la predicha\n",
    "                     vector_size=40,       # dimensionalidad de los vectores \n",
    "                     negative=20,    # cantidad de negative samples... 0 es no se usa\n",
    "                     workers=1,      # si tienen más cores pueden cambiar este valor\n",
    "                     sg=1)           # modelo 0:CBOW  1:skipgram"
   ]
  },
  {
   "cell_type": "code",
   "execution_count": 71,
   "metadata": {
    "id": "5lTt8wErsf17"
   },
   "outputs": [],
   "source": [
    "# Buildear el vocabularui con los tokens\n",
    "w2v_model.build_vocab(sentence_tokens)"
   ]
  },
  {
   "cell_type": "code",
   "execution_count": 72,
   "metadata": {
    "id": "TNc9qt4os5AT"
   },
   "outputs": [
    {
     "name": "stdout",
     "output_type": "stream",
     "text": [
      "Cantidad de docs en el corpus: 368\n"
     ]
    }
   ],
   "source": [
    "# Cantidad de filas/docs encontradas en el corpus\n",
    "print(\"Cantidad de docs en el corpus:\", w2v_model.corpus_count)"
   ]
  },
  {
   "cell_type": "code",
   "execution_count": 73,
   "metadata": {
    "id": "idw9cHF3tSMl"
   },
   "outputs": [
    {
     "name": "stdout",
     "output_type": "stream",
     "text": [
      "Cantidad de words distintas en el corpus: 274\n"
     ]
    }
   ],
   "source": [
    "# Cantidad de words encontradas en el corpus\n",
    "print(\"Cantidad de words distintas en el corpus:\", len(w2v_model.wv))"
   ]
  },
  {
   "cell_type": "markdown",
   "metadata": {
    "id": "fC9mZ8DPk-UC"
   },
   "source": [
    "### 3 - Entrenar el modelo generador"
   ]
  },
  {
   "cell_type": "code",
   "execution_count": 75,
   "metadata": {
    "id": "QSp-x0PAsq56"
   },
   "outputs": [
    {
     "name": "stdout",
     "output_type": "stream",
     "text": [
      "Loss after epoch 0: 5457.49609375\n",
      "Loss after epoch 1: 5532.71875\n",
      "Loss after epoch 2: 5418.09765625\n",
      "Loss after epoch 3: 5653.671875\n",
      "Loss after epoch 4: 5574.712890625\n",
      "Loss after epoch 5: 5373.220703125\n",
      "Loss after epoch 6: 5522.9296875\n",
      "Loss after epoch 7: 5485.45703125\n",
      "Loss after epoch 8: 5565.265625\n",
      "Loss after epoch 9: 5785.91796875\n",
      "Loss after epoch 10: 5478.046875\n",
      "Loss after epoch 11: 5496.36328125\n",
      "Loss after epoch 12: 5229.765625\n",
      "Loss after epoch 13: 5567.1875\n",
      "Loss after epoch 14: 5402.5546875\n",
      "Loss after epoch 15: 5201.2890625\n",
      "Loss after epoch 16: 5201.296875\n",
      "Loss after epoch 17: 5283.09375\n",
      "Loss after epoch 18: 5409.3671875\n",
      "Loss after epoch 19: 5023.2109375\n",
      "Loss after epoch 20: 5247.171875\n",
      "Loss after epoch 21: 4910.84375\n",
      "Loss after epoch 22: 4806.5234375\n",
      "Loss after epoch 23: 4597.453125\n",
      "Loss after epoch 24: 4774.125\n",
      "Loss after epoch 25: 4976.296875\n",
      "Loss after epoch 26: 4482.875\n",
      "Loss after epoch 27: 4571.484375\n",
      "Loss after epoch 28: 4460.296875\n",
      "Loss after epoch 29: 4422.71875\n",
      "Loss after epoch 30: 4344.609375\n",
      "Loss after epoch 31: 4717.03125\n",
      "Loss after epoch 32: 4343.3125\n",
      "Loss after epoch 33: 4252.421875\n",
      "Loss after epoch 34: 4338.28125\n",
      "Loss after epoch 35: 4040.8125\n",
      "Loss after epoch 36: 4308.4375\n",
      "Loss after epoch 37: 3859.546875\n",
      "Loss after epoch 38: 3697.890625\n",
      "Loss after epoch 39: 3870.375\n",
      "Loss after epoch 40: 3767.3125\n",
      "Loss after epoch 41: 3832.65625\n",
      "Loss after epoch 42: 3781.0625\n",
      "Loss after epoch 43: 3938.078125\n",
      "Loss after epoch 44: 3639.09375\n",
      "Loss after epoch 45: 3583.15625\n",
      "Loss after epoch 46: 3543.578125\n",
      "Loss after epoch 47: 3495.4375\n",
      "Loss after epoch 48: 3696.96875\n",
      "Loss after epoch 49: 3755.578125\n",
      "Loss after epoch 50: 3574.90625\n",
      "Loss after epoch 51: 3296.6875\n",
      "Loss after epoch 52: 3402.875\n",
      "Loss after epoch 53: 3200.203125\n",
      "Loss after epoch 54: 3468.71875\n",
      "Loss after epoch 55: 3547.8125\n",
      "Loss after epoch 56: 2997.984375\n",
      "Loss after epoch 57: 2990.671875\n",
      "Loss after epoch 58: 3194.828125\n",
      "Loss after epoch 59: 3228.15625\n",
      "Loss after epoch 60: 3087.0625\n",
      "Loss after epoch 61: 2953.75\n",
      "Loss after epoch 62: 2987.71875\n",
      "Loss after epoch 63: 2989.15625\n",
      "Loss after epoch 64: 2863.125\n",
      "Loss after epoch 65: 2699.125\n",
      "Loss after epoch 66: 2917.40625\n",
      "Loss after epoch 67: 2742.09375\n",
      "Loss after epoch 68: 2797.4375\n",
      "Loss after epoch 69: 2879.65625\n",
      "Loss after epoch 70: 2679.5\n",
      "Loss after epoch 71: 2887.71875\n",
      "Loss after epoch 72: 2838.03125\n",
      "Loss after epoch 73: 2489.78125\n",
      "Loss after epoch 74: 2786.5625\n",
      "Loss after epoch 75: 2759.8125\n",
      "Loss after epoch 76: 2810.875\n",
      "Loss after epoch 77: 2735.0\n",
      "Loss after epoch 78: 2955.5\n",
      "Loss after epoch 79: 2727.53125\n",
      "Loss after epoch 80: 2768.40625\n",
      "Loss after epoch 81: 2703.0625\n",
      "Loss after epoch 82: 2697.78125\n",
      "Loss after epoch 83: 2542.59375\n",
      "Loss after epoch 84: 2538.9375\n",
      "Loss after epoch 85: 2720.5625\n",
      "Loss after epoch 86: 2695.625\n",
      "Loss after epoch 87: 2709.09375\n",
      "Loss after epoch 88: 2727.65625\n",
      "Loss after epoch 89: 2581.3125\n",
      "Loss after epoch 90: 2390.125\n",
      "Loss after epoch 91: 2708.65625\n",
      "Loss after epoch 92: 2384.28125\n",
      "Loss after epoch 93: 2676.84375\n",
      "Loss after epoch 94: 2543.59375\n",
      "Loss after epoch 95: 2600.5\n",
      "Loss after epoch 96: 2459.40625\n",
      "Loss after epoch 97: 2712.5625\n",
      "Loss after epoch 98: 2332.0625\n",
      "Loss after epoch 99: 2442.84375\n",
      "Loss after epoch 100: 2538.0625\n",
      "Loss after epoch 101: 2472.78125\n",
      "Loss after epoch 102: 2505.21875\n",
      "Loss after epoch 103: 2436.75\n",
      "Loss after epoch 104: 2343.5\n",
      "Loss after epoch 105: 2445.625\n",
      "Loss after epoch 106: 2497.5\n",
      "Loss after epoch 107: 2632.5625\n",
      "Loss after epoch 108: 2421.15625\n",
      "Loss after epoch 109: 2575.40625\n",
      "Loss after epoch 110: 2683.0\n",
      "Loss after epoch 111: 2452.03125\n",
      "Loss after epoch 112: 2320.21875\n",
      "Loss after epoch 113: 2391.9375\n",
      "Loss after epoch 114: 2091.78125\n",
      "Loss after epoch 115: 2213.34375\n",
      "Loss after epoch 116: 2407.75\n",
      "Loss after epoch 117: 2422.78125\n",
      "Loss after epoch 118: 2295.4375\n",
      "Loss after epoch 119: 2429.03125\n",
      "Loss after epoch 120: 2288.96875\n",
      "Loss after epoch 121: 2459.09375\n",
      "Loss after epoch 122: 2365.375\n",
      "Loss after epoch 123: 2474.90625\n",
      "Loss after epoch 124: 2416.75\n",
      "Loss after epoch 125: 2344.59375\n",
      "Loss after epoch 126: 2339.21875\n",
      "Loss after epoch 127: 2262.9375\n",
      "Loss after epoch 128: 2525.03125\n",
      "Loss after epoch 129: 2555.375\n",
      "Loss after epoch 130: 2285.75\n",
      "Loss after epoch 131: 2473.21875\n",
      "Loss after epoch 132: 2339.125\n",
      "Loss after epoch 133: 2351.5625\n",
      "Loss after epoch 134: 2238.5625\n",
      "Loss after epoch 135: 2337.53125\n",
      "Loss after epoch 136: 2364.5625\n",
      "Loss after epoch 137: 2582.8125\n",
      "Loss after epoch 138: 2270.9375\n",
      "Loss after epoch 139: 2232.53125\n",
      "Loss after epoch 140: 2532.0625\n",
      "Loss after epoch 141: 2335.9375\n",
      "Loss after epoch 142: 2457.25\n",
      "Loss after epoch 143: 2385.21875\n",
      "Loss after epoch 144: 2353.46875\n",
      "Loss after epoch 145: 2207.0\n",
      "Loss after epoch 146: 2297.71875\n",
      "Loss after epoch 147: 2275.0\n",
      "Loss after epoch 148: 2462.0\n",
      "Loss after epoch 149: 2314.15625\n",
      "Loss after epoch 150: 2279.375\n",
      "Loss after epoch 151: 2135.21875\n",
      "Loss after epoch 152: 2178.53125\n",
      "Loss after epoch 153: 2429.65625\n",
      "Loss after epoch 154: 2402.125\n",
      "Loss after epoch 155: 2188.5625\n",
      "Loss after epoch 156: 2288.0\n",
      "Loss after epoch 157: 2268.96875\n",
      "Loss after epoch 158: 2046.125\n",
      "Loss after epoch 159: 2247.1875\n",
      "Loss after epoch 160: 2454.75\n",
      "Loss after epoch 161: 2327.375\n",
      "Loss after epoch 162: 2313.46875\n",
      "Loss after epoch 163: 2156.4375\n",
      "Loss after epoch 164: 2347.875\n",
      "Loss after epoch 165: 2264.25\n",
      "Loss after epoch 166: 2232.6875\n",
      "Loss after epoch 167: 2234.5625\n",
      "Loss after epoch 168: 2319.9375\n",
      "Loss after epoch 169: 2240.8125\n",
      "Loss after epoch 170: 2308.6875\n",
      "Loss after epoch 171: 2182.0\n",
      "Loss after epoch 172: 2147.875\n",
      "Loss after epoch 173: 2154.5625\n",
      "Loss after epoch 174: 2017.875\n",
      "Loss after epoch 175: 2196.9375\n",
      "Loss after epoch 176: 2259.6875\n",
      "Loss after epoch 177: 2209.75\n",
      "Loss after epoch 178: 2238.9375\n",
      "Loss after epoch 179: 2119.125\n",
      "Loss after epoch 180: 2210.625\n",
      "Loss after epoch 181: 2460.6875\n",
      "Loss after epoch 182: 2189.625\n",
      "Loss after epoch 183: 2123.5625\n",
      "Loss after epoch 184: 2162.875\n",
      "Loss after epoch 185: 2303.625\n",
      "Loss after epoch 186: 2283.75\n",
      "Loss after epoch 187: 2153.9375\n",
      "Loss after epoch 188: 2249.5\n",
      "Loss after epoch 189: 2343.0625\n",
      "Loss after epoch 190: 2328.1875\n",
      "Loss after epoch 191: 2225.375\n",
      "Loss after epoch 192: 2345.375\n",
      "Loss after epoch 193: 2000.875\n",
      "Loss after epoch 194: 2138.4375\n",
      "Loss after epoch 195: 2245.4375\n",
      "Loss after epoch 196: 2219.4375\n",
      "Loss after epoch 197: 2148.25\n",
      "Loss after epoch 198: 2200.4375\n",
      "Loss after epoch 199: 2220.1875\n"
     ]
    },
    {
     "data": {
      "text/plain": [
       "(173952, 406200)"
      ]
     },
     "execution_count": 75,
     "metadata": {},
     "output_type": "execute_result"
    }
   ],
   "source": [
    "# Entrenamos el modelo generador de vectores\n",
    "# Utilizamos nuestro callback\n",
    "w2v_model.train(sentence_tokens,\n",
    "                 total_examples=w2v_model.corpus_count,\n",
    "                 epochs=200,\n",
    "                 compute_loss = True,\n",
    "                 callbacks=[callback()]\n",
    "                 )"
   ]
  },
  {
   "cell_type": "markdown",
   "metadata": {
    "id": "ddT9NVuNlCAe"
   },
   "source": [
    "### 4 - Ensayar"
   ]
  },
  {
   "cell_type": "code",
   "execution_count": 76,
   "metadata": {
    "id": "6cHN9xGLuPEm"
   },
   "outputs": [
    {
     "data": {
      "text/plain": [
       "[('slowly', 0.6933777332305908),\n",
       " ('another', 0.6923360824584961),\n",
       " ('sit', 0.6434286832809448),\n",
       " ('hill', 0.615181565284729),\n",
       " ('autumn', 0.5839930772781372),\n",
       " ('shadows', 0.580493688583374),\n",
       " ('wild', 0.5779005885124207),\n",
       " ('at', 0.5693116188049316),\n",
       " ('where', 0.554722249507904),\n",
       " ('root', 0.5483406186103821)]"
      ]
     },
     "execution_count": 76,
     "metadata": {},
     "output_type": "execute_result"
    }
   ],
   "source": [
    "# Palabras que MÁS se relacionan con...:\n",
    "w2v_model.wv.most_similar(positive=[\"tree\"], topn=10)"
   ]
  },
  {
   "cell_type": "code",
   "execution_count": 77,
   "metadata": {
    "id": "47HiU5gdkdMq"
   },
   "outputs": [
    {
     "data": {
      "text/plain": [
       "[('hold', -0.027474133297801018),\n",
       " ('feel', -0.06878168880939484),\n",
       " ('soul', -0.0776933878660202),\n",
       " ('die', -0.0964905247092247),\n",
       " ('misty', -0.10203393548727036),\n",
       " ('dance', -0.11683733016252518),\n",
       " ('mind', -0.12056729197502136),\n",
       " ('black', -0.1266278326511383),\n",
       " ('cry', -0.1278424710035324),\n",
       " ('when', -0.1289939284324646)]"
      ]
     },
     "execution_count": 77,
     "metadata": {},
     "output_type": "execute_result"
    }
   ],
   "source": [
    "# Palabras que MENOS se relacionan con...:\n",
    "w2v_model.wv.most_similar(negative=[\"wind\"], topn=10)"
   ]
  },
  {
   "cell_type": "code",
   "execution_count": 78,
   "metadata": {
    "id": "DT4Rvno2mD65"
   },
   "outputs": [
    {
     "data": {
      "text/plain": [
       "[('bird', 0.8252364993095398),\n",
       " ('going', 0.6510608196258545),\n",
       " ('light', 0.6440236568450928),\n",
       " ('sit', 0.6319989562034607),\n",
       " ('home', 0.6093012094497681),\n",
       " ('autumn', 0.5976971983909607),\n",
       " ('wind', 0.5916298627853394),\n",
       " ('rimrock', 0.5910196900367737),\n",
       " ('sand', 0.5899736285209656),\n",
       " ('grey', 0.5895016193389893)]"
      ]
     },
     "execution_count": 78,
     "metadata": {},
     "output_type": "execute_result"
    }
   ],
   "source": [
    "# Palabras que MÁS se relacionan con...:\n",
    "w2v_model.wv.most_similar(positive=[\"dark\"], topn=10)"
   ]
  },
  {
   "cell_type": "code",
   "execution_count": 79,
   "metadata": {
    "id": "XPLDPgzBmQXt"
   },
   "outputs": [
    {
     "data": {
      "text/plain": [
       "[('home', 0.8101037740707397),\n",
       " ('happy', 0.8064088821411133),\n",
       " ('go', 0.7251759767532349),\n",
       " ('down', 0.6939199566841125),\n",
       " ('woman', 0.6580080986022949)]"
      ]
     },
     "execution_count": 79,
     "metadata": {},
     "output_type": "execute_result"
    }
   ],
   "source": [
    "# Palabras que MÁS se relacionan con...:\n",
    "w2v_model.wv.most_similar(positive=[\"still\"], topn=5)"
   ]
  },
  {
   "cell_type": "code",
   "execution_count": 80,
   "metadata": {
    "id": "L_UvHPMMklOr"
   },
   "outputs": [
    {
     "data": {
      "text/plain": [
       "[('in', 0.08286332339048386),\n",
       " ('that', 0.00042860390385612845),\n",
       " ('at', -0.022469859570264816),\n",
       " ('shadows', -0.06383362412452698),\n",
       " ('leaves', -0.06749285012483597),\n",
       " ('to', -0.0987805724143982),\n",
       " ('wings', -0.10029339045286179),\n",
       " ('salt', -0.12174148857593536),\n",
       " ('flying', -0.12252240628004074),\n",
       " ('flickering', -0.12752129137516022)]"
      ]
     },
     "execution_count": 80,
     "metadata": {},
     "output_type": "execute_result"
    }
   ],
   "source": [
    "# Ensayar con una palabra que no está en el corpus (en vocab):\n",
    "w2v_model.wv.most_similar(negative=[\"night\"])"
   ]
  },
  {
   "cell_type": "markdown",
   "metadata": {
    "id": "_g8UVWe6lFmh"
   },
   "source": [
    "### 5 - Visualizar agrupación de vectores"
   ]
  },
  {
   "cell_type": "code",
   "execution_count": 81,
   "metadata": {
    "id": "pDxEVXAivjr9"
   },
   "outputs": [],
   "source": [
    "from sklearn.decomposition import IncrementalPCA    \n",
    "from sklearn.manifold import TSNE                   \n",
    "import numpy as np                                  \n",
    "\n",
    "def reduce_dimensions(model):\n",
    "    num_dimensions = 2  \n",
    "\n",
    "    vectors = np.asarray(model.wv.vectors)\n",
    "    labels = np.asarray(model.wv.index_to_key)  \n",
    "\n",
    "    tsne = TSNE(n_components=num_dimensions, random_state=0)\n",
    "    vectors = tsne.fit_transform(vectors)\n",
    "\n",
    "    x_vals = [v[0] for v in vectors]\n",
    "    y_vals = [v[1] for v in vectors]\n",
    "    return x_vals, y_vals, labels"
   ]
  },
  {
   "cell_type": "code",
   "execution_count": 82,
   "metadata": {
    "id": "NCCXtDpcugmd"
   },
   "outputs": [
    {
     "name": "stderr",
     "output_type": "stream",
     "text": [
      "D:\\FACULTAD\\ESPECIALIZACIÓN\\4. CUARTO BIMESTRE\\NLP\\env\\lib\\site-packages\\sklearn\\manifold\\_t_sne.py:800: FutureWarning:\n",
      "\n",
      "The default initialization in TSNE will change from 'random' to 'pca' in 1.2.\n",
      "\n",
      "D:\\FACULTAD\\ESPECIALIZACIÓN\\4. CUARTO BIMESTRE\\NLP\\env\\lib\\site-packages\\sklearn\\manifold\\_t_sne.py:810: FutureWarning:\n",
      "\n",
      "The default learning rate in TSNE will change from 200.0 to 'auto' in 1.2.\n",
      "\n"
     ]
    },
    {
     "data": {
      "application/vnd.plotly.v1+json": {
       "config": {
        "plotlyServerURL": "https://plot.ly"
       },
       "data": [
        {
         "hovertemplate": "x=%{x}<br>y=%{y}<br>text=%{text}<extra></extra>",
         "legendgroup": "",
         "marker": {
          "color": "#636efa",
          "symbol": "circle"
         },
         "mode": "markers+text",
         "name": "",
         "orientation": "v",
         "showlegend": false,
         "text": [
          "the",
          "and",
          "of",
          "in",
          "to",
          "a",
          "i",
          "that",
          "is",
          "on",
          "as",
          "with",
          "it",
          "all",
          "but",
          "crow",
          "long",
          "way",
          "are",
          "they",
          "my",
          "not",
          "be",
          "their",
          "time",
          "crows",
          "me",
          "when",
          "wind",
          "light",
          "up",
          "like",
          "or",
          "was",
          "into",
          "no",
          "still",
          "one",
          "them",
          "leaves",
          "tree",
          "you",
          "at",
          "silent",
          "little",
          "will",
          "who",
          "than",
          "black",
          "every",
          "dark",
          "an",
          "land",
          "night",
          "by",
          "heavy",
          "its",
          "come",
          "from",
          "if",
          "see",
          "now",
          "over",
          "am",
          "would",
          "years",
          "were",
          "having",
          "gold",
          "bright",
          "willow",
          "coming",
          "rock",
          "soul",
          "self",
          "back",
          "dead",
          "earth",
          "evening",
          "before",
          "this",
          "rain",
          "old",
          "where",
          "being",
          "out",
          "your",
          "through",
          "flying",
          "child",
          "do",
          "broken",
          "there",
          "for",
          "mind",
          "going",
          "year",
          "hill",
          "word",
          "death",
          "blood",
          "holy",
          "sand",
          "her",
          "call",
          "always",
          "they’re",
          "itself",
          "willows",
          "sky",
          "forest",
          "say",
          "great",
          "local",
          "dream",
          "what",
          "us",
          "sea",
          "twilight",
          "california",
          "after",
          "soft",
          "leaf",
          "so",
          "words",
          "other",
          "we",
          "shadow",
          "ago",
          "she",
          "snow",
          "know",
          "stand",
          "branch",
          "road",
          "anyone",
          "cannot",
          "it’s",
          "talk",
          "grass",
          "flit",
          "falling",
          "read",
          "doing",
          "softer",
          "house",
          "waters",
          "scary",
          "wrote",
          "return",
          "fragments",
          "eye",
          "cast",
          "feel",
          "root",
          "sink",
          "body",
          "close",
          "under",
          "trees",
          "owl",
          "hissing",
          "crashing",
          "water",
          "heard",
          "nobody",
          "well",
          "poem",
          "autumn",
          "might",
          "voltaire",
          "string",
          "never",
          "anything",
          "why",
          "color",
          "anarchy",
          "caw",
          "clear",
          "flicker",
          "restless",
          "tell",
          "cry",
          "moment",
          "hail",
          "cark",
          "pet",
          "answers",
          "thrush",
          "went",
          "cows",
          "life",
          "fire",
          "bird",
          "die",
          "bear",
          "around",
          "shadows",
          "slowly",
          "short"
         ],
         "type": "scatter",
         "x": [
          0.36847016,
          -1.4606987,
          4.156712,
          1.5225306,
          -3.6391423,
          -2.7464051,
          -6.314756,
          -3.4558468,
          -12.389444,
          -1.9486171,
          3.6103773,
          -12.023169,
          -7.401913,
          -14.578974,
          -0.86869013,
          -7.0085707,
          16.019985,
          -3.7673142,
          0.13394034,
          -12.778477,
          -9.939088,
          -3.6838512,
          -4.3979497,
          4.960388,
          -6.7603574,
          2.761018,
          -6.5570126,
          -14.232334,
          2.8619993,
          2.612345,
          -17.658257,
          10.114639,
          -14.057647,
          -11.936934,
          15.611291,
          3.375076,
          0.3541461,
          12.295284,
          -9.081614,
          4.5578165,
          -3.116665,
          9.996406,
          6.4821696,
          -12.519952,
          -16.720318,
          9.536981,
          3.4643939,
          -5.752307,
          6.7563477,
          -14.82967,
          2.2880468,
          3.6999004,
          -14.257946,
          -1.1534864,
          -10.302792,
          8.525434,
          -9.337293,
          2.5808055,
          7.8997,
          -11.063137,
          -10.484673,
          -8.388333,
          6.7792354,
          -9.877928,
          -5.918608,
          -6.8491206,
          -0.66221744,
          -5.3805475,
          7.51856,
          4.910628,
          -8.564104,
          1.7795734,
          11.308382,
          -4.4342456,
          -6.5458884,
          13.345278,
          -9.135603,
          0.95908314,
          4.837985,
          -5.809752,
          5.754885,
          8.0547285,
          6.683036,
          7.617894,
          -8.669346,
          -2.4578938,
          10.229348,
          6.277166,
          9.415837,
          8.601751,
          -5.9616528,
          11.4558115,
          -10.655583,
          -0.098535456,
          3.6819532,
          1.9589837,
          1.004904,
          12.839954,
          -0.7712283,
          12.264271,
          10.137259,
          -14.696735,
          11.493537,
          0.1874754,
          4.9856944,
          3.129263,
          -16.164728,
          1.7993894,
          7.363387,
          4.749318,
          4.964384,
          -8.1816,
          5.0688534,
          -8.588621,
          8.370169,
          -6.707611,
          15.107313,
          -8.113229,
          8.128866,
          8.656561,
          14.847964,
          -4.659499,
          -4.5700645,
          6.3804283,
          -10.4981575,
          -12.737746,
          -3.7124474,
          -9.970176,
          -11.015536,
          -12.063696,
          7.692382,
          -9.201083,
          0.9920529,
          -4.3904843,
          8.510103,
          -4.4709225,
          -7.316972,
          13.901025,
          6.6304927,
          -12.770467,
          5.9849734,
          -2.6951637,
          -10.893293,
          -3.4684408,
          4.8456507,
          -0.37582386,
          7.288328,
          -16.536564,
          -10.927472,
          -3.107214,
          7.840828,
          4.531137,
          7.662297,
          -2.1457157,
          -3.6997318,
          -7.4109116,
          -0.30096444,
          -16.597567,
          10.68382,
          5.8415875,
          2.0295403,
          -2.0128262,
          -2.069933,
          -9.068121,
          -4.241259,
          -1.0458791,
          -8.307836,
          -9.615456,
          -0.36592788,
          -8.190831,
          -4.6844945,
          -4.7797446,
          -0.84062797,
          4.5107465,
          -6.1353135,
          1.3944063,
          1.48822,
          5.3491645,
          -3.9008408,
          -1.8451443,
          -3.796936,
          -7.9916615,
          -6.498548,
          -13.667222,
          4.517412,
          5.498621,
          -6.0284805,
          -0.26956952,
          -8.462654,
          -7.8800654,
          0.50289536,
          9.32812,
          8.916524,
          2.3240445,
          -4.2333446,
          15.945844,
          -6.272507,
          2.9040594,
          4.0592895,
          -13.0917
         ],
         "xaxis": "x",
         "y": [
          0.07202401,
          -2.2387204,
          -5.6266255,
          -0.3115539,
          -4.16818,
          14.436482,
          5.2799435,
          5.2563033,
          -3.243514,
          17.410397,
          15.198029,
          -0.5519108,
          6.492103,
          0.041996893,
          4.9074297,
          14.919285,
          -1.3614284,
          7.854868,
          -15.068057,
          3.6156797,
          -11.476668,
          -2.256801,
          11.539022,
          6.22443,
          -6.8894587,
          -15.559133,
          -1.736923,
          9.144431,
          5.2708626,
          3.0324044,
          5.8010273,
          -11.291759,
          11.711654,
          9.420715,
          -3.4607975,
          1.408186,
          -9.231344,
          2.4821634,
          -8.53736,
          2.129845,
          1.0569365,
          -2.494494,
          -7.0233207,
          0.9910229,
          4.5650883,
          -9.081167,
          -8.2004,
          -10.150596,
          -11.834179,
          -4.8950577,
          4.100919,
          12.925069,
          -4.651329,
          6.17372,
          -1.886637,
          -13.035051,
          -6.368324,
          -2.6807563,
          12.99747,
          6.5883384,
          4.483196,
          4.8823833,
          11.89137,
          10.155407,
          13.164396,
          2.8395948,
          8.807346,
          15.956762,
          8.438946,
          13.687187,
          -1.2570794,
          -11.804441,
          -5.4902687,
          -7.847252,
          -5.3852654,
          -3.6319904,
          1.5310286,
          3.7499645,
          9.897166,
          -3.081536,
          -4.0799913,
          6.2352667,
          3.3130746,
          -4.03307,
          -5.3466687,
          -15.079202,
          -3.8902543,
          1.451367,
          3.1163957,
          10.893207,
          0.44670972,
          -7.268206,
          -3.6078408,
          -11.237851,
          -1.9122005,
          -11.340378,
          6.7966447,
          -10.490433,
          12.135349,
          -5.6011868,
          -6.38315,
          -4.8731594,
          -6.1007805,
          -6.448494,
          -16.000984,
          -4.155658,
          6.1117635,
          7.4846992,
          -5.813282,
          4.5224724,
          0.4214997,
          9.549411,
          -3.1681871,
          13.7573595,
          1.7743739,
          8.060514,
          3.424988,
          2.213152,
          1.4905884,
          2.0593004,
          -2.5081468,
          -13.223188,
          2.399952,
          -9.393699,
          11.402178,
          14.727738,
          -13.413998,
          0.86781913,
          13.98964,
          11.352849,
          5.4106045,
          6.593245,
          -2.1905031,
          3.0453176,
          6.67923,
          9.679181,
          8.362263,
          -7.74514,
          -14.941264,
          5.4826746,
          -14.051734,
          -0.8101546,
          10.875692,
          8.897649,
          9.292174,
          -1.3807665,
          -3.8282454,
          5.633283,
          13.391149,
          -8.701396,
          -13.449987,
          14.068499,
          -13.841953,
          3.1160407,
          2.6321356,
          2.2810524,
          2.4126198,
          5.5418396,
          -5.813978,
          1.4181176,
          10.475492,
          8.903153,
          8.360914,
          -1.0749562,
          9.456276,
          12.583679,
          10.306397,
          13.492808,
          -0.027344625,
          10.2741,
          16.039415,
          15.953078,
          12.818762,
          14.018544,
          6.793585,
          -14.84834,
          -14.915445,
          -15.364239,
          -11.902279,
          0.7987105,
          -13.170512,
          -1.7214721,
          6.5574064,
          -4.4078913,
          4.0704913,
          -15.426068,
          14.453665,
          12.765357,
          5.420624,
          -8.597926,
          5.515558,
          -7.3025675,
          -7.3102517,
          3.8830159,
          5.0558915,
          2.9858582,
          0.50992787,
          0.9231894,
          1.0864381,
          5.3519435
         ],
         "yaxis": "y"
        }
       ],
       "layout": {
        "legend": {
         "tracegroupgap": 0
        },
        "margin": {
         "t": 60
        },
        "template": {
         "data": {
          "bar": [
           {
            "error_x": {
             "color": "#2a3f5f"
            },
            "error_y": {
             "color": "#2a3f5f"
            },
            "marker": {
             "line": {
              "color": "#E5ECF6",
              "width": 0.5
             },
             "pattern": {
              "fillmode": "overlay",
              "size": 10,
              "solidity": 0.2
             }
            },
            "type": "bar"
           }
          ],
          "barpolar": [
           {
            "marker": {
             "line": {
              "color": "#E5ECF6",
              "width": 0.5
             },
             "pattern": {
              "fillmode": "overlay",
              "size": 10,
              "solidity": 0.2
             }
            },
            "type": "barpolar"
           }
          ],
          "carpet": [
           {
            "aaxis": {
             "endlinecolor": "#2a3f5f",
             "gridcolor": "white",
             "linecolor": "white",
             "minorgridcolor": "white",
             "startlinecolor": "#2a3f5f"
            },
            "baxis": {
             "endlinecolor": "#2a3f5f",
             "gridcolor": "white",
             "linecolor": "white",
             "minorgridcolor": "white",
             "startlinecolor": "#2a3f5f"
            },
            "type": "carpet"
           }
          ],
          "choropleth": [
           {
            "colorbar": {
             "outlinewidth": 0,
             "ticks": ""
            },
            "type": "choropleth"
           }
          ],
          "contour": [
           {
            "colorbar": {
             "outlinewidth": 0,
             "ticks": ""
            },
            "colorscale": [
             [
              0,
              "#0d0887"
             ],
             [
              0.1111111111111111,
              "#46039f"
             ],
             [
              0.2222222222222222,
              "#7201a8"
             ],
             [
              0.3333333333333333,
              "#9c179e"
             ],
             [
              0.4444444444444444,
              "#bd3786"
             ],
             [
              0.5555555555555556,
              "#d8576b"
             ],
             [
              0.6666666666666666,
              "#ed7953"
             ],
             [
              0.7777777777777778,
              "#fb9f3a"
             ],
             [
              0.8888888888888888,
              "#fdca26"
             ],
             [
              1,
              "#f0f921"
             ]
            ],
            "type": "contour"
           }
          ],
          "contourcarpet": [
           {
            "colorbar": {
             "outlinewidth": 0,
             "ticks": ""
            },
            "type": "contourcarpet"
           }
          ],
          "heatmap": [
           {
            "colorbar": {
             "outlinewidth": 0,
             "ticks": ""
            },
            "colorscale": [
             [
              0,
              "#0d0887"
             ],
             [
              0.1111111111111111,
              "#46039f"
             ],
             [
              0.2222222222222222,
              "#7201a8"
             ],
             [
              0.3333333333333333,
              "#9c179e"
             ],
             [
              0.4444444444444444,
              "#bd3786"
             ],
             [
              0.5555555555555556,
              "#d8576b"
             ],
             [
              0.6666666666666666,
              "#ed7953"
             ],
             [
              0.7777777777777778,
              "#fb9f3a"
             ],
             [
              0.8888888888888888,
              "#fdca26"
             ],
             [
              1,
              "#f0f921"
             ]
            ],
            "type": "heatmap"
           }
          ],
          "heatmapgl": [
           {
            "colorbar": {
             "outlinewidth": 0,
             "ticks": ""
            },
            "colorscale": [
             [
              0,
              "#0d0887"
             ],
             [
              0.1111111111111111,
              "#46039f"
             ],
             [
              0.2222222222222222,
              "#7201a8"
             ],
             [
              0.3333333333333333,
              "#9c179e"
             ],
             [
              0.4444444444444444,
              "#bd3786"
             ],
             [
              0.5555555555555556,
              "#d8576b"
             ],
             [
              0.6666666666666666,
              "#ed7953"
             ],
             [
              0.7777777777777778,
              "#fb9f3a"
             ],
             [
              0.8888888888888888,
              "#fdca26"
             ],
             [
              1,
              "#f0f921"
             ]
            ],
            "type": "heatmapgl"
           }
          ],
          "histogram": [
           {
            "marker": {
             "pattern": {
              "fillmode": "overlay",
              "size": 10,
              "solidity": 0.2
             }
            },
            "type": "histogram"
           }
          ],
          "histogram2d": [
           {
            "colorbar": {
             "outlinewidth": 0,
             "ticks": ""
            },
            "colorscale": [
             [
              0,
              "#0d0887"
             ],
             [
              0.1111111111111111,
              "#46039f"
             ],
             [
              0.2222222222222222,
              "#7201a8"
             ],
             [
              0.3333333333333333,
              "#9c179e"
             ],
             [
              0.4444444444444444,
              "#bd3786"
             ],
             [
              0.5555555555555556,
              "#d8576b"
             ],
             [
              0.6666666666666666,
              "#ed7953"
             ],
             [
              0.7777777777777778,
              "#fb9f3a"
             ],
             [
              0.8888888888888888,
              "#fdca26"
             ],
             [
              1,
              "#f0f921"
             ]
            ],
            "type": "histogram2d"
           }
          ],
          "histogram2dcontour": [
           {
            "colorbar": {
             "outlinewidth": 0,
             "ticks": ""
            },
            "colorscale": [
             [
              0,
              "#0d0887"
             ],
             [
              0.1111111111111111,
              "#46039f"
             ],
             [
              0.2222222222222222,
              "#7201a8"
             ],
             [
              0.3333333333333333,
              "#9c179e"
             ],
             [
              0.4444444444444444,
              "#bd3786"
             ],
             [
              0.5555555555555556,
              "#d8576b"
             ],
             [
              0.6666666666666666,
              "#ed7953"
             ],
             [
              0.7777777777777778,
              "#fb9f3a"
             ],
             [
              0.8888888888888888,
              "#fdca26"
             ],
             [
              1,
              "#f0f921"
             ]
            ],
            "type": "histogram2dcontour"
           }
          ],
          "mesh3d": [
           {
            "colorbar": {
             "outlinewidth": 0,
             "ticks": ""
            },
            "type": "mesh3d"
           }
          ],
          "parcoords": [
           {
            "line": {
             "colorbar": {
              "outlinewidth": 0,
              "ticks": ""
             }
            },
            "type": "parcoords"
           }
          ],
          "pie": [
           {
            "automargin": true,
            "type": "pie"
           }
          ],
          "scatter": [
           {
            "fillpattern": {
             "fillmode": "overlay",
             "size": 10,
             "solidity": 0.2
            },
            "type": "scatter"
           }
          ],
          "scatter3d": [
           {
            "line": {
             "colorbar": {
              "outlinewidth": 0,
              "ticks": ""
             }
            },
            "marker": {
             "colorbar": {
              "outlinewidth": 0,
              "ticks": ""
             }
            },
            "type": "scatter3d"
           }
          ],
          "scattercarpet": [
           {
            "marker": {
             "colorbar": {
              "outlinewidth": 0,
              "ticks": ""
             }
            },
            "type": "scattercarpet"
           }
          ],
          "scattergeo": [
           {
            "marker": {
             "colorbar": {
              "outlinewidth": 0,
              "ticks": ""
             }
            },
            "type": "scattergeo"
           }
          ],
          "scattergl": [
           {
            "marker": {
             "colorbar": {
              "outlinewidth": 0,
              "ticks": ""
             }
            },
            "type": "scattergl"
           }
          ],
          "scattermapbox": [
           {
            "marker": {
             "colorbar": {
              "outlinewidth": 0,
              "ticks": ""
             }
            },
            "type": "scattermapbox"
           }
          ],
          "scatterpolar": [
           {
            "marker": {
             "colorbar": {
              "outlinewidth": 0,
              "ticks": ""
             }
            },
            "type": "scatterpolar"
           }
          ],
          "scatterpolargl": [
           {
            "marker": {
             "colorbar": {
              "outlinewidth": 0,
              "ticks": ""
             }
            },
            "type": "scatterpolargl"
           }
          ],
          "scatterternary": [
           {
            "marker": {
             "colorbar": {
              "outlinewidth": 0,
              "ticks": ""
             }
            },
            "type": "scatterternary"
           }
          ],
          "surface": [
           {
            "colorbar": {
             "outlinewidth": 0,
             "ticks": ""
            },
            "colorscale": [
             [
              0,
              "#0d0887"
             ],
             [
              0.1111111111111111,
              "#46039f"
             ],
             [
              0.2222222222222222,
              "#7201a8"
             ],
             [
              0.3333333333333333,
              "#9c179e"
             ],
             [
              0.4444444444444444,
              "#bd3786"
             ],
             [
              0.5555555555555556,
              "#d8576b"
             ],
             [
              0.6666666666666666,
              "#ed7953"
             ],
             [
              0.7777777777777778,
              "#fb9f3a"
             ],
             [
              0.8888888888888888,
              "#fdca26"
             ],
             [
              1,
              "#f0f921"
             ]
            ],
            "type": "surface"
           }
          ],
          "table": [
           {
            "cells": {
             "fill": {
              "color": "#EBF0F8"
             },
             "line": {
              "color": "white"
             }
            },
            "header": {
             "fill": {
              "color": "#C8D4E3"
             },
             "line": {
              "color": "white"
             }
            },
            "type": "table"
           }
          ]
         },
         "layout": {
          "annotationdefaults": {
           "arrowcolor": "#2a3f5f",
           "arrowhead": 0,
           "arrowwidth": 1
          },
          "autotypenumbers": "strict",
          "coloraxis": {
           "colorbar": {
            "outlinewidth": 0,
            "ticks": ""
           }
          },
          "colorscale": {
           "diverging": [
            [
             0,
             "#8e0152"
            ],
            [
             0.1,
             "#c51b7d"
            ],
            [
             0.2,
             "#de77ae"
            ],
            [
             0.3,
             "#f1b6da"
            ],
            [
             0.4,
             "#fde0ef"
            ],
            [
             0.5,
             "#f7f7f7"
            ],
            [
             0.6,
             "#e6f5d0"
            ],
            [
             0.7,
             "#b8e186"
            ],
            [
             0.8,
             "#7fbc41"
            ],
            [
             0.9,
             "#4d9221"
            ],
            [
             1,
             "#276419"
            ]
           ],
           "sequential": [
            [
             0,
             "#0d0887"
            ],
            [
             0.1111111111111111,
             "#46039f"
            ],
            [
             0.2222222222222222,
             "#7201a8"
            ],
            [
             0.3333333333333333,
             "#9c179e"
            ],
            [
             0.4444444444444444,
             "#bd3786"
            ],
            [
             0.5555555555555556,
             "#d8576b"
            ],
            [
             0.6666666666666666,
             "#ed7953"
            ],
            [
             0.7777777777777778,
             "#fb9f3a"
            ],
            [
             0.8888888888888888,
             "#fdca26"
            ],
            [
             1,
             "#f0f921"
            ]
           ],
           "sequentialminus": [
            [
             0,
             "#0d0887"
            ],
            [
             0.1111111111111111,
             "#46039f"
            ],
            [
             0.2222222222222222,
             "#7201a8"
            ],
            [
             0.3333333333333333,
             "#9c179e"
            ],
            [
             0.4444444444444444,
             "#bd3786"
            ],
            [
             0.5555555555555556,
             "#d8576b"
            ],
            [
             0.6666666666666666,
             "#ed7953"
            ],
            [
             0.7777777777777778,
             "#fb9f3a"
            ],
            [
             0.8888888888888888,
             "#fdca26"
            ],
            [
             1,
             "#f0f921"
            ]
           ]
          },
          "colorway": [
           "#636efa",
           "#EF553B",
           "#00cc96",
           "#ab63fa",
           "#FFA15A",
           "#19d3f3",
           "#FF6692",
           "#B6E880",
           "#FF97FF",
           "#FECB52"
          ],
          "font": {
           "color": "#2a3f5f"
          },
          "geo": {
           "bgcolor": "white",
           "lakecolor": "white",
           "landcolor": "#E5ECF6",
           "showlakes": true,
           "showland": true,
           "subunitcolor": "white"
          },
          "hoverlabel": {
           "align": "left"
          },
          "hovermode": "closest",
          "mapbox": {
           "style": "light"
          },
          "paper_bgcolor": "white",
          "plot_bgcolor": "#E5ECF6",
          "polar": {
           "angularaxis": {
            "gridcolor": "white",
            "linecolor": "white",
            "ticks": ""
           },
           "bgcolor": "#E5ECF6",
           "radialaxis": {
            "gridcolor": "white",
            "linecolor": "white",
            "ticks": ""
           }
          },
          "scene": {
           "xaxis": {
            "backgroundcolor": "#E5ECF6",
            "gridcolor": "white",
            "gridwidth": 2,
            "linecolor": "white",
            "showbackground": true,
            "ticks": "",
            "zerolinecolor": "white"
           },
           "yaxis": {
            "backgroundcolor": "#E5ECF6",
            "gridcolor": "white",
            "gridwidth": 2,
            "linecolor": "white",
            "showbackground": true,
            "ticks": "",
            "zerolinecolor": "white"
           },
           "zaxis": {
            "backgroundcolor": "#E5ECF6",
            "gridcolor": "white",
            "gridwidth": 2,
            "linecolor": "white",
            "showbackground": true,
            "ticks": "",
            "zerolinecolor": "white"
           }
          },
          "shapedefaults": {
           "line": {
            "color": "#2a3f5f"
           }
          },
          "ternary": {
           "aaxis": {
            "gridcolor": "white",
            "linecolor": "white",
            "ticks": ""
           },
           "baxis": {
            "gridcolor": "white",
            "linecolor": "white",
            "ticks": ""
           },
           "bgcolor": "#E5ECF6",
           "caxis": {
            "gridcolor": "white",
            "linecolor": "white",
            "ticks": ""
           }
          },
          "title": {
           "x": 0.05
          },
          "xaxis": {
           "automargin": true,
           "gridcolor": "white",
           "linecolor": "white",
           "ticks": "",
           "title": {
            "standoff": 15
           },
           "zerolinecolor": "white",
           "zerolinewidth": 2
          },
          "yaxis": {
           "automargin": true,
           "gridcolor": "white",
           "linecolor": "white",
           "ticks": "",
           "title": {
            "standoff": 15
           },
           "zerolinecolor": "white",
           "zerolinewidth": 2
          }
         }
        },
        "xaxis": {
         "anchor": "y",
         "domain": [
          0,
          1
         ],
         "title": {
          "text": "x"
         }
        },
        "yaxis": {
         "anchor": "x",
         "domain": [
          0,
          1
         ],
         "title": {
          "text": "y"
         }
        }
       }
      },
      "text/html": [
       "<div>                            <div id=\"bbaed2d0-e521-45ce-af3f-66fb634b317a\" class=\"plotly-graph-div\" style=\"height:525px; width:100%;\"></div>            <script type=\"text/javascript\">                require([\"plotly\"], function(Plotly) {                    window.PLOTLYENV=window.PLOTLYENV || {};                                    if (document.getElementById(\"bbaed2d0-e521-45ce-af3f-66fb634b317a\")) {                    Plotly.newPlot(                        \"bbaed2d0-e521-45ce-af3f-66fb634b317a\",                        [{\"hovertemplate\":\"x=%{x}<br>y=%{y}<br>text=%{text}<extra></extra>\",\"legendgroup\":\"\",\"marker\":{\"color\":\"#636efa\",\"symbol\":\"circle\"},\"mode\":\"markers+text\",\"name\":\"\",\"orientation\":\"v\",\"showlegend\":false,\"text\":[\"the\",\"and\",\"of\",\"in\",\"to\",\"a\",\"i\",\"that\",\"is\",\"on\",\"as\",\"with\",\"it\",\"all\",\"but\",\"crow\",\"long\",\"way\",\"are\",\"they\",\"my\",\"not\",\"be\",\"their\",\"time\",\"crows\",\"me\",\"when\",\"wind\",\"light\",\"up\",\"like\",\"or\",\"was\",\"into\",\"no\",\"still\",\"one\",\"them\",\"leaves\",\"tree\",\"you\",\"at\",\"silent\",\"little\",\"will\",\"who\",\"than\",\"black\",\"every\",\"dark\",\"an\",\"land\",\"night\",\"by\",\"heavy\",\"its\",\"come\",\"from\",\"if\",\"see\",\"now\",\"over\",\"am\",\"would\",\"years\",\"were\",\"having\",\"gold\",\"bright\",\"willow\",\"coming\",\"rock\",\"soul\",\"self\",\"back\",\"dead\",\"earth\",\"evening\",\"before\",\"this\",\"rain\",\"old\",\"where\",\"being\",\"out\",\"your\",\"through\",\"flying\",\"child\",\"do\",\"broken\",\"there\",\"for\",\"mind\",\"going\",\"year\",\"hill\",\"word\",\"death\",\"blood\",\"holy\",\"sand\",\"her\",\"call\",\"always\",\"they’re\",\"itself\",\"willows\",\"sky\",\"forest\",\"say\",\"great\",\"local\",\"dream\",\"what\",\"us\",\"sea\",\"twilight\",\"california\",\"after\",\"soft\",\"leaf\",\"so\",\"words\",\"other\",\"we\",\"shadow\",\"ago\",\"she\",\"snow\",\"know\",\"stand\",\"branch\",\"road\",\"anyone\",\"cannot\",\"it’s\",\"talk\",\"grass\",\"flit\",\"falling\",\"read\",\"doing\",\"softer\",\"house\",\"waters\",\"scary\",\"wrote\",\"return\",\"fragments\",\"eye\",\"cast\",\"feel\",\"root\",\"sink\",\"body\",\"close\",\"under\",\"trees\",\"owl\",\"hissing\",\"crashing\",\"water\",\"heard\",\"nobody\",\"well\",\"poem\",\"autumn\",\"might\",\"voltaire\",\"string\",\"never\",\"anything\",\"why\",\"color\",\"anarchy\",\"caw\",\"clear\",\"flicker\",\"restless\",\"tell\",\"cry\",\"moment\",\"hail\",\"cark\",\"pet\",\"answers\",\"thrush\",\"went\",\"cows\",\"life\",\"fire\",\"bird\",\"die\",\"bear\",\"around\",\"shadows\",\"slowly\",\"short\"],\"x\":[0.36847016,-1.4606987,4.156712,1.5225306,-3.6391423,-2.7464051,-6.314756,-3.4558468,-12.389444,-1.9486171,3.6103773,-12.023169,-7.401913,-14.578974,-0.86869013,-7.0085707,16.019985,-3.7673142,0.13394034,-12.778477,-9.939088,-3.6838512,-4.3979497,4.960388,-6.7603574,2.761018,-6.5570126,-14.232334,2.8619993,2.612345,-17.658257,10.114639,-14.057647,-11.936934,15.611291,3.375076,0.3541461,12.295284,-9.081614,4.5578165,-3.116665,9.996406,6.4821696,-12.519952,-16.720318,9.536981,3.4643939,-5.752307,6.7563477,-14.82967,2.2880468,3.6999004,-14.257946,-1.1534864,-10.302792,8.525434,-9.337293,2.5808055,7.8997,-11.063137,-10.484673,-8.388333,6.7792354,-9.877928,-5.918608,-6.8491206,-0.66221744,-5.3805475,7.51856,4.910628,-8.564104,1.7795734,11.308382,-4.4342456,-6.5458884,13.345278,-9.135603,0.95908314,4.837985,-5.809752,5.754885,8.0547285,6.683036,7.617894,-8.669346,-2.4578938,10.229348,6.277166,9.415837,8.601751,-5.9616528,11.4558115,-10.655583,-0.098535456,3.6819532,1.9589837,1.004904,12.839954,-0.7712283,12.264271,10.137259,-14.696735,11.493537,0.1874754,4.9856944,3.129263,-16.164728,1.7993894,7.363387,4.749318,4.964384,-8.1816,5.0688534,-8.588621,8.370169,-6.707611,15.107313,-8.113229,8.128866,8.656561,14.847964,-4.659499,-4.5700645,6.3804283,-10.4981575,-12.737746,-3.7124474,-9.970176,-11.015536,-12.063696,7.692382,-9.201083,0.9920529,-4.3904843,8.510103,-4.4709225,-7.316972,13.901025,6.6304927,-12.770467,5.9849734,-2.6951637,-10.893293,-3.4684408,4.8456507,-0.37582386,7.288328,-16.536564,-10.927472,-3.107214,7.840828,4.531137,7.662297,-2.1457157,-3.6997318,-7.4109116,-0.30096444,-16.597567,10.68382,5.8415875,2.0295403,-2.0128262,-2.069933,-9.068121,-4.241259,-1.0458791,-8.307836,-9.615456,-0.36592788,-8.190831,-4.6844945,-4.7797446,-0.84062797,4.5107465,-6.1353135,1.3944063,1.48822,5.3491645,-3.9008408,-1.8451443,-3.796936,-7.9916615,-6.498548,-13.667222,4.517412,5.498621,-6.0284805,-0.26956952,-8.462654,-7.8800654,0.50289536,9.32812,8.916524,2.3240445,-4.2333446,15.945844,-6.272507,2.9040594,4.0592895,-13.0917],\"xaxis\":\"x\",\"y\":[0.07202401,-2.2387204,-5.6266255,-0.3115539,-4.16818,14.436482,5.2799435,5.2563033,-3.243514,17.410397,15.198029,-0.5519108,6.492103,0.041996893,4.9074297,14.919285,-1.3614284,7.854868,-15.068057,3.6156797,-11.476668,-2.256801,11.539022,6.22443,-6.8894587,-15.559133,-1.736923,9.144431,5.2708626,3.0324044,5.8010273,-11.291759,11.711654,9.420715,-3.4607975,1.408186,-9.231344,2.4821634,-8.53736,2.129845,1.0569365,-2.494494,-7.0233207,0.9910229,4.5650883,-9.081167,-8.2004,-10.150596,-11.834179,-4.8950577,4.100919,12.925069,-4.651329,6.17372,-1.886637,-13.035051,-6.368324,-2.6807563,12.99747,6.5883384,4.483196,4.8823833,11.89137,10.155407,13.164396,2.8395948,8.807346,15.956762,8.438946,13.687187,-1.2570794,-11.804441,-5.4902687,-7.847252,-5.3852654,-3.6319904,1.5310286,3.7499645,9.897166,-3.081536,-4.0799913,6.2352667,3.3130746,-4.03307,-5.3466687,-15.079202,-3.8902543,1.451367,3.1163957,10.893207,0.44670972,-7.268206,-3.6078408,-11.237851,-1.9122005,-11.340378,6.7966447,-10.490433,12.135349,-5.6011868,-6.38315,-4.8731594,-6.1007805,-6.448494,-16.000984,-4.155658,6.1117635,7.4846992,-5.813282,4.5224724,0.4214997,9.549411,-3.1681871,13.7573595,1.7743739,8.060514,3.424988,2.213152,1.4905884,2.0593004,-2.5081468,-13.223188,2.399952,-9.393699,11.402178,14.727738,-13.413998,0.86781913,13.98964,11.352849,5.4106045,6.593245,-2.1905031,3.0453176,6.67923,9.679181,8.362263,-7.74514,-14.941264,5.4826746,-14.051734,-0.8101546,10.875692,8.897649,9.292174,-1.3807665,-3.8282454,5.633283,13.391149,-8.701396,-13.449987,14.068499,-13.841953,3.1160407,2.6321356,2.2810524,2.4126198,5.5418396,-5.813978,1.4181176,10.475492,8.903153,8.360914,-1.0749562,9.456276,12.583679,10.306397,13.492808,-0.027344625,10.2741,16.039415,15.953078,12.818762,14.018544,6.793585,-14.84834,-14.915445,-15.364239,-11.902279,0.7987105,-13.170512,-1.7214721,6.5574064,-4.4078913,4.0704913,-15.426068,14.453665,12.765357,5.420624,-8.597926,5.515558,-7.3025675,-7.3102517,3.8830159,5.0558915,2.9858582,0.50992787,0.9231894,1.0864381,5.3519435],\"yaxis\":\"y\",\"type\":\"scatter\"}],                        {\"template\":{\"data\":{\"histogram2dcontour\":[{\"type\":\"histogram2dcontour\",\"colorbar\":{\"outlinewidth\":0,\"ticks\":\"\"},\"colorscale\":[[0.0,\"#0d0887\"],[0.1111111111111111,\"#46039f\"],[0.2222222222222222,\"#7201a8\"],[0.3333333333333333,\"#9c179e\"],[0.4444444444444444,\"#bd3786\"],[0.5555555555555556,\"#d8576b\"],[0.6666666666666666,\"#ed7953\"],[0.7777777777777778,\"#fb9f3a\"],[0.8888888888888888,\"#fdca26\"],[1.0,\"#f0f921\"]]}],\"choropleth\":[{\"type\":\"choropleth\",\"colorbar\":{\"outlinewidth\":0,\"ticks\":\"\"}}],\"histogram2d\":[{\"type\":\"histogram2d\",\"colorbar\":{\"outlinewidth\":0,\"ticks\":\"\"},\"colorscale\":[[0.0,\"#0d0887\"],[0.1111111111111111,\"#46039f\"],[0.2222222222222222,\"#7201a8\"],[0.3333333333333333,\"#9c179e\"],[0.4444444444444444,\"#bd3786\"],[0.5555555555555556,\"#d8576b\"],[0.6666666666666666,\"#ed7953\"],[0.7777777777777778,\"#fb9f3a\"],[0.8888888888888888,\"#fdca26\"],[1.0,\"#f0f921\"]]}],\"heatmap\":[{\"type\":\"heatmap\",\"colorbar\":{\"outlinewidth\":0,\"ticks\":\"\"},\"colorscale\":[[0.0,\"#0d0887\"],[0.1111111111111111,\"#46039f\"],[0.2222222222222222,\"#7201a8\"],[0.3333333333333333,\"#9c179e\"],[0.4444444444444444,\"#bd3786\"],[0.5555555555555556,\"#d8576b\"],[0.6666666666666666,\"#ed7953\"],[0.7777777777777778,\"#fb9f3a\"],[0.8888888888888888,\"#fdca26\"],[1.0,\"#f0f921\"]]}],\"heatmapgl\":[{\"type\":\"heatmapgl\",\"colorbar\":{\"outlinewidth\":0,\"ticks\":\"\"},\"colorscale\":[[0.0,\"#0d0887\"],[0.1111111111111111,\"#46039f\"],[0.2222222222222222,\"#7201a8\"],[0.3333333333333333,\"#9c179e\"],[0.4444444444444444,\"#bd3786\"],[0.5555555555555556,\"#d8576b\"],[0.6666666666666666,\"#ed7953\"],[0.7777777777777778,\"#fb9f3a\"],[0.8888888888888888,\"#fdca26\"],[1.0,\"#f0f921\"]]}],\"contourcarpet\":[{\"type\":\"contourcarpet\",\"colorbar\":{\"outlinewidth\":0,\"ticks\":\"\"}}],\"contour\":[{\"type\":\"contour\",\"colorbar\":{\"outlinewidth\":0,\"ticks\":\"\"},\"colorscale\":[[0.0,\"#0d0887\"],[0.1111111111111111,\"#46039f\"],[0.2222222222222222,\"#7201a8\"],[0.3333333333333333,\"#9c179e\"],[0.4444444444444444,\"#bd3786\"],[0.5555555555555556,\"#d8576b\"],[0.6666666666666666,\"#ed7953\"],[0.7777777777777778,\"#fb9f3a\"],[0.8888888888888888,\"#fdca26\"],[1.0,\"#f0f921\"]]}],\"surface\":[{\"type\":\"surface\",\"colorbar\":{\"outlinewidth\":0,\"ticks\":\"\"},\"colorscale\":[[0.0,\"#0d0887\"],[0.1111111111111111,\"#46039f\"],[0.2222222222222222,\"#7201a8\"],[0.3333333333333333,\"#9c179e\"],[0.4444444444444444,\"#bd3786\"],[0.5555555555555556,\"#d8576b\"],[0.6666666666666666,\"#ed7953\"],[0.7777777777777778,\"#fb9f3a\"],[0.8888888888888888,\"#fdca26\"],[1.0,\"#f0f921\"]]}],\"mesh3d\":[{\"type\":\"mesh3d\",\"colorbar\":{\"outlinewidth\":0,\"ticks\":\"\"}}],\"scatter\":[{\"fillpattern\":{\"fillmode\":\"overlay\",\"size\":10,\"solidity\":0.2},\"type\":\"scatter\"}],\"parcoords\":[{\"type\":\"parcoords\",\"line\":{\"colorbar\":{\"outlinewidth\":0,\"ticks\":\"\"}}}],\"scatterpolargl\":[{\"type\":\"scatterpolargl\",\"marker\":{\"colorbar\":{\"outlinewidth\":0,\"ticks\":\"\"}}}],\"bar\":[{\"error_x\":{\"color\":\"#2a3f5f\"},\"error_y\":{\"color\":\"#2a3f5f\"},\"marker\":{\"line\":{\"color\":\"#E5ECF6\",\"width\":0.5},\"pattern\":{\"fillmode\":\"overlay\",\"size\":10,\"solidity\":0.2}},\"type\":\"bar\"}],\"scattergeo\":[{\"type\":\"scattergeo\",\"marker\":{\"colorbar\":{\"outlinewidth\":0,\"ticks\":\"\"}}}],\"scatterpolar\":[{\"type\":\"scatterpolar\",\"marker\":{\"colorbar\":{\"outlinewidth\":0,\"ticks\":\"\"}}}],\"histogram\":[{\"marker\":{\"pattern\":{\"fillmode\":\"overlay\",\"size\":10,\"solidity\":0.2}},\"type\":\"histogram\"}],\"scattergl\":[{\"type\":\"scattergl\",\"marker\":{\"colorbar\":{\"outlinewidth\":0,\"ticks\":\"\"}}}],\"scatter3d\":[{\"type\":\"scatter3d\",\"line\":{\"colorbar\":{\"outlinewidth\":0,\"ticks\":\"\"}},\"marker\":{\"colorbar\":{\"outlinewidth\":0,\"ticks\":\"\"}}}],\"scattermapbox\":[{\"type\":\"scattermapbox\",\"marker\":{\"colorbar\":{\"outlinewidth\":0,\"ticks\":\"\"}}}],\"scatterternary\":[{\"type\":\"scatterternary\",\"marker\":{\"colorbar\":{\"outlinewidth\":0,\"ticks\":\"\"}}}],\"scattercarpet\":[{\"type\":\"scattercarpet\",\"marker\":{\"colorbar\":{\"outlinewidth\":0,\"ticks\":\"\"}}}],\"carpet\":[{\"aaxis\":{\"endlinecolor\":\"#2a3f5f\",\"gridcolor\":\"white\",\"linecolor\":\"white\",\"minorgridcolor\":\"white\",\"startlinecolor\":\"#2a3f5f\"},\"baxis\":{\"endlinecolor\":\"#2a3f5f\",\"gridcolor\":\"white\",\"linecolor\":\"white\",\"minorgridcolor\":\"white\",\"startlinecolor\":\"#2a3f5f\"},\"type\":\"carpet\"}],\"table\":[{\"cells\":{\"fill\":{\"color\":\"#EBF0F8\"},\"line\":{\"color\":\"white\"}},\"header\":{\"fill\":{\"color\":\"#C8D4E3\"},\"line\":{\"color\":\"white\"}},\"type\":\"table\"}],\"barpolar\":[{\"marker\":{\"line\":{\"color\":\"#E5ECF6\",\"width\":0.5},\"pattern\":{\"fillmode\":\"overlay\",\"size\":10,\"solidity\":0.2}},\"type\":\"barpolar\"}],\"pie\":[{\"automargin\":true,\"type\":\"pie\"}]},\"layout\":{\"autotypenumbers\":\"strict\",\"colorway\":[\"#636efa\",\"#EF553B\",\"#00cc96\",\"#ab63fa\",\"#FFA15A\",\"#19d3f3\",\"#FF6692\",\"#B6E880\",\"#FF97FF\",\"#FECB52\"],\"font\":{\"color\":\"#2a3f5f\"},\"hovermode\":\"closest\",\"hoverlabel\":{\"align\":\"left\"},\"paper_bgcolor\":\"white\",\"plot_bgcolor\":\"#E5ECF6\",\"polar\":{\"bgcolor\":\"#E5ECF6\",\"angularaxis\":{\"gridcolor\":\"white\",\"linecolor\":\"white\",\"ticks\":\"\"},\"radialaxis\":{\"gridcolor\":\"white\",\"linecolor\":\"white\",\"ticks\":\"\"}},\"ternary\":{\"bgcolor\":\"#E5ECF6\",\"aaxis\":{\"gridcolor\":\"white\",\"linecolor\":\"white\",\"ticks\":\"\"},\"baxis\":{\"gridcolor\":\"white\",\"linecolor\":\"white\",\"ticks\":\"\"},\"caxis\":{\"gridcolor\":\"white\",\"linecolor\":\"white\",\"ticks\":\"\"}},\"coloraxis\":{\"colorbar\":{\"outlinewidth\":0,\"ticks\":\"\"}},\"colorscale\":{\"sequential\":[[0.0,\"#0d0887\"],[0.1111111111111111,\"#46039f\"],[0.2222222222222222,\"#7201a8\"],[0.3333333333333333,\"#9c179e\"],[0.4444444444444444,\"#bd3786\"],[0.5555555555555556,\"#d8576b\"],[0.6666666666666666,\"#ed7953\"],[0.7777777777777778,\"#fb9f3a\"],[0.8888888888888888,\"#fdca26\"],[1.0,\"#f0f921\"]],\"sequentialminus\":[[0.0,\"#0d0887\"],[0.1111111111111111,\"#46039f\"],[0.2222222222222222,\"#7201a8\"],[0.3333333333333333,\"#9c179e\"],[0.4444444444444444,\"#bd3786\"],[0.5555555555555556,\"#d8576b\"],[0.6666666666666666,\"#ed7953\"],[0.7777777777777778,\"#fb9f3a\"],[0.8888888888888888,\"#fdca26\"],[1.0,\"#f0f921\"]],\"diverging\":[[0,\"#8e0152\"],[0.1,\"#c51b7d\"],[0.2,\"#de77ae\"],[0.3,\"#f1b6da\"],[0.4,\"#fde0ef\"],[0.5,\"#f7f7f7\"],[0.6,\"#e6f5d0\"],[0.7,\"#b8e186\"],[0.8,\"#7fbc41\"],[0.9,\"#4d9221\"],[1,\"#276419\"]]},\"xaxis\":{\"gridcolor\":\"white\",\"linecolor\":\"white\",\"ticks\":\"\",\"title\":{\"standoff\":15},\"zerolinecolor\":\"white\",\"automargin\":true,\"zerolinewidth\":2},\"yaxis\":{\"gridcolor\":\"white\",\"linecolor\":\"white\",\"ticks\":\"\",\"title\":{\"standoff\":15},\"zerolinecolor\":\"white\",\"automargin\":true,\"zerolinewidth\":2},\"scene\":{\"xaxis\":{\"backgroundcolor\":\"#E5ECF6\",\"gridcolor\":\"white\",\"linecolor\":\"white\",\"showbackground\":true,\"ticks\":\"\",\"zerolinecolor\":\"white\",\"gridwidth\":2},\"yaxis\":{\"backgroundcolor\":\"#E5ECF6\",\"gridcolor\":\"white\",\"linecolor\":\"white\",\"showbackground\":true,\"ticks\":\"\",\"zerolinecolor\":\"white\",\"gridwidth\":2},\"zaxis\":{\"backgroundcolor\":\"#E5ECF6\",\"gridcolor\":\"white\",\"linecolor\":\"white\",\"showbackground\":true,\"ticks\":\"\",\"zerolinecolor\":\"white\",\"gridwidth\":2}},\"shapedefaults\":{\"line\":{\"color\":\"#2a3f5f\"}},\"annotationdefaults\":{\"arrowcolor\":\"#2a3f5f\",\"arrowhead\":0,\"arrowwidth\":1},\"geo\":{\"bgcolor\":\"white\",\"landcolor\":\"#E5ECF6\",\"subunitcolor\":\"white\",\"showland\":true,\"showlakes\":true,\"lakecolor\":\"white\"},\"title\":{\"x\":0.05},\"mapbox\":{\"style\":\"light\"}}},\"xaxis\":{\"anchor\":\"y\",\"domain\":[0.0,1.0],\"title\":{\"text\":\"x\"}},\"yaxis\":{\"anchor\":\"x\",\"domain\":[0.0,1.0],\"title\":{\"text\":\"y\"}},\"legend\":{\"tracegroupgap\":0},\"margin\":{\"t\":60}},                        {\"responsive\": true}                    ).then(function(){\n",
       "                            \n",
       "var gd = document.getElementById('bbaed2d0-e521-45ce-af3f-66fb634b317a');\n",
       "var x = new MutationObserver(function (mutations, observer) {{\n",
       "        var display = window.getComputedStyle(gd).display;\n",
       "        if (!display || display === 'none') {{\n",
       "            console.log([gd, 'removed!']);\n",
       "            Plotly.purge(gd);\n",
       "            observer.disconnect();\n",
       "        }}\n",
       "}});\n",
       "\n",
       "// Listen for the removal of the full notebook cells\n",
       "var notebookContainer = gd.closest('#notebook-container');\n",
       "if (notebookContainer) {{\n",
       "    x.observe(notebookContainer, {childList: true});\n",
       "}}\n",
       "\n",
       "// Listen for the clearing of the current output cell\n",
       "var outputEl = gd.closest('.output');\n",
       "if (outputEl) {{\n",
       "    x.observe(outputEl, {childList: true});\n",
       "}}\n",
       "\n",
       "                        })                };                });            </script>        </div>"
      ]
     },
     "metadata": {},
     "output_type": "display_data"
    }
   ],
   "source": [
    "# Graficar los embedddings en 2D\n",
    "import plotly.graph_objects as go\n",
    "import plotly.express as px\n",
    "\n",
    "x_vals, y_vals, labels = reduce_dimensions(w2v_model)\n",
    "\n",
    "MAX_WORDS=200\n",
    "fig = px.scatter(x=x_vals[:MAX_WORDS], y=y_vals[:MAX_WORDS], text=labels[:MAX_WORDS])\n",
    "fig.show() # esto para plotly en colab"
   ]
  },
  {
   "cell_type": "code",
   "execution_count": null,
   "metadata": {},
   "outputs": [],
   "source": []
  }
 ],
 "metadata": {
  "colab": {
   "collapsed_sections": [],
   "name": "3b - Custom embedding con Gensim",
   "provenance": []
  },
  "kernelspec": {
   "display_name": "nlp",
   "language": "python",
   "name": "nlp"
  },
  "language_info": {
   "codemirror_mode": {
    "name": "ipython",
    "version": 3
   },
   "file_extension": ".py",
   "mimetype": "text/x-python",
   "name": "python",
   "nbconvert_exporter": "python",
   "pygments_lexer": "ipython3",
   "version": "3.9.1"
  }
 },
 "nbformat": 4,
 "nbformat_minor": 1
}
