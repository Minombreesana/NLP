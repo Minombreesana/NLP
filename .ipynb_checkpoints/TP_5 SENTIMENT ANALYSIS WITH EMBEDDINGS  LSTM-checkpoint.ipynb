{
 "cells": [
  {
   "cell_type": "markdown",
   "metadata": {
    "id": "kBLpTr7plguX"
   },
   "source": [
    "<img src=\"https://github.com/hernancontigiani/ceia_memorias_especializacion/raw/master/Figures/logoFIUBA.jpg\" width=\"500\" align=\"center\">\n",
    "\n",
    "\n",
    "# Procesamiento de lenguaje natural\n",
    "## Sentiment analysis con Embeddings + LSTM"
   ]
  },
  {
   "cell_type": "markdown",
   "metadata": {
    "id": "9W6nuajhlqZD"
   },
   "source": [
    "### Objetivo\n",
    "El objetivo es utilizar las críticas de compradores de ropa para que el sistema determine la evaluación del comprador y su crítica (cuantas estrellas le asigna al producto)."
   ]
  },
  {
   "cell_type": "code",
   "execution_count": 4,
   "metadata": {
    "id": "i6zvzv3qZ6xS"
   },
   "outputs": [
    {
     "name": "stderr",
     "output_type": "stream",
     "text": [
      "WARNING: You are using pip version 20.2.3; however, version 22.2.2 is available.\n",
      "You should consider upgrading via the 'd:\\facultad\\especialización\\4. cuarto bimestre\\nlp\\env\\scripts\\python.exe -m pip install --upgrade pip' command.\n"
     ]
    }
   ],
   "source": [
    "!pip install --upgrade --no-cache-dir gdown --quiet"
   ]
  },
  {
   "cell_type": "code",
   "execution_count": 1,
   "metadata": {
    "id": "hCpOVzJdl8_p"
   },
   "outputs": [],
   "source": [
    "import numpy as np\n",
    "import random\n",
    "import io\n",
    "import pickle\n",
    "import pandas as pd\n",
    "\n",
    "import matplotlib.pyplot as plt\n",
    "import seaborn as sns\n",
    "\n",
    "from tensorflow import keras\n",
    "from tensorflow.keras import layers\n",
    "\n",
    "from keras.utils.np_utils import to_categorical\n",
    "from keras.utils import pad_sequences\n",
    "from keras.models import Sequential\n",
    "from keras.layers import Dense\n",
    "from keras.layers import LSTM\n",
    "from keras.layers import Embedding"
   ]
  },
  {
   "cell_type": "markdown",
   "metadata": {
    "id": "8UPeRkrAmbF3"
   },
   "source": [
    "### Datos\n",
    "Utilizaremos como dataset críticas de compradores de ropa (eCommerce) los cuales puntuaron a cada prenda con un puntaje de 1 a 5 estrellas.\\\n",
    "Referencia del dataset: [LINK](https://www.kaggle.com/nicapotato/womens-ecommerce-clothing-reviews/version/1)"
   ]
  },
  {
   "cell_type": "code",
   "execution_count": 5,
   "metadata": {
    "id": "C7jLvTU3lSyL"
   },
   "outputs": [
    {
     "name": "stderr",
     "output_type": "stream",
     "text": [
      "Downloading...\n",
      "From: https://drive.google.com/uc?id=1k2Dz4oY5uxI3JEaT6m-L2T2HvLkECYIP\n",
      "To: D:\\FACULTAD\\ESPECIALIZACIÓN\\4. CUARTO BIMESTRE\\NLP\\Tps\\clothing_ecommerce_reviews.csv\n",
      "100%|██████████████████████████████████████████████████| 8.48M/8.48M [00:00<00:00, 9.19MB/s]\n"
     ]
    }
   ],
   "source": [
    "# Descargar la carpeta de dataset\n",
    "import os\n",
    "import gdown\n",
    "if os.access('clothing_ecommerce_reviews.csv', os.F_OK) is False:\n",
    "    url = 'https://drive.google.com/uc?id=1k2Dz4oY5uxI3JEaT6m-L2T2HvLkECYIP'\n",
    "    output = 'clothing_ecommerce_reviews.csv'\n",
    "    gdown.download(url, output, quiet=False)\n",
    "else:\n",
    "    print(\"El dataset ya se encuentra descargado\")"
   ]
  },
  {
   "cell_type": "code",
   "execution_count": 2,
   "metadata": {
    "id": "o-SV1P3dnD1J"
   },
   "outputs": [
    {
     "data": {
      "text/html": [
       "<div>\n",
       "<style scoped>\n",
       "    .dataframe tbody tr th:only-of-type {\n",
       "        vertical-align: middle;\n",
       "    }\n",
       "\n",
       "    .dataframe tbody tr th {\n",
       "        vertical-align: top;\n",
       "    }\n",
       "\n",
       "    .dataframe thead th {\n",
       "        text-align: right;\n",
       "    }\n",
       "</style>\n",
       "<table border=\"1\" class=\"dataframe\">\n",
       "  <thead>\n",
       "    <tr style=\"text-align: right;\">\n",
       "      <th></th>\n",
       "      <th>Clothing ID</th>\n",
       "      <th>Age</th>\n",
       "      <th>Title</th>\n",
       "      <th>Review Text</th>\n",
       "      <th>Rating</th>\n",
       "      <th>Recommended IND</th>\n",
       "      <th>Positive Feedback Count</th>\n",
       "      <th>Division Name</th>\n",
       "      <th>Department Name</th>\n",
       "      <th>Class Name</th>\n",
       "    </tr>\n",
       "  </thead>\n",
       "  <tbody>\n",
       "    <tr>\n",
       "      <th>0</th>\n",
       "      <td>767</td>\n",
       "      <td>33</td>\n",
       "      <td>NaN</td>\n",
       "      <td>Absolutely wonderful - silky and sexy and comf...</td>\n",
       "      <td>4</td>\n",
       "      <td>1</td>\n",
       "      <td>0</td>\n",
       "      <td>Initmates</td>\n",
       "      <td>Intimate</td>\n",
       "      <td>Intimates</td>\n",
       "    </tr>\n",
       "    <tr>\n",
       "      <th>1</th>\n",
       "      <td>1080</td>\n",
       "      <td>34</td>\n",
       "      <td>NaN</td>\n",
       "      <td>Love this dress!  it's sooo pretty.  i happene...</td>\n",
       "      <td>5</td>\n",
       "      <td>1</td>\n",
       "      <td>4</td>\n",
       "      <td>General</td>\n",
       "      <td>Dresses</td>\n",
       "      <td>Dresses</td>\n",
       "    </tr>\n",
       "    <tr>\n",
       "      <th>2</th>\n",
       "      <td>1077</td>\n",
       "      <td>60</td>\n",
       "      <td>Some major design flaws</td>\n",
       "      <td>I had such high hopes for this dress and reall...</td>\n",
       "      <td>3</td>\n",
       "      <td>0</td>\n",
       "      <td>0</td>\n",
       "      <td>General</td>\n",
       "      <td>Dresses</td>\n",
       "      <td>Dresses</td>\n",
       "    </tr>\n",
       "    <tr>\n",
       "      <th>3</th>\n",
       "      <td>1049</td>\n",
       "      <td>50</td>\n",
       "      <td>My favorite buy!</td>\n",
       "      <td>I love, love, love this jumpsuit. it's fun, fl...</td>\n",
       "      <td>5</td>\n",
       "      <td>1</td>\n",
       "      <td>0</td>\n",
       "      <td>General Petite</td>\n",
       "      <td>Bottoms</td>\n",
       "      <td>Pants</td>\n",
       "    </tr>\n",
       "    <tr>\n",
       "      <th>4</th>\n",
       "      <td>847</td>\n",
       "      <td>47</td>\n",
       "      <td>Flattering shirt</td>\n",
       "      <td>This shirt is very flattering to all due to th...</td>\n",
       "      <td>5</td>\n",
       "      <td>1</td>\n",
       "      <td>6</td>\n",
       "      <td>General</td>\n",
       "      <td>Tops</td>\n",
       "      <td>Blouses</td>\n",
       "    </tr>\n",
       "  </tbody>\n",
       "</table>\n",
       "</div>"
      ],
      "text/plain": [
       "   Clothing ID  Age                    Title  \\\n",
       "0          767   33                      NaN   \n",
       "1         1080   34                      NaN   \n",
       "2         1077   60  Some major design flaws   \n",
       "3         1049   50         My favorite buy!   \n",
       "4          847   47         Flattering shirt   \n",
       "\n",
       "                                         Review Text  Rating  Recommended IND  \\\n",
       "0  Absolutely wonderful - silky and sexy and comf...       4                1   \n",
       "1  Love this dress!  it's sooo pretty.  i happene...       5                1   \n",
       "2  I had such high hopes for this dress and reall...       3                0   \n",
       "3  I love, love, love this jumpsuit. it's fun, fl...       5                1   \n",
       "4  This shirt is very flattering to all due to th...       5                1   \n",
       "\n",
       "   Positive Feedback Count   Division Name Department Name Class Name  \n",
       "0                        0       Initmates        Intimate  Intimates  \n",
       "1                        4         General         Dresses    Dresses  \n",
       "2                        0         General         Dresses    Dresses  \n",
       "3                        0  General Petite         Bottoms      Pants  \n",
       "4                        6         General            Tops    Blouses  "
      ]
     },
     "execution_count": 2,
     "metadata": {},
     "output_type": "execute_result"
    }
   ],
   "source": [
    "# Armar el dataset\n",
    "df = pd.read_csv('./Data/clothing_ecommerce_reviews.csv')\n",
    "df.drop(columns = ['Unnamed: 0'], inplace = True)\n",
    "df.head()"
   ]
  },
  {
   "cell_type": "markdown",
   "metadata": {
    "id": "q-OwSePKm-FK"
   },
   "source": [
    "### 1 - Limpieza de datos\n",
    "Alumno:\n",
    "- Del dataset unicamente utilizar las columnas \"Review Text\" y \"Rating.\n",
    "- Tranformar el rating 1-5 a una escala numérica de 0 a 4.\n",
    "\n"
   ]
  },
  {
   "cell_type": "code",
   "execution_count": 3,
   "metadata": {
    "id": "-hc7-AmYnPC3"
   },
   "outputs": [
    {
     "data": {
      "text/html": [
       "<div>\n",
       "<style scoped>\n",
       "    .dataframe tbody tr th:only-of-type {\n",
       "        vertical-align: middle;\n",
       "    }\n",
       "\n",
       "    .dataframe tbody tr th {\n",
       "        vertical-align: top;\n",
       "    }\n",
       "\n",
       "    .dataframe thead th {\n",
       "        text-align: right;\n",
       "    }\n",
       "</style>\n",
       "<table border=\"1\" class=\"dataframe\">\n",
       "  <thead>\n",
       "    <tr style=\"text-align: right;\">\n",
       "      <th></th>\n",
       "      <th>Review Text</th>\n",
       "      <th>Rating</th>\n",
       "    </tr>\n",
       "  </thead>\n",
       "  <tbody>\n",
       "    <tr>\n",
       "      <th>0</th>\n",
       "      <td>Absolutely wonderful - silky and sexy and comf...</td>\n",
       "      <td>3</td>\n",
       "    </tr>\n",
       "    <tr>\n",
       "      <th>1</th>\n",
       "      <td>Love this dress!  it's sooo pretty.  i happene...</td>\n",
       "      <td>4</td>\n",
       "    </tr>\n",
       "    <tr>\n",
       "      <th>2</th>\n",
       "      <td>I had such high hopes for this dress and reall...</td>\n",
       "      <td>2</td>\n",
       "    </tr>\n",
       "    <tr>\n",
       "      <th>3</th>\n",
       "      <td>I love, love, love this jumpsuit. it's fun, fl...</td>\n",
       "      <td>4</td>\n",
       "    </tr>\n",
       "    <tr>\n",
       "      <th>4</th>\n",
       "      <td>This shirt is very flattering to all due to th...</td>\n",
       "      <td>4</td>\n",
       "    </tr>\n",
       "  </tbody>\n",
       "</table>\n",
       "</div>"
      ],
      "text/plain": [
       "                                         Review Text  Rating\n",
       "0  Absolutely wonderful - silky and sexy and comf...       3\n",
       "1  Love this dress!  it's sooo pretty.  i happene...       4\n",
       "2  I had such high hopes for this dress and reall...       2\n",
       "3  I love, love, love this jumpsuit. it's fun, fl...       4\n",
       "4  This shirt is very flattering to all due to th...       4"
      ]
     },
     "execution_count": 3,
     "metadata": {},
     "output_type": "execute_result"
    }
   ],
   "source": [
    "df_reviews = df.loc[:, ['Review Text', 'Rating']].dropna()\n",
    "df_reviews['Rating'] = df_reviews['Rating'] - 1\n",
    "df_reviews.head()"
   ]
  },
  {
   "cell_type": "code",
   "execution_count": 4,
   "metadata": {
    "id": "sZtvASVOn3ty"
   },
   "outputs": [
    {
     "data": {
      "text/plain": [
       "4    12540\n",
       "3     4908\n",
       "2     2823\n",
       "1     1549\n",
       "0      821\n",
       "Name: Rating, dtype: int64"
      ]
     },
     "execution_count": 4,
     "metadata": {},
     "output_type": "execute_result"
    }
   ],
   "source": [
    "# Alumno: Observar como está distribuido el dataset respecto a la columna Rating\n",
    "# es decir, observar que tan balanceado se encuentra respecot a cada clase\n",
    "df_reviews['Rating'].value_counts()"
   ]
  },
  {
   "cell_type": "code",
   "execution_count": 5,
   "metadata": {},
   "outputs": [
    {
     "data": {
      "image/png": "[encoded data removed]",
      "text/plain": [
       "<Figure size 640x480 with 1 Axes>"
      ]
     },
     "metadata": {},
     "output_type": "display_data"
    }
   ],
   "source": [
    "sns.countplot(x='Rating', data=df_reviews)\n",
    "plt.show()"
   ]
  },
  {
   "cell_type": "markdown",
   "metadata": {},
   "source": [
    "El dataset está muy desbalanceado. Haré un undersampling para ver como funciona el modelo con ese dataset."
   ]
  },
  {
   "cell_type": "code",
   "execution_count": 29,
   "metadata": {},
   "outputs": [],
   "source": [
    "Rating_0 = df_reviews[df_reviews['Rating']==0]\n",
    "Rating_1 = df_reviews[df_reviews['Rating']==1]\n",
    "Rating_2 = df_reviews[df_reviews['Rating']==2]\n",
    "Rating_3 = df_reviews[df_reviews['Rating']==3]\n",
    "Rating_4 = df_reviews[df_reviews['Rating']==4]\n",
    "Rating_1 = Rating_1.sample(n=len(Rating_0), random_state=101)\n",
    "Rating_2 = Rating_2.sample(n=len(Rating_0), random_state=101)\n",
    "Rating_3 = Rating_3.sample(n=len(Rating_0), random_state=101)\n",
    "Rating_4 = Rating_4.sample(n=len(Rating_0), random_state=101)\n",
    "df_under = pd.concat([Rating_0, Rating_1, Rating_2, Rating_3, Rating_4],axis=0)"
   ]
  },
  {
   "cell_type": "code",
   "execution_count": 30,
   "metadata": {},
   "outputs": [
    {
     "data": {
      "text/plain": [
       "0    821\n",
       "1    821\n",
       "2    821\n",
       "3    821\n",
       "4    821\n",
       "Name: Rating, dtype: int64"
      ]
     },
     "execution_count": 30,
     "metadata": {},
     "output_type": "execute_result"
    }
   ],
   "source": [
    "df_under['Rating'].value_counts()"
   ]
  },
  {
   "cell_type": "code",
   "execution_count": 31,
   "metadata": {},
   "outputs": [
    {
     "data": {
      "text/html": [
       "<div>\n",
       "<style scoped>\n",
       "    .dataframe tbody tr th:only-of-type {\n",
       "        vertical-align: middle;\n",
       "    }\n",
       "\n",
       "    .dataframe tbody tr th {\n",
       "        vertical-align: top;\n",
       "    }\n",
       "\n",
       "    .dataframe thead th {\n",
       "        text-align: right;\n",
       "    }\n",
       "</style>\n",
       "<table border=\"1\" class=\"dataframe\">\n",
       "  <thead>\n",
       "    <tr style=\"text-align: right;\">\n",
       "      <th></th>\n",
       "      <th>Review Text</th>\n",
       "      <th>Rating</th>\n",
       "    </tr>\n",
       "  </thead>\n",
       "  <tbody>\n",
       "    <tr>\n",
       "      <th>61</th>\n",
       "      <td>3 tags sewn in, 2 small (about 1'' long) and 1...</td>\n",
       "      <td>0</td>\n",
       "    </tr>\n",
       "    <tr>\n",
       "      <th>85</th>\n",
       "      <td>I was really hoping to like this, but it did n...</td>\n",
       "      <td>0</td>\n",
       "    </tr>\n",
       "    <tr>\n",
       "      <th>96</th>\n",
       "      <td>I usually wear a medium and bought a small. it...</td>\n",
       "      <td>0</td>\n",
       "    </tr>\n",
       "    <tr>\n",
       "      <th>97</th>\n",
       "      <td>I was very excited to order this top in red xs...</td>\n",
       "      <td>0</td>\n",
       "    </tr>\n",
       "    <tr>\n",
       "      <th>110</th>\n",
       "      <td>This is so thin and poor quality. especially f...</td>\n",
       "      <td>0</td>\n",
       "    </tr>\n",
       "  </tbody>\n",
       "</table>\n",
       "</div>"
      ],
      "text/plain": [
       "                                           Review Text  Rating\n",
       "61   3 tags sewn in, 2 small (about 1'' long) and 1...       0\n",
       "85   I was really hoping to like this, but it did n...       0\n",
       "96   I usually wear a medium and bought a small. it...       0\n",
       "97   I was very excited to order this top in red xs...       0\n",
       "110  This is so thin and poor quality. especially f...       0"
      ]
     },
     "execution_count": 31,
     "metadata": {},
     "output_type": "execute_result"
    }
   ],
   "source": [
    "df_under.head()"
   ]
  },
  {
   "cell_type": "code",
   "execution_count": 32,
   "metadata": {
    "id": "gVJ_RVi4o1h3"
   },
   "outputs": [
    {
     "data": {
      "text/plain": [
       "(4105,)"
      ]
     },
     "execution_count": 32,
     "metadata": {},
     "output_type": "execute_result"
    }
   ],
   "source": [
    "# Alumno: tomar la columna de las review y almacenarlo todo en un vector numpy de reviews\n",
    "text_sequences = df_under['Review Text'].values\n",
    "text_sequences.shape"
   ]
  },
  {
   "cell_type": "code",
   "execution_count": 33,
   "metadata": {
    "id": "4nT5Un_co65Q"
   },
   "outputs": [
    {
     "data": {
      "text/plain": [
       "4105"
      ]
     },
     "execution_count": 33,
     "metadata": {},
     "output_type": "execute_result"
    }
   ],
   "source": [
    "# Alumno: Cuantas reviews (rows) hay para evaluar?\n",
    "len(text_sequences)"
   ]
  },
  {
   "cell_type": "code",
   "execution_count": 34,
   "metadata": {
    "id": "HP5uN9tqpHu_"
   },
   "outputs": [],
   "source": [
    "# Alumno: Concatenar todas las reviews para armar el corpus\n",
    "corpus = ' '.join(text_sequences)\n"
   ]
  },
  {
   "cell_type": "code",
   "execution_count": 35,
   "metadata": {
    "id": "FEzmePgdpf74"
   },
   "outputs": [
    {
     "data": {
      "text/plain": [
       "1294453"
      ]
     },
     "execution_count": 35,
     "metadata": {},
     "output_type": "execute_result"
    }
   ],
   "source": [
    "# Alumno: ¿Cuál es la longitud de ese corpus?\n",
    "len(corpus)"
   ]
  },
  {
   "cell_type": "code",
   "execution_count": 36,
   "metadata": {
    "id": "MYeJLdDmpvOe"
   },
   "outputs": [],
   "source": [
    "# Alumno: Utilizar \"text_to_word_sequence\" para separar las palabras en tokens\n",
    "# recordar que text_to_word_sequence automaticamente quita los signos de puntuacion y pasa el texto a lowercase\n",
    "from keras.preprocessing.text import text_to_word_sequence\n",
    "tokens = text_to_word_sequence(corpus)"
   ]
  },
  {
   "cell_type": "code",
   "execution_count": 37,
   "metadata": {
    "id": "M6L-fnWAp_lA"
   },
   "outputs": [
    {
     "data": {
      "text/plain": [
       "['3',\n",
       " 'tags',\n",
       " 'sewn',\n",
       " 'in',\n",
       " '2',\n",
       " 'small',\n",
       " 'about',\n",
       " \"1''\",\n",
       " 'long',\n",
       " 'and',\n",
       " '1',\n",
       " 'huge',\n",
       " 'about',\n",
       " \"2''\",\n",
       " 'x',\n",
       " \"3''\",\n",
       " 'very',\n",
       " 'itchy',\n",
       " 'so',\n",
       " 'i']"
      ]
     },
     "execution_count": 37,
     "metadata": {},
     "output_type": "execute_result"
    }
   ],
   "source": [
    "# Alumno: Dar un vistazo a los primeros 20 tokens/palabras\n",
    "tokens[:20]"
   ]
  },
  {
   "cell_type": "code",
   "execution_count": 38,
   "metadata": {
    "id": "-8QgwwMUqG0d"
   },
   "outputs": [
    {
     "data": {
      "text/plain": [
       "253004"
      ]
     },
     "execution_count": 38,
     "metadata": {},
     "output_type": "execute_result"
    }
   ],
   "source": [
    "# Alumno: ¿Cuántos tokens/palabras hay?\n",
    "len(tokens)"
   ]
  },
  {
   "cell_type": "code",
   "execution_count": 39,
   "metadata": {
    "id": "TFukNZdOsZ8_"
   },
   "outputs": [],
   "source": [
    "# Alumno: Tokenizar las palabras con el Tokenizer de Keras\n",
    "# Definir una máxima cantidad de palabras a utilizar:\n",
    "# num_words --> the maximum number of words to keep, based on word frequency.\n",
    "# Only the most common num_words-1 words will be kept.\n",
    "from keras.preprocessing.text import Tokenizer\n",
    "num_words = 4000\n",
    "vocab_size = num_words\n",
    "tok = Tokenizer(num_words=4000) \n",
    "tok.fit_on_texts(tokens)"
   ]
  },
  {
   "cell_type": "code",
   "execution_count": 40,
   "metadata": {
    "id": "JnR1tlqZy94X"
   },
   "outputs": [
    {
     "data": {
      "text/plain": [
       "7207"
      ]
     },
     "execution_count": 40,
     "metadata": {},
     "output_type": "execute_result"
    }
   ],
   "source": [
    "# Alumno: Obtener el diccionario de palabra (word) a índice\n",
    "# y observar la cantidad total del vocabulario\n",
    "word_index = tok.word_index\n",
    "len(word_index)"
   ]
  },
  {
   "cell_type": "code",
   "execution_count": 41,
   "metadata": {
    "id": "AvWzzSretQXf"
   },
   "outputs": [],
   "source": [
    "# Alumno: Convertir las palabras/tokens a números\n",
    "sequences = tok.texts_to_sequences(text_sequences)"
   ]
  },
  {
   "cell_type": "code",
   "execution_count": 42,
   "metadata": {},
   "outputs": [
    {
     "data": {
      "text/plain": [
       "[344, 2161, 642, 9, 150, 41, 110, 102, 3, 465]"
      ]
     },
     "execution_count": 42,
     "metadata": {},
     "output_type": "execute_result"
    }
   ],
   "source": [
    "sequences[0][:10]"
   ]
  },
  {
   "cell_type": "code",
   "execution_count": 43,
   "metadata": {
    "id": "za73M5SRtbrP"
   },
   "outputs": [
    {
     "data": {
      "text/plain": [
       "112"
      ]
     },
     "execution_count": 43,
     "metadata": {},
     "output_type": "execute_result"
    }
   ],
   "source": [
    "# Alumno: Determinar cual es la oración más larga\n",
    "max(len(s) for s in sequences)"
   ]
  },
  {
   "cell_type": "code",
   "execution_count": 44,
   "metadata": {
    "id": "oCkO9Wc9tls1"
   },
   "outputs": [],
   "source": [
    "# Alumno: Realizar padding de las sentencias al mismo tamaño\n",
    "# tomando de referencia la máxima sentencia\n",
    "from keras.utils import pad_sequences\n",
    "maxlen = 112\n",
    "X = pad_sequences(sequences, padding='pre', maxlen=maxlen)"
   ]
  },
  {
   "cell_type": "code",
   "execution_count": 45,
   "metadata": {
    "id": "kGHHabVdt_aa"
   },
   "outputs": [
    {
     "data": {
      "text/plain": [
       "(4105, 112)"
      ]
     },
     "execution_count": 45,
     "metadata": {},
     "output_type": "execute_result"
    }
   ],
   "source": [
    "# Alumno: Observar las dimensiones de la variable input\n",
    "X.shape"
   ]
  },
  {
   "cell_type": "code",
   "execution_count": 46,
   "metadata": {
    "id": "llVM-tzQo9_F"
   },
   "outputs": [
    {
     "name": "stdout",
     "output_type": "stream",
     "text": [
      "(4105,)\n"
     ]
    }
   ],
   "source": [
    "# Alumno tomar la columna rating y alcemacenarla en una variable \"y\" transformada a oneHotEncoding\n",
    "# Su shape debe ser equivalente la cantidad de rows del corpus y a la cantidad\n",
    "# de clases que se deseen predecir (en este ejemplo son 5)\n",
    "y = df_under['Rating'].values\n",
    "print(y.shape)"
   ]
  },
  {
   "cell_type": "code",
   "execution_count": 47,
   "metadata": {
    "id": "Rmz9A6n4uK4V"
   },
   "outputs": [],
   "source": [
    "# Alumno: Dividir los datos en train y test\n",
    "from sklearn.model_selection import train_test_split\n",
    "X_train, X_test, y_train, y_test = train_test_split(X, y, test_size=0.2, random_state=1)"
   ]
  },
  {
   "cell_type": "code",
   "execution_count": 63,
   "metadata": {
    "id": "EcDPlhEouQ9E"
   },
   "outputs": [
    {
     "name": "stdout",
     "output_type": "stream",
     "text": [
      "in_shape 112 , out_shape 5\n"
     ]
    }
   ],
   "source": [
    "# Alumno: determinar la dimensiones de entrada y salida\n",
    "in_shape = X_train.shape[1] # max input sentence len\n",
    "out_shape =5\n",
    "print(\"in_shape\", in_shape, \", out_shape\", out_shape)"
   ]
  },
  {
   "cell_type": "markdown",
   "metadata": {
    "id": "NpbQHExL6OTu"
   },
   "source": [
    "### 2 - Entrenar el modelo con Embeddings + LSTM"
   ]
  },
  {
   "cell_type": "code",
   "execution_count": 67,
   "metadata": {
    "id": "NUkuWBsM6cx3"
   },
   "outputs": [
    {
     "name": "stdout",
     "output_type": "stream",
     "text": [
      "Model: \"sequential_2\"\n",
      "_________________________________________________________________\n",
      " Layer (type)                Output Shape              Param #   \n",
      "=================================================================\n",
      " embedding_2 (Embedding)     (None, 115, 20)           80020     \n",
      "                                                                 \n",
      " lstm_1 (LSTM)               (None, 115, 32)           6784      \n",
      "                                                                 \n",
      " dropout (Dropout)           (None, 115, 32)           0         \n",
      "                                                                 \n",
      " lstm_2 (LSTM)               (None, 16)                3136      \n",
      "                                                                 \n",
      " dense (Dense)               (None, 64)                1088      \n",
      "                                                                 \n",
      " dropout_1 (Dropout)         (None, 64)                0         \n",
      "                                                                 \n",
      " dense_1 (Dense)             (None, 3)                 195       \n",
      "                                                                 \n",
      "=================================================================\n",
      "Total params: 91,223\n",
      "Trainable params: 91,223\n",
      "Non-trainable params: 0\n",
      "_________________________________________________________________\n"
     ]
    }
   ],
   "source": [
    "# Alumno: Entrene su modelo con LSTM entrenando sus propios embeddings\n",
    "# o utilizando embeddings pre-entrenados.\n",
    "from keras.layers import LSTM\n",
    "from keras.layers import Embedding\n",
    "from keras.layers import Dropout\n",
    "\n",
    "\n",
    "model = Sequential()\n",
    "# input_dim = vocab_size (max n_words)\n",
    "# input_length = setencias con padding a 200\n",
    "# output_dim = 50 --> crear embeddings de tamaño 50\n",
    "model.add(Embedding(input_dim=vocab_size+1, output_dim=20, input_length=in_shape))\n",
    "model.add(LSTM(units=32, return_sequences=True))\n",
    "model.add(Dropout(0.3))\n",
    "model.add(LSTM(units=16)) # La última capa LSTM no lleva return_sequences\n",
    "\n",
    "model.add(Dense(units=64, activation='relu'))\n",
    "model.add(Dropout(rate=0.3))\n",
    "model.add(Dense(units=out_shape, activation='softmax'))\n",
    "\n",
    "model.compile(optimizer=\"adam\",\n",
    "              loss='sparse_categorical_crossentropy',\n",
    "              metrics=['accuracy'])\n",
    "\n",
    "model.summary()"
   ]
  },
  {
   "cell_type": "code",
   "execution_count": 78,
   "metadata": {},
   "outputs": [
    {
     "name": "stdout",
     "output_type": "stream",
     "text": [
      "Epoch 1/10\n",
      "83/83 [==============================] - 7s 53ms/step - loss: 1.5830 - accuracy: 0.2398 - val_loss: 1.4522 - val_accuracy: 0.3455\n",
      "Epoch 2/10\n",
      "83/83 [==============================] - 4s 46ms/step - loss: 1.3160 - accuracy: 0.3677 - val_loss: 1.2891 - val_accuracy: 0.3668\n",
      "Epoch 3/10\n",
      "83/83 [==============================] - 4s 46ms/step - loss: 1.1904 - accuracy: 0.4164 - val_loss: 1.3027 - val_accuracy: 0.3851\n",
      "Epoch 4/10\n",
      "83/83 [==============================] - 4s 46ms/step - loss: 1.0851 - accuracy: 0.4663 - val_loss: 1.3743 - val_accuracy: 0.3866\n",
      "Epoch 5/10\n",
      "83/83 [==============================] - 4s 46ms/step - loss: 1.0290 - accuracy: 0.5166 - val_loss: 1.4545 - val_accuracy: 0.3973\n",
      "Epoch 6/10\n",
      "83/83 [==============================] - 4s 46ms/step - loss: 0.9596 - accuracy: 0.5603 - val_loss: 1.5617 - val_accuracy: 0.3881\n",
      "Epoch 7/10\n",
      "83/83 [==============================] - 4s 46ms/step - loss: 0.8661 - accuracy: 0.6171 - val_loss: 1.6180 - val_accuracy: 0.3942\n",
      "Epoch 8/10\n",
      "83/83 [==============================] - 4s 46ms/step - loss: 0.7865 - accuracy: 0.6780 - val_loss: 1.9139 - val_accuracy: 0.3820\n",
      "Epoch 9/10\n",
      "83/83 [==============================] - 4s 46ms/step - loss: 0.7521 - accuracy: 0.6924 - val_loss: 1.9774 - val_accuracy: 0.3623\n",
      "Epoch 10/10\n",
      "83/83 [==============================] - 4s 46ms/step - loss: 0.6438 - accuracy: 0.7549 - val_loss: 2.1627 - val_accuracy: 0.3546\n"
     ]
    }
   ],
   "source": [
    "hist = model.fit(X_train, y_train, epochs=10, validation_split=0.2)"
   ]
  },
  {
   "cell_type": "code",
   "execution_count": 79,
   "metadata": {},
   "outputs": [
    {
     "data": {
      "image/png": "[encoded data removed]",
      "text/plain": [
       "<Figure size 640x480 with 1 Axes>"
      ]
     },
     "metadata": {},
     "output_type": "display_data"
    }
   ],
   "source": [
    "import matplotlib.pyplot as plt\n",
    "import seaborn as sns\n",
    "epoch_count = range(1, len(hist.history['accuracy']) + 1)\n",
    "sns.lineplot(x=epoch_count,  y=hist.history['accuracy'], label='train')\n",
    "sns.lineplot(x=epoch_count,  y=hist.history['val_accuracy'], label='valid')\n",
    "plt.show()"
   ]
  },
  {
   "cell_type": "code",
   "execution_count": 80,
   "metadata": {},
   "outputs": [
    {
     "name": "stdout",
     "output_type": "stream",
     "text": [
      "26/26 [==============================] - 0s 14ms/step - loss: 2.1472 - accuracy: 0.3739\n"
     ]
    },
    {
     "data": {
      "text/plain": [
       "[2.1472268104553223, 0.37393423914909363]"
      ]
     },
     "execution_count": 80,
     "metadata": {},
     "output_type": "execute_result"
    }
   ],
   "source": [
    "model.evaluate(X_test, y_test)"
   ]
  },
  {
   "cell_type": "markdown",
   "metadata": {},
   "source": [
    "Conclusión: Al haber reducido la cantidad de datos por el undersampling para nivelar las clases, vemos que el modelo tiende al overfitting además porque está entrenando sus propios embeddings. Veamos cómo le va con embeddings entrenados. "
   ]
  },
  {
   "cell_type": "markdown",
   "metadata": {},
   "source": [
    "### 3 - Entrenar el modelo con Embeddings Fasttext + LSTM"
   ]
  },
  {
   "cell_type": "code",
   "execution_count": 83,
   "metadata": {},
   "outputs": [
    {
     "name": "stderr",
     "output_type": "stream",
     "text": [
      "Downloading...\n",
      "From: https://drive.google.com/uc?id=1KU5qmAYh3LATMvVgocFDfW-PK3prm1WU&export=download\n",
      "To: D:\\FACULTAD\\ESPECIALIZACIÓN\\4. CUARTO BIMESTRE\\NLP\\Tps\\fasttext.pkl\n",
      "100%|██████████████████████████████████████████████████| 2.88G/2.88G [02:22<00:00, 20.3MB/s]\n"
     ]
    }
   ],
   "source": [
    "import os\n",
    "import gdown\n",
    "if os.access('fasttext.pkl', os.F_OK) is False:\n",
    "    url = 'https://drive.google.com/uc?id=1KU5qmAYh3LATMvVgocFDfW-PK3prm1WU&export=download'\n",
    "    output = 'fasttext.pkl'\n",
    "    gdown.download(url, output, quiet=False)\n",
    "else:\n",
    "    print(\"Los embeddings fasttext.pkl ya están descargados\")"
   ]
  },
  {
   "cell_type": "code",
   "execution_count": 10,
   "metadata": {},
   "outputs": [],
   "source": [
    "import logging\n",
    "import os\n",
    "from pathlib import Path\n",
    "from io import StringIO\n",
    "import pickle\n",
    "\n",
    "class WordsEmbeddings(object):\n",
    "    logger = logging.getLogger(__name__)\n",
    "\n",
    "    def __init__(self):\n",
    "        # load the embeddings\n",
    "        words_embedding_pkl = Path(self.PKL_PATH)\n",
    "        if not words_embedding_pkl.is_file():\n",
    "            words_embedding_txt = Path(self.WORD_TO_VEC_MODEL_TXT_PATH)\n",
    "            assert words_embedding_txt.is_file(), 'Words embedding not available'\n",
    "            embeddings = self.convert_model_to_pickle()\n",
    "        else:\n",
    "            embeddings = self.load_model_from_pickle()\n",
    "        self.embeddings = embeddings\n",
    "        # build the vocabulary hashmap\n",
    "        index = np.arange(self.embeddings.shape[0])\n",
    "        # Dicctionarios para traducir de embedding a IDX de la palabra\n",
    "        self.word2idx = dict(zip(self.embeddings['word'], index))\n",
    "        self.idx2word = dict(zip(index, self.embeddings['word']))\n",
    "\n",
    "    def get_words_embeddings(self, words):\n",
    "        words_idxs = self.words2idxs(words)\n",
    "        return self.embeddings[words_idxs]['embedding']\n",
    "\n",
    "    def words2idxs(self, words):\n",
    "        return np.array([self.word2idx.get(word, -1) for word in words])\n",
    "\n",
    "    def idxs2words(self, idxs):\n",
    "        return np.array([self.idx2word.get(idx, '-1') for idx in idxs])\n",
    "\n",
    "    def load_model_from_pickle(self):\n",
    "        self.logger.debug(\n",
    "            'loading words embeddings from pickle {}'.format(\n",
    "                self.PKL_PATH\n",
    "            )\n",
    "        )\n",
    "        max_bytes = 2**28 - 1 # 256MB\n",
    "        bytes_in = bytearray(0)\n",
    "        input_size = os.path.getsize(self.PKL_PATH)\n",
    "        with open(self.PKL_PATH, 'rb') as f_in:\n",
    "            for _ in range(0, input_size, max_bytes):\n",
    "                bytes_in += f_in.read(max_bytes)\n",
    "        embeddings = pickle.loads(bytes_in)\n",
    "        self.logger.debug('words embeddings loaded')\n",
    "        return embeddings\n",
    "\n",
    "    def convert_model_to_pickle(self):\n",
    "        # create a numpy strctured array:\n",
    "        # word     embedding\n",
    "        # U50      np.float32[]\n",
    "        # word_1   a, b, c\n",
    "        # word_2   d, e, f\n",
    "        # ...\n",
    "        # word_n   g, h, i\n",
    "        self.logger.debug(\n",
    "            'converting and loading words embeddings from text file {}'.format(\n",
    "                self.WORD_TO_VEC_MODEL_TXT_PATH\n",
    "            )\n",
    "        )\n",
    "        structure = [('word', np.dtype('U' + str(self.WORD_MAX_SIZE))),\n",
    "                     ('embedding', np.float32, (self.N_FEATURES,))]\n",
    "        structure = np.dtype(structure)\n",
    "        # load numpy array from disk using a generator\n",
    "        with open(self.WORD_TO_VEC_MODEL_TXT_PATH, encoding=\"utf8\") as words_embeddings_txt:\n",
    "            embeddings_gen = (\n",
    "                (line.split()[0], line.split()[1:]) for line in words_embeddings_txt\n",
    "                if len(line.split()[1:]) == self.N_FEATURES\n",
    "            )\n",
    "            embeddings = np.fromiter(embeddings_gen, structure)\n",
    "        # add a null embedding\n",
    "        null_embedding = np.array(\n",
    "            [('null_embedding', np.zeros((self.N_FEATURES,), dtype=np.float32))],\n",
    "            dtype=structure\n",
    "        )\n",
    "        embeddings = np.concatenate([embeddings, null_embedding])\n",
    "        # dump numpy array to disk using pickle\n",
    "        max_bytes = 2**28 - 1 # # 256MB\n",
    "        bytes_out = pickle.dumps(embeddings, protocol=pickle.HIGHEST_PROTOCOL)\n",
    "        with open(self.PKL_PATH, 'wb') as f_out:\n",
    "            for idx in range(0, len(bytes_out), max_bytes):\n",
    "                f_out.write(bytes_out[idx:idx+max_bytes])\n",
    "        self.logger.debug('words embeddings loaded')\n",
    "        return embeddings\n",
    "\n",
    "\n",
    "class GloveEmbeddings(WordsEmbeddings):\n",
    "    WORD_TO_VEC_MODEL_TXT_PATH = 'glove.twitter.27B.50d.txt'\n",
    "    PKL_PATH = 'gloveembedding.pkl'\n",
    "    N_FEATURES = 50\n",
    "    WORD_MAX_SIZE = 60\n",
    "\n",
    "\n",
    "class FasttextEmbeddings(WordsEmbeddings):\n",
    "    WORD_TO_VEC_MODEL_TXT_PATH = 'cc.en.300.vec'\n",
    "    PKL_PATH = './embeddings/fasttext.pkl'\n",
    "    N_FEATURES = 300\n",
    "    WORD_MAX_SIZE = 60"
   ]
  },
  {
   "cell_type": "code",
   "execution_count": 11,
   "metadata": {},
   "outputs": [],
   "source": [
    "model_fasttext = FasttextEmbeddings()"
   ]
  },
  {
   "cell_type": "code",
   "execution_count": 64,
   "metadata": {},
   "outputs": [
    {
     "name": "stdout",
     "output_type": "stream",
     "text": [
      "preparing embedding matrix...\n",
      "number of null word embeddings: 0\n"
     ]
    }
   ],
   "source": [
    "# Crear la Embedding matrix\n",
    "\n",
    "print('preparing embedding matrix...')\n",
    "embed_dim =300 # fasttext\n",
    "words_not_found = []\n",
    "\n",
    "# word_index provieen del tokenizer\n",
    "\n",
    "nb_words = min(num_words, len(word_index)) # vocab_size\n",
    "embedding_matrix = np.zeros((nb_words, embed_dim))\n",
    "for word, i in word_index.items():\n",
    "    if i >= nb_words:\n",
    "        continue\n",
    "    embedding_vector = model_fasttext.get_words_embeddings(word)[0]\n",
    "    if (embedding_vector is not None) and len(embedding_vector) > 0:\n",
    "        embedding_matrix[i] = embedding_vector\n",
    "    else:\n",
    "        # words not found in embedding index will be all-zeros.\n",
    "        words_not_found.append(word)\n",
    "        print(word)\n",
    "\n",
    "print('number of null word embeddings:', len(words_not_found))"
   ]
  },
  {
   "cell_type": "code",
   "execution_count": 65,
   "metadata": {},
   "outputs": [
    {
     "data": {
      "text/plain": [
       "<keras.layers.core.embedding.Embedding at 0x247cf2fb700>"
      ]
     },
     "execution_count": 65,
     "metadata": {},
     "output_type": "execute_result"
    }
   ],
   "source": [
    "Embedding(input_dim=vocab_size,  # definido en el Tokenizador\n",
    "          output_dim=embed_dim,  # dimensión de los embeddings utilizados\n",
    "          input_length=in_shape, # máxima sentencia de entrada\n",
    "          weights=[embedding_matrix],  # matrix de embeddings\n",
    "          trainable=False)      # marcar como layer no entrenable"
   ]
  },
  {
   "cell_type": "markdown",
   "metadata": {},
   "source": [
    "Defino el modelo con los mismo parámetros del anterior para poder hacer la comparación. "
   ]
  },
  {
   "cell_type": "code",
   "execution_count": 108,
   "metadata": {},
   "outputs": [
    {
     "name": "stdout",
     "output_type": "stream",
     "text": [
      "Model: \"sequential_7\"\n",
      "_________________________________________________________________\n",
      " Layer (type)                Output Shape              Param #   \n",
      "=================================================================\n",
      " embedding_9 (Embedding)     (None, 112, 300)          1200000   \n",
      "                                                                 \n",
      " lstm_14 (LSTM)              (None, 112, 32)           42624     \n",
      "                                                                 \n",
      " dropout_14 (Dropout)        (None, 112, 32)           0         \n",
      "                                                                 \n",
      " lstm_15 (LSTM)              (None, 16)                3136      \n",
      "                                                                 \n",
      " dense_14 (Dense)            (None, 64)                1088      \n",
      "                                                                 \n",
      " dropout_15 (Dropout)        (None, 64)                0         \n",
      "                                                                 \n",
      " dense_15 (Dense)            (None, 5)                 325       \n",
      "                                                                 \n",
      "=================================================================\n",
      "Total params: 1,247,173\n",
      "Trainable params: 47,173\n",
      "Non-trainable params: 1,200,000\n",
      "_________________________________________________________________\n"
     ]
    }
   ],
   "source": [
    "model2 = Sequential()\n",
    "# input_dim = vocab_size (max n_words)\n",
    "# input_length = setencias con padding a 200\n",
    "# output_dim = embed_dim (depende que embeddings pre entrenados utilizamos)\n",
    "model2.add(Embedding(input_dim=vocab_size, output_dim=embed_dim, input_length=in_shape,\n",
    "                     weights=[embedding_matrix], trainable=False))\n",
    "\n",
    "model2.add(LSTM(units=32, return_sequences=True))\n",
    "model2.add(Dropout(0.3))\n",
    "model2.add(LSTM(units=16)) # La última capa LSTM no lleva return_sequences\n",
    "\n",
    "model2.add(Dense(units=64, activation='relu'))\n",
    "model2.add(Dropout(rate=0.3))\n",
    "model2.add(Dense(units=out_shape, activation='softmax'))\n",
    "\n",
    "model2.compile(optimizer=\"adam\",\n",
    "              loss='sparse_categorical_crossentropy',\n",
    "              metrics=['accuracy'])\n",
    "\n",
    "model2.summary()"
   ]
  },
  {
   "cell_type": "code",
   "execution_count": 109,
   "metadata": {},
   "outputs": [
    {
     "name": "stdout",
     "output_type": "stream",
     "text": [
      "Epoch 1/15\n",
      "83/83 [==============================] - 12s 75ms/step - loss: 1.6104 - accuracy: 0.2120 - val_loss: 1.6162 - val_accuracy: 0.1750\n",
      "Epoch 2/15\n",
      "83/83 [==============================] - 5s 59ms/step - loss: 1.6108 - accuracy: 0.2037 - val_loss: 1.6039 - val_accuracy: 0.2314\n",
      "Epoch 3/15\n",
      "83/83 [==============================] - 5s 58ms/step - loss: 1.6009 - accuracy: 0.2349 - val_loss: 1.6056 - val_accuracy: 0.2268\n",
      "Epoch 4/15\n",
      "83/83 [==============================] - 5s 61ms/step - loss: 1.5951 - accuracy: 0.2246 - val_loss: 1.6015 - val_accuracy: 0.2253\n",
      "Epoch 5/15\n",
      "83/83 [==============================] - 5s 58ms/step - loss: 1.5854 - accuracy: 0.2478 - val_loss: 1.5919 - val_accuracy: 0.2283\n",
      "Epoch 6/15\n",
      "83/83 [==============================] - 5s 58ms/step - loss: 1.5752 - accuracy: 0.2608 - val_loss: 1.5756 - val_accuracy: 0.2405\n",
      "Epoch 7/15\n",
      "83/83 [==============================] - 5s 58ms/step - loss: 1.5646 - accuracy: 0.2585 - val_loss: 1.5956 - val_accuracy: 0.2314\n",
      "Epoch 8/15\n",
      "83/83 [==============================] - 5s 58ms/step - loss: 1.5559 - accuracy: 0.2657 - val_loss: 1.5521 - val_accuracy: 0.2603\n",
      "Epoch 9/15\n",
      "83/83 [==============================] - 5s 61ms/step - loss: 1.5680 - accuracy: 0.2608 - val_loss: 1.5554 - val_accuracy: 0.2633\n",
      "Epoch 10/15\n",
      "83/83 [==============================] - 5s 59ms/step - loss: 1.5335 - accuracy: 0.2897 - val_loss: 1.5485 - val_accuracy: 0.2846\n",
      "Epoch 11/15\n",
      "83/83 [==============================] - 5s 58ms/step - loss: 1.5214 - accuracy: 0.2855 - val_loss: 1.5440 - val_accuracy: 0.2846\n",
      "Epoch 12/15\n",
      "83/83 [==============================] - 5s 58ms/step - loss: 1.5062 - accuracy: 0.3087 - val_loss: 1.5531 - val_accuracy: 0.2679\n",
      "Epoch 13/15\n",
      "83/83 [==============================] - 5s 58ms/step - loss: 1.4866 - accuracy: 0.3213 - val_loss: 1.5511 - val_accuracy: 0.2740\n",
      "Epoch 14/15\n",
      "83/83 [==============================] - 5s 58ms/step - loss: 1.4717 - accuracy: 0.3194 - val_loss: 1.5572 - val_accuracy: 0.2740\n",
      "Epoch 15/15\n",
      "83/83 [==============================] - 5s 58ms/step - loss: 1.4586 - accuracy: 0.3274 - val_loss: 1.5641 - val_accuracy: 0.2861\n"
     ]
    }
   ],
   "source": [
    "hist2 = model2.fit(X_train, y_train, epochs=15, validation_split=0.2)"
   ]
  },
  {
   "cell_type": "code",
   "execution_count": 110,
   "metadata": {},
   "outputs": [
    {
     "data": {
      "image/png": "[encoded data removed]",
      "text/plain": [
       "<Figure size 640x480 with 1 Axes>"
      ]
     },
     "metadata": {},
     "output_type": "display_data"
    }
   ],
   "source": [
    "import matplotlib.pyplot as plt\n",
    "import seaborn as sns\n",
    "epoch_count = range(1, len(hist2.history['accuracy']) + 1)\n",
    "sns.lineplot(x=epoch_count,  y=hist2.history['accuracy'], label='train')\n",
    "sns.lineplot(x=epoch_count,  y=hist2.history['val_accuracy'], label='valid')\n",
    "plt.show()"
   ]
  },
  {
   "cell_type": "markdown",
   "metadata": {},
   "source": [
    "Conclusión: Con los embeddings entrenados mejora mucho la reducción de overfitting, sin embargo, la performance del modelo es baja. "
   ]
  },
  {
   "cell_type": "markdown",
   "metadata": {},
   "source": [
    "## Prueba con undersampling a la cantidad de muestras de la clase 2"
   ]
  },
  {
   "cell_type": "markdown",
   "metadata": {},
   "source": [
    "Voy a probar hacer un undersampling menos agresivo para tener un poco más de datos disponibles y ver si se puede mejorar la performance."
   ]
  },
  {
   "cell_type": "code",
   "execution_count": 112,
   "metadata": {},
   "outputs": [],
   "source": [
    "Rating_0 = df_reviews[df_reviews['Rating']==0]\n",
    "Rating_1 = df_reviews[df_reviews['Rating']==1]\n",
    "Rating_2 = df_reviews[df_reviews['Rating']==2]\n",
    "Rating_3 = df_reviews[df_reviews['Rating']==3]\n",
    "Rating_4 = df_reviews[df_reviews['Rating']==4]\n",
    "Rating_3 = Rating_3.sample(n=len(Rating_2), random_state=101)\n",
    "Rating_4 = Rating_4.sample(n=len(Rating_2), random_state=101)\n",
    "df_under_2 = pd.concat([Rating_0, Rating_1, Rating_2, Rating_3, Rating_4],axis=0)"
   ]
  },
  {
   "cell_type": "code",
   "execution_count": 113,
   "metadata": {},
   "outputs": [
    {
     "data": {
      "text/plain": [
       "2    2823\n",
       "3    2823\n",
       "4    2823\n",
       "1    1549\n",
       "0     821\n",
       "Name: Rating, dtype: int64"
      ]
     },
     "execution_count": 113,
     "metadata": {},
     "output_type": "execute_result"
    }
   ],
   "source": [
    "df_under_2['Rating'].value_counts()"
   ]
  },
  {
   "cell_type": "code",
   "execution_count": 120,
   "metadata": {},
   "outputs": [
    {
     "data": {
      "text/plain": [
       "(10839,)"
      ]
     },
     "execution_count": 120,
     "metadata": {},
     "output_type": "execute_result"
    }
   ],
   "source": [
    "text_sequences_2 = df_under_2['Review Text'].values\n",
    "text_sequences_2.shape"
   ]
  },
  {
   "cell_type": "code",
   "execution_count": 122,
   "metadata": {},
   "outputs": [],
   "source": [
    "corpus_2 = ' '.join(text_sequences_2)"
   ]
  },
  {
   "cell_type": "code",
   "execution_count": 123,
   "metadata": {},
   "outputs": [
    {
     "data": {
      "text/plain": [
       "3428145"
      ]
     },
     "execution_count": 123,
     "metadata": {},
     "output_type": "execute_result"
    }
   ],
   "source": [
    "len(corpus_2)"
   ]
  },
  {
   "cell_type": "code",
   "execution_count": 124,
   "metadata": {},
   "outputs": [],
   "source": [
    "tokens_2 = text_to_word_sequence(corpus_2)"
   ]
  },
  {
   "cell_type": "code",
   "execution_count": 125,
   "metadata": {},
   "outputs": [
    {
     "data": {
      "text/plain": [
       "['3',\n",
       " 'tags',\n",
       " 'sewn',\n",
       " 'in',\n",
       " '2',\n",
       " 'small',\n",
       " 'about',\n",
       " \"1''\",\n",
       " 'long',\n",
       " 'and',\n",
       " '1',\n",
       " 'huge',\n",
       " 'about',\n",
       " \"2''\",\n",
       " 'x',\n",
       " \"3''\",\n",
       " 'very',\n",
       " 'itchy',\n",
       " 'so',\n",
       " 'i']"
      ]
     },
     "execution_count": 125,
     "metadata": {},
     "output_type": "execute_result"
    }
   ],
   "source": [
    "tokens_2[:20]"
   ]
  },
  {
   "cell_type": "code",
   "execution_count": 126,
   "metadata": {},
   "outputs": [
    {
     "data": {
      "text/plain": [
       "671955"
      ]
     },
     "execution_count": 126,
     "metadata": {},
     "output_type": "execute_result"
    }
   ],
   "source": [
    "len(tokens_2)"
   ]
  },
  {
   "cell_type": "code",
   "execution_count": 127,
   "metadata": {},
   "outputs": [],
   "source": [
    "num_words = 4000\n",
    "vocab_size = num_words\n",
    "tok = Tokenizer(num_words=4000) \n",
    "tok.fit_on_texts(tokens_2)"
   ]
  },
  {
   "cell_type": "code",
   "execution_count": 128,
   "metadata": {},
   "outputs": [
    {
     "data": {
      "text/plain": [
       "10914"
      ]
     },
     "execution_count": 128,
     "metadata": {},
     "output_type": "execute_result"
    }
   ],
   "source": [
    "word_index_2 = tok.word_index\n",
    "len(word_index_2)"
   ]
  },
  {
   "cell_type": "code",
   "execution_count": 129,
   "metadata": {},
   "outputs": [],
   "source": [
    "sequences_2 = tok.texts_to_sequences(text_sequences_2)"
   ]
  },
  {
   "cell_type": "code",
   "execution_count": 130,
   "metadata": {},
   "outputs": [
    {
     "data": {
      "text/plain": [
       "[358, 2290, 694, 9, 163, 42, 120, 87, 3, 466]"
      ]
     },
     "execution_count": 130,
     "metadata": {},
     "output_type": "execute_result"
    }
   ],
   "source": [
    "sequences_2[0][:10]"
   ]
  },
  {
   "cell_type": "code",
   "execution_count": 132,
   "metadata": {},
   "outputs": [
    {
     "data": {
      "text/plain": [
       "115"
      ]
     },
     "execution_count": 132,
     "metadata": {},
     "output_type": "execute_result"
    }
   ],
   "source": [
    "max(len(s) for s in sequences_2)"
   ]
  },
  {
   "cell_type": "code",
   "execution_count": 133,
   "metadata": {},
   "outputs": [],
   "source": [
    "maxlen = 115\n",
    "X_2 = pad_sequences(sequences_2, padding='pre', maxlen=maxlen)"
   ]
  },
  {
   "cell_type": "code",
   "execution_count": 134,
   "metadata": {},
   "outputs": [
    {
     "data": {
      "text/plain": [
       "(10839, 115)"
      ]
     },
     "execution_count": 134,
     "metadata": {},
     "output_type": "execute_result"
    }
   ],
   "source": [
    "X_2.shape"
   ]
  },
  {
   "cell_type": "code",
   "execution_count": 136,
   "metadata": {},
   "outputs": [
    {
     "name": "stdout",
     "output_type": "stream",
     "text": [
      "(10839,)\n"
     ]
    }
   ],
   "source": [
    "y_2 = df_under_2['Rating'].values\n",
    "print(y.shape)"
   ]
  },
  {
   "cell_type": "code",
   "execution_count": 137,
   "metadata": {},
   "outputs": [],
   "source": [
    "X_train_2, X_test_2, y_train_2, y_test_2 = train_test_split(X_2, y_2, test_size=0.2, random_state=1)"
   ]
  },
  {
   "cell_type": "code",
   "execution_count": 142,
   "metadata": {},
   "outputs": [
    {
     "name": "stdout",
     "output_type": "stream",
     "text": [
      "in_shape 115 , out_shape 5\n"
     ]
    }
   ],
   "source": [
    "in_shape = X_train_2.shape[1] # max input sentence len\n",
    "out_shape = 5 # binary classification\n",
    "print(\"in_shape\", in_shape, \", out_shape\", out_shape)"
   ]
  },
  {
   "cell_type": "markdown",
   "metadata": {},
   "source": [
    "Vamos a entrenar la LSTM directamente con los embeddings pre-entrenados"
   ]
  },
  {
   "cell_type": "code",
   "execution_count": 169,
   "metadata": {},
   "outputs": [
    {
     "name": "stdout",
     "output_type": "stream",
     "text": [
      "Model: \"sequential_16\"\n",
      "_________________________________________________________________\n",
      " Layer (type)                Output Shape              Param #   \n",
      "=================================================================\n",
      " embedding_18 (Embedding)    (None, 115, 300)          1200000   \n",
      "                                                                 \n",
      " lstm_32 (LSTM)              (None, 115, 8)            9888      \n",
      "                                                                 \n",
      " dropout_32 (Dropout)        (None, 115, 8)            0         \n",
      "                                                                 \n",
      " lstm_33 (LSTM)              (None, 8)                 544       \n",
      "                                                                 \n",
      " dense_32 (Dense)            (None, 16)                144       \n",
      "                                                                 \n",
      " dropout_33 (Dropout)        (None, 16)                0         \n",
      "                                                                 \n",
      " dense_33 (Dense)            (None, 5)                 85        \n",
      "                                                                 \n",
      "=================================================================\n",
      "Total params: 1,210,661\n",
      "Trainable params: 10,661\n",
      "Non-trainable params: 1,200,000\n",
      "_________________________________________________________________\n"
     ]
    }
   ],
   "source": [
    "model3 = Sequential()\n",
    "# input_dim = vocab_size (max n_words)\n",
    "# input_length = setencias con padding a 200\n",
    "# output_dim = embed_dim (depende que embeddings pre entrenados utilizamos)\n",
    "model3.add(Embedding(input_dim=vocab_size, output_dim=embed_dim, input_length=in_shape,\n",
    "                     weights=[embedding_matrix], trainable=False))\n",
    "\n",
    "model3.add(LSTM(units=8, return_sequences=True))\n",
    "model3.add(Dropout(0.2))\n",
    "model3.add(LSTM(units=8)) # La última capa LSTM no lleva return_sequences\n",
    "\n",
    "model3.add(Dense(units=16, activation='relu'))\n",
    "model3.add(Dropout(rate=0.2))\n",
    "model3.add(Dense(units=out_shape, activation='softmax'))\n",
    "\n",
    "model3.compile(optimizer=\"adam\",\n",
    "              loss='sparse_categorical_crossentropy',\n",
    "              metrics=['accuracy'])\n",
    "\n",
    "model3.summary()"
   ]
  },
  {
   "cell_type": "code",
   "execution_count": 172,
   "metadata": {},
   "outputs": [
    {
     "name": "stdout",
     "output_type": "stream",
     "text": [
      "Epoch 1/30\n",
      "217/217 [==============================] - 10s 47ms/step - loss: 1.4574 - accuracy: 0.3483 - val_loss: 1.4646 - val_accuracy: 0.3424\n",
      "Epoch 2/30\n",
      "217/217 [==============================] - 10s 47ms/step - loss: 1.4539 - accuracy: 0.3535 - val_loss: 1.4609 - val_accuracy: 0.3573\n",
      "Epoch 3/30\n",
      "217/217 [==============================] - 10s 47ms/step - loss: 1.4514 - accuracy: 0.3567 - val_loss: 1.4598 - val_accuracy: 0.3470\n",
      "Epoch 4/30\n",
      "217/217 [==============================] - 10s 47ms/step - loss: 1.4471 - accuracy: 0.3612 - val_loss: 1.4580 - val_accuracy: 0.3441\n",
      "Epoch 5/30\n",
      "217/217 [==============================] - 10s 47ms/step - loss: 1.4434 - accuracy: 0.3558 - val_loss: 1.4556 - val_accuracy: 0.3556\n",
      "Epoch 6/30\n",
      "217/217 [==============================] - 10s 47ms/step - loss: 1.4444 - accuracy: 0.3622 - val_loss: 1.4584 - val_accuracy: 0.3550\n",
      "Epoch 7/30\n",
      "217/217 [==============================] - 10s 47ms/step - loss: 1.4369 - accuracy: 0.3658 - val_loss: 1.4569 - val_accuracy: 0.3487\n",
      "Epoch 8/30\n",
      "217/217 [==============================] - 10s 47ms/step - loss: 1.4363 - accuracy: 0.3694 - val_loss: 1.4615 - val_accuracy: 0.3372\n",
      "Epoch 9/30\n",
      "217/217 [==============================] - 10s 47ms/step - loss: 1.4372 - accuracy: 0.3653 - val_loss: 1.4683 - val_accuracy: 0.3424\n",
      "Epoch 10/30\n",
      "217/217 [==============================] - 10s 47ms/step - loss: 1.4339 - accuracy: 0.3702 - val_loss: 1.4555 - val_accuracy: 0.3493\n",
      "Epoch 11/30\n",
      "217/217 [==============================] - 10s 47ms/step - loss: 1.4339 - accuracy: 0.3635 - val_loss: 1.4514 - val_accuracy: 0.3452\n",
      "Epoch 12/30\n",
      "217/217 [==============================] - 10s 47ms/step - loss: 1.4292 - accuracy: 0.3622 - val_loss: 1.4477 - val_accuracy: 0.3476\n",
      "Epoch 13/30\n",
      "217/217 [==============================] - 10s 47ms/step - loss: 1.4281 - accuracy: 0.3663 - val_loss: 1.4504 - val_accuracy: 0.3470\n",
      "Epoch 14/30\n",
      "217/217 [==============================] - 10s 47ms/step - loss: 1.4244 - accuracy: 0.3720 - val_loss: 1.4528 - val_accuracy: 0.3452\n",
      "Epoch 15/30\n",
      "217/217 [==============================] - 10s 47ms/step - loss: 1.4234 - accuracy: 0.3671 - val_loss: 1.4507 - val_accuracy: 0.3499\n",
      "Epoch 16/30\n",
      "217/217 [==============================] - 10s 47ms/step - loss: 1.4219 - accuracy: 0.3702 - val_loss: 1.4456 - val_accuracy: 0.3527\n",
      "Epoch 17/30\n",
      "217/217 [==============================] - 10s 47ms/step - loss: 1.4226 - accuracy: 0.3736 - val_loss: 1.4477 - val_accuracy: 0.3447\n",
      "Epoch 18/30\n",
      "217/217 [==============================] - 10s 47ms/step - loss: 1.4181 - accuracy: 0.3659 - val_loss: 1.4470 - val_accuracy: 0.3435\n",
      "Epoch 19/30\n",
      "217/217 [==============================] - 10s 47ms/step - loss: 1.4161 - accuracy: 0.3705 - val_loss: 1.4482 - val_accuracy: 0.3458\n",
      "Epoch 20/30\n",
      "217/217 [==============================] - 10s 47ms/step - loss: 1.4172 - accuracy: 0.3720 - val_loss: 1.4428 - val_accuracy: 0.3539\n",
      "Epoch 21/30\n",
      "217/217 [==============================] - 10s 47ms/step - loss: 1.4164 - accuracy: 0.3688 - val_loss: 1.4438 - val_accuracy: 0.3597\n",
      "Epoch 22/30\n",
      "217/217 [==============================] - 10s 47ms/step - loss: 1.4137 - accuracy: 0.3772 - val_loss: 1.4436 - val_accuracy: 0.3487\n",
      "Epoch 23/30\n",
      "217/217 [==============================] - 10s 47ms/step - loss: 1.4154 - accuracy: 0.3679 - val_loss: 1.4394 - val_accuracy: 0.3493\n",
      "Epoch 24/30\n",
      "217/217 [==============================] - 10s 47ms/step - loss: 1.4098 - accuracy: 0.3805 - val_loss: 1.4473 - val_accuracy: 0.3464\n",
      "Epoch 25/30\n",
      "217/217 [==============================] - 10s 47ms/step - loss: 1.4085 - accuracy: 0.3744 - val_loss: 1.4410 - val_accuracy: 0.3499\n",
      "Epoch 26/30\n",
      "217/217 [==============================] - 10s 48ms/step - loss: 1.4075 - accuracy: 0.3730 - val_loss: 1.4388 - val_accuracy: 0.3533\n",
      "Epoch 27/30\n",
      "217/217 [==============================] - 10s 47ms/step - loss: 1.4082 - accuracy: 0.3818 - val_loss: 1.4399 - val_accuracy: 0.3499\n",
      "Epoch 28/30\n",
      "217/217 [==============================] - 10s 47ms/step - loss: 1.4025 - accuracy: 0.3787 - val_loss: 1.4360 - val_accuracy: 0.3533\n",
      "Epoch 29/30\n",
      "217/217 [==============================] - 10s 47ms/step - loss: 1.4032 - accuracy: 0.3777 - val_loss: 1.4410 - val_accuracy: 0.3499\n",
      "Epoch 30/30\n",
      "217/217 [==============================] - 10s 47ms/step - loss: 1.3996 - accuracy: 0.3826 - val_loss: 1.4378 - val_accuracy: 0.3464\n"
     ]
    }
   ],
   "source": [
    "hist3 = model3.fit(X_train_2, y_train_2, epochs=30, validation_split=0.2)"
   ]
  },
  {
   "cell_type": "code",
   "execution_count": 173,
   "metadata": {},
   "outputs": [
    {
     "data": {
      "image/png": "[encoded data removed]",
      "text/plain": [
       "<Figure size 640x480 with 1 Axes>"
      ]
     },
     "metadata": {},
     "output_type": "display_data"
    }
   ],
   "source": [
    "import matplotlib.pyplot as plt\n",
    "import seaborn as sns\n",
    "epoch_count = range(1, len(hist3.history['accuracy']) + 1)\n",
    "sns.lineplot(x=epoch_count,  y=hist3.history['accuracy'], label='train')\n",
    "sns.lineplot(x=epoch_count,  y=hist3.history['val_accuracy'], label='valid')\n",
    "plt.show()"
   ]
  },
  {
   "cell_type": "code",
   "execution_count": 174,
   "metadata": {},
   "outputs": [
    {
     "name": "stdout",
     "output_type": "stream",
     "text": [
      "68/68 [==============================] - 1s 13ms/step - loss: 1.4522 - accuracy: 0.3450\n"
     ]
    },
    {
     "data": {
      "text/plain": [
       "[1.4521921873092651, 0.3450184464454651]"
      ]
     },
     "execution_count": 174,
     "metadata": {},
     "output_type": "execute_result"
    }
   ],
   "source": [
    "model3.evaluate(X_test_2, y_test_2)"
   ]
  },
  {
   "cell_type": "markdown",
   "metadata": {},
   "source": [
    "## Prueba con reducción de clases"
   ]
  },
  {
   "cell_type": "markdown",
   "metadata": {},
   "source": [
    "Haré una prueba con reducción de clases: pasar de 5 clases a 3. "
   ]
  },
  {
   "cell_type": "code",
   "execution_count": 102,
   "metadata": {},
   "outputs": [],
   "source": [
    "Rating_0 = df_reviews[df_reviews['Rating']==0]\n",
    "Rating_1 = df_reviews[df_reviews['Rating']==0]\n",
    "Rating_2 = df_reviews[df_reviews['Rating']==0]\n",
    "Rating_3 = df_reviews[df_reviews['Rating']==1]\n",
    "Rating_4 = df_reviews[df_reviews['Rating']==2]\n",
    "df_under_3 = pd.concat([Rating_0, Rating_1, Rating_2, Rating_3, Rating_4],axis=0)"
   ]
  },
  {
   "cell_type": "code",
   "execution_count": 103,
   "metadata": {},
   "outputs": [
    {
     "data": {
      "text/plain": [
       "2    2823\n",
       "0    2463\n",
       "1    1549\n",
       "Name: Rating, dtype: int64"
      ]
     },
     "execution_count": 103,
     "metadata": {},
     "output_type": "execute_result"
    }
   ],
   "source": [
    "df_under_3['Rating'].value_counts()"
   ]
  },
  {
   "cell_type": "code",
   "execution_count": 104,
   "metadata": {},
   "outputs": [
    {
     "data": {
      "image/png": "[encoded data removed]",
      "text/plain": [
       "<Figure size 640x480 with 1 Axes>"
      ]
     },
     "metadata": {},
     "output_type": "display_data"
    }
   ],
   "source": [
    "sns.countplot(x=df_under_3['Rating'], data=df_reviews)\n",
    "plt.show()"
   ]
  },
  {
   "cell_type": "code",
   "execution_count": 105,
   "metadata": {},
   "outputs": [
    {
     "data": {
      "text/plain": [
       "(6835,)"
      ]
     },
     "execution_count": 105,
     "metadata": {},
     "output_type": "execute_result"
    }
   ],
   "source": [
    "text_sequences_3 = df_under_3['Review Text'].values\n",
    "text_sequences_3.shape"
   ]
  },
  {
   "cell_type": "code",
   "execution_count": 106,
   "metadata": {},
   "outputs": [],
   "source": [
    "corpus_3 = ' '.join(text_sequences_3)"
   ]
  },
  {
   "cell_type": "code",
   "execution_count": 107,
   "metadata": {},
   "outputs": [
    {
     "data": {
      "text/plain": [
       "2173775"
      ]
     },
     "execution_count": 107,
     "metadata": {},
     "output_type": "execute_result"
    }
   ],
   "source": [
    "len(corpus_3)"
   ]
  },
  {
   "cell_type": "code",
   "execution_count": 108,
   "metadata": {},
   "outputs": [],
   "source": [
    "tokens_3 = text_to_word_sequence(corpus_3)"
   ]
  },
  {
   "cell_type": "code",
   "execution_count": 109,
   "metadata": {},
   "outputs": [
    {
     "data": {
      "text/plain": [
       "['3',\n",
       " 'tags',\n",
       " 'sewn',\n",
       " 'in',\n",
       " '2',\n",
       " 'small',\n",
       " 'about',\n",
       " \"1''\",\n",
       " 'long',\n",
       " 'and',\n",
       " '1',\n",
       " 'huge',\n",
       " 'about',\n",
       " \"2''\",\n",
       " 'x',\n",
       " \"3''\",\n",
       " 'very',\n",
       " 'itchy',\n",
       " 'so',\n",
       " 'i']"
      ]
     },
     "execution_count": 109,
     "metadata": {},
     "output_type": "execute_result"
    }
   ],
   "source": [
    "tokens_3[:20]"
   ]
  },
  {
   "cell_type": "code",
   "execution_count": 110,
   "metadata": {},
   "outputs": [
    {
     "data": {
      "text/plain": [
       "424523"
      ]
     },
     "execution_count": 110,
     "metadata": {},
     "output_type": "execute_result"
    }
   ],
   "source": [
    "len(tokens_3)"
   ]
  },
  {
   "cell_type": "code",
   "execution_count": 111,
   "metadata": {},
   "outputs": [],
   "source": [
    "num_words = 4000\n",
    "vocab_size = num_words\n",
    "tok = Tokenizer(num_words=4000) \n",
    "tok.fit_on_texts(tokens_3)"
   ]
  },
  {
   "cell_type": "code",
   "execution_count": 112,
   "metadata": {},
   "outputs": [
    {
     "data": {
      "text/plain": [
       "7922"
      ]
     },
     "execution_count": 112,
     "metadata": {},
     "output_type": "execute_result"
    }
   ],
   "source": [
    "word_index_3 = tok.word_index\n",
    "len(word_index_3)"
   ]
  },
  {
   "cell_type": "code",
   "execution_count": 113,
   "metadata": {},
   "outputs": [],
   "source": [
    "sequences_3 = tok.texts_to_sequences(text_sequences_3)"
   ]
  },
  {
   "cell_type": "code",
   "execution_count": 114,
   "metadata": {},
   "outputs": [
    {
     "data": {
      "text/plain": [
       "[350, 1401, 517, 10, 172, 39, 116, 3501, 117, 4]"
      ]
     },
     "execution_count": 114,
     "metadata": {},
     "output_type": "execute_result"
    }
   ],
   "source": [
    "sequences_3[0][:10]"
   ]
  },
  {
   "cell_type": "code",
   "execution_count": 115,
   "metadata": {},
   "outputs": [
    {
     "data": {
      "text/plain": [
       "116"
      ]
     },
     "execution_count": 115,
     "metadata": {},
     "output_type": "execute_result"
    }
   ],
   "source": [
    "max(len(s) for s in sequences_3)"
   ]
  },
  {
   "cell_type": "code",
   "execution_count": 116,
   "metadata": {},
   "outputs": [],
   "source": [
    "maxlen = 116\n",
    "X_3 = pad_sequences(sequences_3, padding='pre', maxlen=maxlen)"
   ]
  },
  {
   "cell_type": "code",
   "execution_count": 117,
   "metadata": {},
   "outputs": [
    {
     "data": {
      "text/plain": [
       "(6835, 116)"
      ]
     },
     "execution_count": 117,
     "metadata": {},
     "output_type": "execute_result"
    }
   ],
   "source": [
    "X_3.shape"
   ]
  },
  {
   "cell_type": "code",
   "execution_count": 118,
   "metadata": {},
   "outputs": [
    {
     "name": "stdout",
     "output_type": "stream",
     "text": [
      "(6835,)\n"
     ]
    }
   ],
   "source": [
    "y_3 = df_under_3['Rating'].values\n",
    "print(y_3.shape)"
   ]
  },
  {
   "cell_type": "code",
   "execution_count": 119,
   "metadata": {},
   "outputs": [],
   "source": [
    "X_train_3, X_test_3, y_train_3, y_test_3 = train_test_split(X_3, y_3, test_size=0.2, random_state=1)"
   ]
  },
  {
   "cell_type": "code",
   "execution_count": 120,
   "metadata": {},
   "outputs": [
    {
     "name": "stdout",
     "output_type": "stream",
     "text": [
      "in_shape 116 , out_shape 3\n"
     ]
    }
   ],
   "source": [
    "in_shape = X_train_3.shape[1] # max input sentence len\n",
    "out_shape = 3 # binary classification\n",
    "print(\"in_shape\", in_shape, \", out_shape\", out_shape)"
   ]
  },
  {
   "cell_type": "code",
   "execution_count": 121,
   "metadata": {},
   "outputs": [
    {
     "name": "stdout",
     "output_type": "stream",
     "text": [
      "Model: \"sequential_6\"\n",
      "_________________________________________________________________\n",
      " Layer (type)                Output Shape              Param #   \n",
      "=================================================================\n",
      " embedding_6 (Embedding)     (None, 116, 300)          1200000   \n",
      "                                                                 \n",
      " lstm_9 (LSTM)               (None, 116, 64)           93440     \n",
      "                                                                 \n",
      " dropout_8 (Dropout)         (None, 116, 64)           0         \n",
      "                                                                 \n",
      " lstm_10 (LSTM)              (None, 64)                33024     \n",
      "                                                                 \n",
      " dense_8 (Dense)             (None, 32)                2080      \n",
      "                                                                 \n",
      " dropout_9 (Dropout)         (None, 32)                0         \n",
      "                                                                 \n",
      " dense_9 (Dense)             (None, 3)                 99        \n",
      "                                                                 \n",
      "=================================================================\n",
      "Total params: 1,328,643\n",
      "Trainable params: 128,643\n",
      "Non-trainable params: 1,200,000\n",
      "_________________________________________________________________\n"
     ]
    }
   ],
   "source": [
    "model3 = Sequential()\n",
    "# input_dim = vocab_size (max n_words)\n",
    "# input_length = setencias con padding a 200\n",
    "# output_dim = embed_dim (depende que embeddings pre entrenados utilizamos)\n",
    "model3.add(Embedding(input_dim=vocab_size, output_dim=embed_dim, input_length=in_shape,\n",
    "                     weights=[embedding_matrix], trainable=False))\n",
    "\n",
    "model3.add(LSTM(units=64, return_sequences=True))\n",
    "model3.add(Dropout(0.2))\n",
    "model3.add(LSTM(units=64)) # La última capa LSTM no lleva return_sequences\n",
    "\n",
    "model3.add(Dense(units=32, activation='relu'))\n",
    "model3.add(Dropout(rate=0.2))\n",
    "model3.add(Dense(units=out_shape, activation='softmax'))\n",
    "\n",
    "model3.compile(optimizer=\"adam\",\n",
    "              loss='sparse_categorical_crossentropy',\n",
    "              metrics=['accuracy'])\n",
    "\n",
    "model3.summary()"
   ]
  },
  {
   "cell_type": "code",
   "execution_count": 122,
   "metadata": {},
   "outputs": [
    {
     "name": "stdout",
     "output_type": "stream",
     "text": [
      "Epoch 1/10\n",
      "137/137 [==============================] - 19s 107ms/step - loss: 1.0775 - accuracy: 0.3916 - val_loss: 1.0779 - val_accuracy: 0.3537\n",
      "Epoch 2/10\n",
      "137/137 [==============================] - 11s 77ms/step - loss: 1.0707 - accuracy: 0.4086 - val_loss: 1.0660 - val_accuracy: 0.4333\n",
      "Epoch 3/10\n",
      "137/137 [==============================] - 10s 72ms/step - loss: 1.0672 - accuracy: 0.4239 - val_loss: 1.0642 - val_accuracy: 0.4406\n",
      "Epoch 4/10\n",
      "137/137 [==============================] - 10s 72ms/step - loss: 1.0622 - accuracy: 0.4323 - val_loss: 1.0586 - val_accuracy: 0.4214\n",
      "Epoch 5/10\n",
      "137/137 [==============================] - 10s 75ms/step - loss: 1.0553 - accuracy: 0.4458 - val_loss: 1.0486 - val_accuracy: 0.4634\n",
      "Epoch 6/10\n",
      "137/137 [==============================] - 11s 77ms/step - loss: 1.0467 - accuracy: 0.4579 - val_loss: 1.0462 - val_accuracy: 0.4634\n",
      "Epoch 7/10\n",
      "137/137 [==============================] - 10s 71ms/step - loss: 1.0401 - accuracy: 0.4758 - val_loss: 1.0486 - val_accuracy: 0.4589\n",
      "Epoch 8/10\n",
      "137/137 [==============================] - 10s 71ms/step - loss: 1.0288 - accuracy: 0.4881 - val_loss: 1.0374 - val_accuracy: 0.4771\n",
      "Epoch 9/10\n",
      "137/137 [==============================] - 10s 71ms/step - loss: 1.0119 - accuracy: 0.4963 - val_loss: 1.0480 - val_accuracy: 0.4543\n",
      "Epoch 10/10\n",
      "137/137 [==============================] - 10s 74ms/step - loss: 0.9943 - accuracy: 0.5121 - val_loss: 1.0243 - val_accuracy: 0.5009\n"
     ]
    }
   ],
   "source": [
    "hist4 = model3.fit(X_train_3, y_train_3, epochs=10, validation_split=0.2)"
   ]
  },
  {
   "cell_type": "code",
   "execution_count": 123,
   "metadata": {},
   "outputs": [
    {
     "data": {
      "image/png": "[encoded data removed]",
      "text/plain": [
       "<Figure size 640x480 with 1 Axes>"
      ]
     },
     "metadata": {},
     "output_type": "display_data"
    }
   ],
   "source": [
    "import matplotlib.pyplot as plt\n",
    "import seaborn as sns\n",
    "epoch_count = range(1, len(hist4.history['accuracy']) + 1)\n",
    "sns.lineplot(x=epoch_count,  y=hist4.history['accuracy'], label='train')\n",
    "sns.lineplot(x=epoch_count,  y=hist4.history['val_accuracy'], label='valid')\n",
    "plt.show()"
   ]
  },
  {
   "cell_type": "markdown",
   "metadata": {},
   "source": [
    "El mejor resultado lo obtuvimos reduciendo las clases a 3, sin embargo sigue siendo un resultado bajo. "
   ]
  },
  {
   "cell_type": "code",
   "execution_count": null,
   "metadata": {},
   "outputs": [],
   "source": []
  }
 ],
 "metadata": {
  "accelerator": "GPU",
  "colab": {
   "authorship_tag": "ABX9TyPDU98WqI1eIPhnZ3eGFqqe",
   "collapsed_sections": [],
   "name": "5d - clothing_ecommerce_reviews.ipynb",
   "provenance": []
  },
  "kernelspec": {
   "display_name": "nlp",
   "language": "python",
   "name": "nlp"
  },
  "language_info": {
   "codemirror_mode": {
    "name": "ipython",
    "version": 3
   },
   "file_extension": ".py",
   "mimetype": "text/x-python",
   "name": "python",
   "nbconvert_exporter": "python",
   "pygments_lexer": "ipython3",
   "version": "3.9.1"
  }
 },
 "nbformat": 4,
 "nbformat_minor": 1
}
